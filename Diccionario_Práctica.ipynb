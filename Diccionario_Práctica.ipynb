{
  "nbformat": 4,
  "nbformat_minor": 0,
  "metadata": {
    "colab": {
      "provenance": [],
      "include_colab_link": true
    },
    "kernelspec": {
      "name": "python3",
      "display_name": "Python 3"
    },
    "language_info": {
      "name": "python"
    }
  },
  "cells": [
    {
      "cell_type": "markdown",
      "metadata": {
        "id": "view-in-github",
        "colab_type": "text"
      },
      "source": [
        "<a href=\"https://colab.research.google.com/github/shin-lunita/tps-pii-colab-copy/blob/main/Diccionario_Pr%C3%A1ctica.ipynb\" target=\"_parent\"><img src=\"https://colab.research.google.com/assets/colab-badge.svg\" alt=\"Open In Colab\"/></a>"
      ]
    },
    {
      "cell_type": "code",
      "execution_count": 2,
      "metadata": {
        "id": "8VOD-zpMJovw"
      },
      "outputs": [],
      "source": [
        "# Listas de alumnos\n",
        "estudiantes_5d = [\n",
        "   (\"Alurralde, Solange Stefania\",\"D\",\"02/04/2007\"),\n",
        "   (\"Alvarado, Ludmila Del Milagro\",\"D\",\"06/09/2006\"),\n",
        "   (\"Angel, Camila Juliana\",\"D\",\"07/03/2007\"),\n",
        "   (\"Arenas, Lucas Gabriel\",\"D\",\"26/06/2007\"),\n",
        "   (\"Caseres, Maria Antonia\",\"D\",\"01/07/2006\"),\n",
        "   (\"Castillo, Paulina Milagros\",\"D\",\"01/06/2007\"),\n",
        "   (\"Correa Segovia, Hugo Mariano\",\"D\",\"04/12/2006\"),\n",
        "   (\"D Elia, Alvaro Tadeo\",\"D\",\"27/08/2006\"),\n",
        "   (\"Flores, Victoria Agustina\",\"D\",\"12/12/2006\"),\n",
        "   (\"Geronimo Soriano, Lizzie Amaya\",\"D\",\"20/01/2007\"),\n",
        "   (\"GUZMAN, ANGÉLICA MORENA\",\"D\",\"11/04/2007\"),\n",
        "   (\"Guzman, Jazmin Esmeralda Belen\",\"D\",\"31/07/2006\"),\n",
        "   (\"Jaime, Anita Maria Belen\",\"D\",\"19/04/2007\"),\n",
        "   (\"Lacour Polo, Nazarena\",\"D\",\"19/12/2005\"),\n",
        "   (\"Lascano Guanca, Marcelo Fabricio\",\"D\",\"17/02/2006\"),\n",
        "   (\"Lezcano, Celia Morena\",\"D\",\"01/07/2005\"),\n",
        "   (\"Martinez, Tomas Andres\",\"D\",\"22/03/2007\"),\n",
        "   (\"PORTELLA VALDIVIA, PEDRO FRANCISCO\",\"D\",\"24/01/2007\"),\n",
        "   (\"Retamal Cisneros, Zacarias Josue\",\"D\",\"24/02/2007\"),\n",
        "   (\"Rosales, Francisco Gabriel\",\"D\",\"14/11/2006\"),\n",
        "   (\"Salem Barba, Mahia\",\"D\",\"14/10/2005\"),\n",
        "   (\"Soto Camara, Agustin Ignacio\",\"D\",\"07/11/2005\"),\n",
        "   (\"Villalba, Irina\",\"D\",\"09/09/2006\"),\n",
        "   (\"Voltolini, Emanuel Tobias\",\"D\",\"17/09/2006\"),\n",
        "   (\"Zalazar, Santino Stefano\",\"D\",\"30/09/2006\")\n",
        "]\n",
        "\n",
        "estudiantes_5c=[\n",
        "    (\"ABUD LASPIUR, LOURDES MARIEL\",\"C\",\"05/12/2006\"),\n",
        "    (\"Amador, Luana Micaela\",\"C\",\"09/12/2006\"),\n",
        "    (\"Anaquin, Leonardo Ezequiel\",\"C\",\"06/09/2005\"),\n",
        "    (\"Araoz Sanchez, Lautaro Nahuel\",\"C\",\"28/12/2005\"),\n",
        "    (\"Argañaraz, Agostina Abril\",\"C\",\"11/10/2006\"),\n",
        "    (\"Barrera, Matias Ezequiel\",\"C\",\"27/02/2007\"),\n",
        "    (\"Barrozo Vedia, Joaquin Nicolas\",\"C\",\"15/04/2006\"),\n",
        "    (\"Bettinelli, Valentino\",\"C\",\"12/07/2006\"),\n",
        "    (\"Bracamonte Martinez, Salvador\",\"C\",\"02/11/2005\"),\n",
        "    (\"Colque Rivero, Ariana Zoe Del Valle\",\"C\",\"27/12/2006\"),\n",
        "    (\"Diaz, Dulce Maitena\",\"C\",\"11/12/2006\"),\n",
        "    (\"FIGUEROA, SANTINO JOSUE\",\"C\",\"12/05/2007\"),\n",
        "    (\"Flores Cardozo, Agustina Tiara\",\"C\",\"18/03/2006\"),\n",
        "    (\"Gallo, Octavio Ismael\",\"C\",\"04/08/2006\"),\n",
        "    (\"Galvan, Lourdes Yamila\",\"C\",\"19/08/2005\"),\n",
        "    (\"Giangreco, Vitto Tomasso\",\"C\",\"21/03/2007\"),\n",
        "    (\"Grancara, Martina Luna\",\"C\",\"15/12/2006\"),\n",
        "    (\"Guanca, Sara Elizabeth\",\"C\",\"17/01/2007\"),\n",
        "    (\"Lopez, Victoria Constanza\",\"C\",\"12/11/2007\"),\n",
        "    (\"Mamani Garrido, Rosario Agostina\",\"C\",\"24/10/2006\"),\n",
        "    (\"Marinaro, Martin Ezequiel\",\"C\",\"03/11/2006\"),\n",
        "    (\"Merluzzi Dagum, Ignacio\",\"C\",\"22/12/2005\"),\n",
        "    (\"Messina, Martina\",\"C\",\"13/07/2005\"),\n",
        "    (\"RASUK, KARIM\", \"C\",\"13/07/2007\"),\n",
        "    (\"Rios, Lucia Magali\",\"C\",\"22/09/2006\"),\n",
        "    (\"Sanchez Flores, Matías Agustín\",\"C\",\"15/02/2007\"),\n",
        "    (\"Scarano, Renato Marcelo\",\"C\",\"06/12/2006\"),\n",
        "    (\"Sierra, Lucas Mauricio\",\"C\",\"03/04/2005\"),\n",
        "    (\"Tapia, Martin Gabriel\",\"C\",\"30/05/2006\"),\n",
        "    (\"Vilte, Mia Antonella Alondra\",\"C\",\"10/09/2005\"),\n",
        "    (\"Virgillito, Katya Milena\",\"C\",\"19/06/2007\")\n",
        "]"
      ]
    },
    {
      "cell_type": "markdown",
      "source": [
        "## Dada la lista estudiantes:\n",
        "> - Hacer una celda para resolver cada punto.\n",
        "- El TP resuelto será revisado en tu repositorio, no es necesario que lo envíes, pero sí que lo pushees correctamente.\n",
        "- En la nota inicial se contempla:\n",
        "  - La incorporación de este documento a tu propio respositorio.\n",
        "  - El pusheo de los cambios realizados.\n",
        "  - La resolución de los ejercicios propuestos.\n"
      ],
      "metadata": {
        "id": "rd6Ug6v3J4uN"
      }
    },
    {
      "cell_type": "markdown",
      "source": [
        "1. Reemplaza todos los valores del nombre por los que obtengas del método title(). De esta manera las listas quedaran con los datos más homogéneos."
      ],
      "metadata": {
        "id": "wRLng-uURyJ3"
      }
    },
    {
      "cell_type": "code",
      "source": [
        "for i in range(len(estudiantes_5d)):\n",
        "    nombre_completo,division,fecha_nacimiento = estudiantes_5d[i]\n",
        "    estudiantes_5d[i] = nombre_completo.title(),division, fecha_nacimiento\n",
        "for estudiante in estudiantes_5d:\n",
        "    print(estudiante)"
      ],
      "metadata": {
        "id": "5lFqJoTaSIWi",
        "colab": {
          "base_uri": "https://localhost:8080/"
        },
        "outputId": "c77fde72-d96b-4bed-e929-21b1dfc21440"
      },
      "execution_count": 3,
      "outputs": [
        {
          "output_type": "stream",
          "name": "stdout",
          "text": [
            "('Alurralde, Solange Stefania', 'D', '02/04/2007')\n",
            "('Alvarado, Ludmila Del Milagro', 'D', '06/09/2006')\n",
            "('Angel, Camila Juliana', 'D', '07/03/2007')\n",
            "('Arenas, Lucas Gabriel', 'D', '26/06/2007')\n",
            "('Caseres, Maria Antonia', 'D', '01/07/2006')\n",
            "('Castillo, Paulina Milagros', 'D', '01/06/2007')\n",
            "('Correa Segovia, Hugo Mariano', 'D', '04/12/2006')\n",
            "('D Elia, Alvaro Tadeo', 'D', '27/08/2006')\n",
            "('Flores, Victoria Agustina', 'D', '12/12/2006')\n",
            "('Geronimo Soriano, Lizzie Amaya', 'D', '20/01/2007')\n",
            "('Guzman, Angélica Morena', 'D', '11/04/2007')\n",
            "('Guzman, Jazmin Esmeralda Belen', 'D', '31/07/2006')\n",
            "('Jaime, Anita Maria Belen', 'D', '19/04/2007')\n",
            "('Lacour Polo, Nazarena', 'D', '19/12/2005')\n",
            "('Lascano Guanca, Marcelo Fabricio', 'D', '17/02/2006')\n",
            "('Lezcano, Celia Morena', 'D', '01/07/2005')\n",
            "('Martinez, Tomas Andres', 'D', '22/03/2007')\n",
            "('Portella Valdivia, Pedro Francisco', 'D', '24/01/2007')\n",
            "('Retamal Cisneros, Zacarias Josue', 'D', '24/02/2007')\n",
            "('Rosales, Francisco Gabriel', 'D', '14/11/2006')\n",
            "('Salem Barba, Mahia', 'D', '14/10/2005')\n",
            "('Soto Camara, Agustin Ignacio', 'D', '07/11/2005')\n",
            "('Villalba, Irina', 'D', '09/09/2006')\n",
            "('Voltolini, Emanuel Tobias', 'D', '17/09/2006')\n",
            "('Zalazar, Santino Stefano', 'D', '30/09/2006')\n"
          ]
        }
      ]
    },
    {
      "cell_type": "code",
      "source": [
        "for i in range(len(estudiantes_5c)):\n",
        "    nombre_completo,division,fecha_nacimiento = estudiantes_5c[i]\n",
        "    estudiantes_5c[i] = nombre_completo.title(),division, fecha_nacimiento\n",
        "for estudiante in estudiantes_5c:\n",
        "    print(estudiante)"
      ],
      "metadata": {
        "colab": {
          "base_uri": "https://localhost:8080/"
        },
        "id": "CC898fsxNZkg",
        "outputId": "2e609186-7051-40b6-fc3e-ff60583745dd"
      },
      "execution_count": 4,
      "outputs": [
        {
          "output_type": "stream",
          "name": "stdout",
          "text": [
            "('Abud Laspiur, Lourdes Mariel', 'C', '05/12/2006')\n",
            "('Amador, Luana Micaela', 'C', '09/12/2006')\n",
            "('Anaquin, Leonardo Ezequiel', 'C', '06/09/2005')\n",
            "('Araoz Sanchez, Lautaro Nahuel', 'C', '28/12/2005')\n",
            "('Argañaraz, Agostina Abril', 'C', '11/10/2006')\n",
            "('Barrera, Matias Ezequiel', 'C', '27/02/2007')\n",
            "('Barrozo Vedia, Joaquin Nicolas', 'C', '15/04/2006')\n",
            "('Bettinelli, Valentino', 'C', '12/07/2006')\n",
            "('Bracamonte Martinez, Salvador', 'C', '02/11/2005')\n",
            "('Colque Rivero, Ariana Zoe Del Valle', 'C', '27/12/2006')\n",
            "('Diaz, Dulce Maitena', 'C', '11/12/2006')\n",
            "('Figueroa, Santino Josue', 'C', '12/05/2007')\n",
            "('Flores Cardozo, Agustina Tiara', 'C', '18/03/2006')\n",
            "('Gallo, Octavio Ismael', 'C', '04/08/2006')\n",
            "('Galvan, Lourdes Yamila', 'C', '19/08/2005')\n",
            "('Giangreco, Vitto Tomasso', 'C', '21/03/2007')\n",
            "('Grancara, Martina Luna', 'C', '15/12/2006')\n",
            "('Guanca, Sara Elizabeth', 'C', '17/01/2007')\n",
            "('Lopez, Victoria Constanza', 'C', '12/11/2007')\n",
            "('Mamani Garrido, Rosario Agostina', 'C', '24/10/2006')\n",
            "('Marinaro, Martin Ezequiel', 'C', '03/11/2006')\n",
            "('Merluzzi Dagum, Ignacio', 'C', '22/12/2005')\n",
            "('Messina, Martina', 'C', '13/07/2005')\n",
            "('Rasuk, Karim', 'C', '13/07/2007')\n",
            "('Rios, Lucia Magali', 'C', '22/09/2006')\n",
            "('Sanchez Flores, Matías Agustín', 'C', '15/02/2007')\n",
            "('Scarano, Renato Marcelo', 'C', '06/12/2006')\n",
            "('Sierra, Lucas Mauricio', 'C', '03/04/2005')\n",
            "('Tapia, Martin Gabriel', 'C', '30/05/2006')\n",
            "('Vilte, Mia Antonella Alondra', 'C', '10/09/2005')\n",
            "('Virgillito, Katya Milena', 'C', '19/06/2007')\n"
          ]
        }
      ]
    },
    {
      "cell_type": "markdown",
      "source": [
        "2. Genera una lista de diccionarios con los datos de las listas, donde las claves de los mismos serán:\n",
        "- \"apellido\"\n",
        "- \"nombre\"\n",
        "- \"curso\"\n",
        "- \"division\"\n",
        "- \"feha_de_nacimiento\"\n",
        "\n",
        "Muestra la información generada."
      ],
      "metadata": {
        "id": "dYEGkYZyLy9I"
      }
    },
    {
      "cell_type": "code",
      "source": [
        "lista_dict = []\n",
        "for estudiante in estudiantes_5d:\n",
        "    nombre_completo,division,fecha_nacimiento = estudiante\n",
        "    apellido,nombre = nombre_completo.split(\",\")\n",
        "    nombre = nombre.strip()\n",
        "    diccionario = {}\n",
        "    diccionario[\"nombre\"] = nombre\n",
        "    diccionario[\"apellido\"] = apellido\n",
        "    diccionario[\"curso\"] = 5\n",
        "    diccionario[\"division\"] = division\n",
        "    diccionario[\"fecha de nacimiento\"] = fecha_nacimiento\n",
        "    lista_dict.append(diccionario)\n",
        "\n",
        "for estudiante in lista_dict:\n",
        "    print(estudiante)"
      ],
      "metadata": {
        "colab": {
          "base_uri": "https://localhost:8080/"
        },
        "id": "UXrjm7eBNiUn",
        "outputId": "11ed76b8-f626-4f6b-feca-60e45c176176"
      },
      "execution_count": 5,
      "outputs": [
        {
          "output_type": "stream",
          "name": "stdout",
          "text": [
            "{'nombre': 'Solange Stefania', 'apellido': 'Alurralde', 'curso': 5, 'division': 'D', 'fecha de nacimiento': '02/04/2007'}\n",
            "{'nombre': 'Ludmila Del Milagro', 'apellido': 'Alvarado', 'curso': 5, 'division': 'D', 'fecha de nacimiento': '06/09/2006'}\n",
            "{'nombre': 'Camila Juliana', 'apellido': 'Angel', 'curso': 5, 'division': 'D', 'fecha de nacimiento': '07/03/2007'}\n",
            "{'nombre': 'Lucas Gabriel', 'apellido': 'Arenas', 'curso': 5, 'division': 'D', 'fecha de nacimiento': '26/06/2007'}\n",
            "{'nombre': 'Maria Antonia', 'apellido': 'Caseres', 'curso': 5, 'division': 'D', 'fecha de nacimiento': '01/07/2006'}\n",
            "{'nombre': 'Paulina Milagros', 'apellido': 'Castillo', 'curso': 5, 'division': 'D', 'fecha de nacimiento': '01/06/2007'}\n",
            "{'nombre': 'Hugo Mariano', 'apellido': 'Correa Segovia', 'curso': 5, 'division': 'D', 'fecha de nacimiento': '04/12/2006'}\n",
            "{'nombre': 'Alvaro Tadeo', 'apellido': 'D Elia', 'curso': 5, 'division': 'D', 'fecha de nacimiento': '27/08/2006'}\n",
            "{'nombre': 'Victoria Agustina', 'apellido': 'Flores', 'curso': 5, 'division': 'D', 'fecha de nacimiento': '12/12/2006'}\n",
            "{'nombre': 'Lizzie Amaya', 'apellido': 'Geronimo Soriano', 'curso': 5, 'division': 'D', 'fecha de nacimiento': '20/01/2007'}\n",
            "{'nombre': 'Angélica Morena', 'apellido': 'Guzman', 'curso': 5, 'division': 'D', 'fecha de nacimiento': '11/04/2007'}\n",
            "{'nombre': 'Jazmin Esmeralda Belen', 'apellido': 'Guzman', 'curso': 5, 'division': 'D', 'fecha de nacimiento': '31/07/2006'}\n",
            "{'nombre': 'Anita Maria Belen', 'apellido': 'Jaime', 'curso': 5, 'division': 'D', 'fecha de nacimiento': '19/04/2007'}\n",
            "{'nombre': 'Nazarena', 'apellido': 'Lacour Polo', 'curso': 5, 'division': 'D', 'fecha de nacimiento': '19/12/2005'}\n",
            "{'nombre': 'Marcelo Fabricio', 'apellido': 'Lascano Guanca', 'curso': 5, 'division': 'D', 'fecha de nacimiento': '17/02/2006'}\n",
            "{'nombre': 'Celia Morena', 'apellido': 'Lezcano', 'curso': 5, 'division': 'D', 'fecha de nacimiento': '01/07/2005'}\n",
            "{'nombre': 'Tomas Andres', 'apellido': 'Martinez', 'curso': 5, 'division': 'D', 'fecha de nacimiento': '22/03/2007'}\n",
            "{'nombre': 'Pedro Francisco', 'apellido': 'Portella Valdivia', 'curso': 5, 'division': 'D', 'fecha de nacimiento': '24/01/2007'}\n",
            "{'nombre': 'Zacarias Josue', 'apellido': 'Retamal Cisneros', 'curso': 5, 'division': 'D', 'fecha de nacimiento': '24/02/2007'}\n",
            "{'nombre': 'Francisco Gabriel', 'apellido': 'Rosales', 'curso': 5, 'division': 'D', 'fecha de nacimiento': '14/11/2006'}\n",
            "{'nombre': 'Mahia', 'apellido': 'Salem Barba', 'curso': 5, 'division': 'D', 'fecha de nacimiento': '14/10/2005'}\n",
            "{'nombre': 'Agustin Ignacio', 'apellido': 'Soto Camara', 'curso': 5, 'division': 'D', 'fecha de nacimiento': '07/11/2005'}\n",
            "{'nombre': 'Irina', 'apellido': 'Villalba', 'curso': 5, 'division': 'D', 'fecha de nacimiento': '09/09/2006'}\n",
            "{'nombre': 'Emanuel Tobias', 'apellido': 'Voltolini', 'curso': 5, 'division': 'D', 'fecha de nacimiento': '17/09/2006'}\n",
            "{'nombre': 'Santino Stefano', 'apellido': 'Zalazar', 'curso': 5, 'division': 'D', 'fecha de nacimiento': '30/09/2006'}\n"
          ]
        }
      ]
    },
    {
      "cell_type": "code",
      "source": [
        "lista_dict = []\n",
        "for estudiante in estudiantes_5c:\n",
        "    nombre_completo,division,fecha_nacimiento = estudiante\n",
        "    apellido,nombre = nombre_completo.split(\",\")\n",
        "    nombre = nombre.strip()\n",
        "    diccionario = {}\n",
        "    diccionario[\"nombre\"] = nombre\n",
        "    diccionario[\"apellido\"] = apellido\n",
        "    diccionario[\"curso\"] = 5\n",
        "    diccionario[\"division\"] = division\n",
        "    diccionario[\"fecha de nacimiento\"] = fecha_nacimiento\n",
        "    lista_dict.append(diccionario)\n",
        "\n",
        "for estudiante in lista_dict:\n",
        "    print(estudiante)"
      ],
      "metadata": {
        "id": "wCW891Y6XU5t",
        "outputId": "03c7e993-cc54-4f3c-cd22-df5c31a29a27",
        "colab": {
          "base_uri": "https://localhost:8080/"
        }
      },
      "execution_count": 6,
      "outputs": [
        {
          "output_type": "stream",
          "name": "stdout",
          "text": [
            "{'nombre': 'Lourdes Mariel', 'apellido': 'Abud Laspiur', 'curso': 5, 'division': 'C', 'fecha de nacimiento': '05/12/2006'}\n",
            "{'nombre': 'Luana Micaela', 'apellido': 'Amador', 'curso': 5, 'division': 'C', 'fecha de nacimiento': '09/12/2006'}\n",
            "{'nombre': 'Leonardo Ezequiel', 'apellido': 'Anaquin', 'curso': 5, 'division': 'C', 'fecha de nacimiento': '06/09/2005'}\n",
            "{'nombre': 'Lautaro Nahuel', 'apellido': 'Araoz Sanchez', 'curso': 5, 'division': 'C', 'fecha de nacimiento': '28/12/2005'}\n",
            "{'nombre': 'Agostina Abril', 'apellido': 'Argañaraz', 'curso': 5, 'division': 'C', 'fecha de nacimiento': '11/10/2006'}\n",
            "{'nombre': 'Matias Ezequiel', 'apellido': 'Barrera', 'curso': 5, 'division': 'C', 'fecha de nacimiento': '27/02/2007'}\n",
            "{'nombre': 'Joaquin Nicolas', 'apellido': 'Barrozo Vedia', 'curso': 5, 'division': 'C', 'fecha de nacimiento': '15/04/2006'}\n",
            "{'nombre': 'Valentino', 'apellido': 'Bettinelli', 'curso': 5, 'division': 'C', 'fecha de nacimiento': '12/07/2006'}\n",
            "{'nombre': 'Salvador', 'apellido': 'Bracamonte Martinez', 'curso': 5, 'division': 'C', 'fecha de nacimiento': '02/11/2005'}\n",
            "{'nombre': 'Ariana Zoe Del Valle', 'apellido': 'Colque Rivero', 'curso': 5, 'division': 'C', 'fecha de nacimiento': '27/12/2006'}\n",
            "{'nombre': 'Dulce Maitena', 'apellido': 'Diaz', 'curso': 5, 'division': 'C', 'fecha de nacimiento': '11/12/2006'}\n",
            "{'nombre': 'Santino Josue', 'apellido': 'Figueroa', 'curso': 5, 'division': 'C', 'fecha de nacimiento': '12/05/2007'}\n",
            "{'nombre': 'Agustina Tiara', 'apellido': 'Flores Cardozo', 'curso': 5, 'division': 'C', 'fecha de nacimiento': '18/03/2006'}\n",
            "{'nombre': 'Octavio Ismael', 'apellido': 'Gallo', 'curso': 5, 'division': 'C', 'fecha de nacimiento': '04/08/2006'}\n",
            "{'nombre': 'Lourdes Yamila', 'apellido': 'Galvan', 'curso': 5, 'division': 'C', 'fecha de nacimiento': '19/08/2005'}\n",
            "{'nombre': 'Vitto Tomasso', 'apellido': 'Giangreco', 'curso': 5, 'division': 'C', 'fecha de nacimiento': '21/03/2007'}\n",
            "{'nombre': 'Martina Luna', 'apellido': 'Grancara', 'curso': 5, 'division': 'C', 'fecha de nacimiento': '15/12/2006'}\n",
            "{'nombre': 'Sara Elizabeth', 'apellido': 'Guanca', 'curso': 5, 'division': 'C', 'fecha de nacimiento': '17/01/2007'}\n",
            "{'nombre': 'Victoria Constanza', 'apellido': 'Lopez', 'curso': 5, 'division': 'C', 'fecha de nacimiento': '12/11/2007'}\n",
            "{'nombre': 'Rosario Agostina', 'apellido': 'Mamani Garrido', 'curso': 5, 'division': 'C', 'fecha de nacimiento': '24/10/2006'}\n",
            "{'nombre': 'Martin Ezequiel', 'apellido': 'Marinaro', 'curso': 5, 'division': 'C', 'fecha de nacimiento': '03/11/2006'}\n",
            "{'nombre': 'Ignacio', 'apellido': 'Merluzzi Dagum', 'curso': 5, 'division': 'C', 'fecha de nacimiento': '22/12/2005'}\n",
            "{'nombre': 'Martina', 'apellido': 'Messina', 'curso': 5, 'division': 'C', 'fecha de nacimiento': '13/07/2005'}\n",
            "{'nombre': 'Karim', 'apellido': 'Rasuk', 'curso': 5, 'division': 'C', 'fecha de nacimiento': '13/07/2007'}\n",
            "{'nombre': 'Lucia Magali', 'apellido': 'Rios', 'curso': 5, 'division': 'C', 'fecha de nacimiento': '22/09/2006'}\n",
            "{'nombre': 'Matías Agustín', 'apellido': 'Sanchez Flores', 'curso': 5, 'division': 'C', 'fecha de nacimiento': '15/02/2007'}\n",
            "{'nombre': 'Renato Marcelo', 'apellido': 'Scarano', 'curso': 5, 'division': 'C', 'fecha de nacimiento': '06/12/2006'}\n",
            "{'nombre': 'Lucas Mauricio', 'apellido': 'Sierra', 'curso': 5, 'division': 'C', 'fecha de nacimiento': '03/04/2005'}\n",
            "{'nombre': 'Martin Gabriel', 'apellido': 'Tapia', 'curso': 5, 'division': 'C', 'fecha de nacimiento': '30/05/2006'}\n",
            "{'nombre': 'Mia Antonella Alondra', 'apellido': 'Vilte', 'curso': 5, 'division': 'C', 'fecha de nacimiento': '10/09/2005'}\n",
            "{'nombre': 'Katya Milena', 'apellido': 'Virgillito', 'curso': 5, 'division': 'C', 'fecha de nacimiento': '19/06/2007'}\n"
          ]
        }
      ]
    },
    {
      "cell_type": "markdown",
      "source": [
        "3. Genera un diccionario en python, en donde la clave sea cada nombre que aparece en las listas y el valor será la cantidad de veces que se encuentra el mismo.\n",
        "Para este punto es posible fusionar ambas listas en una sola, recordá que hay un método que realiza esta acción.\n",
        "\n",
        "Mostrá la informacion generada"
      ],
      "metadata": {
        "id": "UW2dlBsGMAte"
      }
    },
    {
      "cell_type": "code",
      "source": [
        "estudiantes = []\n",
        "estudiantes.extend(estudiantes_5d)\n",
        "estudiantes.extend(estudiantes_5c)\n",
        "for estudiante in estudiantes:\n",
        "    print(estudiante)"
      ],
      "metadata": {
        "id": "EawAy4SANtkl",
        "outputId": "b816f026-9447-4806-ecf5-5afcee0b76a1",
        "colab": {
          "base_uri": "https://localhost:8080/"
        }
      },
      "execution_count": 8,
      "outputs": [
        {
          "output_type": "stream",
          "name": "stdout",
          "text": [
            "('Alurralde, Solange Stefania', 'D', '02/04/2007')\n",
            "('Alvarado, Ludmila Del Milagro', 'D', '06/09/2006')\n",
            "('Angel, Camila Juliana', 'D', '07/03/2007')\n",
            "('Arenas, Lucas Gabriel', 'D', '26/06/2007')\n",
            "('Caseres, Maria Antonia', 'D', '01/07/2006')\n",
            "('Castillo, Paulina Milagros', 'D', '01/06/2007')\n",
            "('Correa Segovia, Hugo Mariano', 'D', '04/12/2006')\n",
            "('D Elia, Alvaro Tadeo', 'D', '27/08/2006')\n",
            "('Flores, Victoria Agustina', 'D', '12/12/2006')\n",
            "('Geronimo Soriano, Lizzie Amaya', 'D', '20/01/2007')\n",
            "('Guzman, Angélica Morena', 'D', '11/04/2007')\n",
            "('Guzman, Jazmin Esmeralda Belen', 'D', '31/07/2006')\n",
            "('Jaime, Anita Maria Belen', 'D', '19/04/2007')\n",
            "('Lacour Polo, Nazarena', 'D', '19/12/2005')\n",
            "('Lascano Guanca, Marcelo Fabricio', 'D', '17/02/2006')\n",
            "('Lezcano, Celia Morena', 'D', '01/07/2005')\n",
            "('Martinez, Tomas Andres', 'D', '22/03/2007')\n",
            "('Portella Valdivia, Pedro Francisco', 'D', '24/01/2007')\n",
            "('Retamal Cisneros, Zacarias Josue', 'D', '24/02/2007')\n",
            "('Rosales, Francisco Gabriel', 'D', '14/11/2006')\n",
            "('Salem Barba, Mahia', 'D', '14/10/2005')\n",
            "('Soto Camara, Agustin Ignacio', 'D', '07/11/2005')\n",
            "('Villalba, Irina', 'D', '09/09/2006')\n",
            "('Voltolini, Emanuel Tobias', 'D', '17/09/2006')\n",
            "('Zalazar, Santino Stefano', 'D', '30/09/2006')\n",
            "('Abud Laspiur, Lourdes Mariel', 'C', '05/12/2006')\n",
            "('Amador, Luana Micaela', 'C', '09/12/2006')\n",
            "('Anaquin, Leonardo Ezequiel', 'C', '06/09/2005')\n",
            "('Araoz Sanchez, Lautaro Nahuel', 'C', '28/12/2005')\n",
            "('Argañaraz, Agostina Abril', 'C', '11/10/2006')\n",
            "('Barrera, Matias Ezequiel', 'C', '27/02/2007')\n",
            "('Barrozo Vedia, Joaquin Nicolas', 'C', '15/04/2006')\n",
            "('Bettinelli, Valentino', 'C', '12/07/2006')\n",
            "('Bracamonte Martinez, Salvador', 'C', '02/11/2005')\n",
            "('Colque Rivero, Ariana Zoe Del Valle', 'C', '27/12/2006')\n",
            "('Diaz, Dulce Maitena', 'C', '11/12/2006')\n",
            "('Figueroa, Santino Josue', 'C', '12/05/2007')\n",
            "('Flores Cardozo, Agustina Tiara', 'C', '18/03/2006')\n",
            "('Gallo, Octavio Ismael', 'C', '04/08/2006')\n",
            "('Galvan, Lourdes Yamila', 'C', '19/08/2005')\n",
            "('Giangreco, Vitto Tomasso', 'C', '21/03/2007')\n",
            "('Grancara, Martina Luna', 'C', '15/12/2006')\n",
            "('Guanca, Sara Elizabeth', 'C', '17/01/2007')\n",
            "('Lopez, Victoria Constanza', 'C', '12/11/2007')\n",
            "('Mamani Garrido, Rosario Agostina', 'C', '24/10/2006')\n",
            "('Marinaro, Martin Ezequiel', 'C', '03/11/2006')\n",
            "('Merluzzi Dagum, Ignacio', 'C', '22/12/2005')\n",
            "('Messina, Martina', 'C', '13/07/2005')\n",
            "('Rasuk, Karim', 'C', '13/07/2007')\n",
            "('Rios, Lucia Magali', 'C', '22/09/2006')\n",
            "('Sanchez Flores, Matías Agustín', 'C', '15/02/2007')\n",
            "('Scarano, Renato Marcelo', 'C', '06/12/2006')\n",
            "('Sierra, Lucas Mauricio', 'C', '03/04/2005')\n",
            "('Tapia, Martin Gabriel', 'C', '30/05/2006')\n",
            "('Vilte, Mia Antonella Alondra', 'C', '10/09/2005')\n",
            "('Virgillito, Katya Milena', 'C', '19/06/2007')\n"
          ]
        }
      ]
    },
    {
      "cell_type": "code",
      "source": [
        "lista_nombres = []\n",
        "for estudiante in estudiantes:\n",
        "    nombre_completo = estudiante[0].split(\", \")\n",
        "    nombre = nombre_completo[1].split()[0]\n",
        "    lista_nombres.extend(nombre)\n",
        "ocurrencias_nombres = {}\n",
        "for nombre in lista_nombres:\n",
        "    if nombre in ocurrencias_nombres.keys():\n",
        "        ocurrencias_nombres[nombre] += 1\n",
        "    else:\n",
        "        ocurrencias_nombres[nombre] = 1\n",
        "for nombre,ocurrencia in ocurrencias_nombres.items():\n",
        "    print(f\"El nombre {nombre} aparece {ocurrencia} veces.\")"
      ],
      "metadata": {
        "id": "eg3D9HzjX4pi",
        "outputId": "6a3eb969-562f-4725-9862-9bd84816f291",
        "colab": {
          "base_uri": "https://localhost:8080/"
        }
      },
      "execution_count": null,
      "outputs": [
        {
          "output_type": "stream",
          "name": "stdout",
          "text": [
            "El nombre Alurralde aparece 1 veces.\n",
            "El nombre  Solange Stefania aparece 1 veces.\n",
            "El nombre Alvarado aparece 1 veces.\n",
            "El nombre  Ludmila Del Milagro aparece 1 veces.\n",
            "El nombre Angel aparece 1 veces.\n",
            "El nombre  Camila Juliana aparece 1 veces.\n",
            "El nombre Arenas aparece 1 veces.\n",
            "El nombre  Lucas Gabriel aparece 1 veces.\n",
            "El nombre Caseres aparece 1 veces.\n",
            "El nombre  Maria Antonia aparece 1 veces.\n",
            "El nombre Castillo aparece 1 veces.\n",
            "El nombre  Paulina Milagros aparece 1 veces.\n",
            "El nombre Correa Segovia aparece 1 veces.\n",
            "El nombre  Hugo Mariano aparece 1 veces.\n",
            "El nombre D Elia aparece 1 veces.\n",
            "El nombre  Alvaro Tadeo aparece 1 veces.\n",
            "El nombre Flores aparece 1 veces.\n",
            "El nombre  Victoria Agustina aparece 1 veces.\n",
            "El nombre Geronimo Soriano aparece 1 veces.\n",
            "El nombre  Lizzie Amaya aparece 1 veces.\n",
            "El nombre Guzman aparece 2 veces.\n",
            "El nombre  Angélica Morena aparece 1 veces.\n",
            "El nombre  Jazmin Esmeralda Belen aparece 1 veces.\n",
            "El nombre Jaime aparece 1 veces.\n",
            "El nombre  Anita Maria Belen aparece 1 veces.\n",
            "El nombre Lacour Polo aparece 1 veces.\n",
            "El nombre  Nazarena aparece 1 veces.\n",
            "El nombre Lascano Guanca aparece 1 veces.\n",
            "El nombre  Marcelo Fabricio aparece 1 veces.\n",
            "El nombre Lezcano aparece 1 veces.\n",
            "El nombre  Celia Morena aparece 1 veces.\n",
            "El nombre Martinez aparece 1 veces.\n",
            "El nombre  Tomas Andres aparece 1 veces.\n",
            "El nombre Portella Valdivia aparece 1 veces.\n",
            "El nombre  Pedro Francisco aparece 1 veces.\n",
            "El nombre Retamal Cisneros aparece 1 veces.\n",
            "El nombre  Zacarias Josue aparece 1 veces.\n",
            "El nombre Rosales aparece 1 veces.\n",
            "El nombre  Francisco Gabriel aparece 1 veces.\n",
            "El nombre Salem Barba aparece 1 veces.\n",
            "El nombre  Mahia aparece 1 veces.\n",
            "El nombre Soto Camara aparece 1 veces.\n",
            "El nombre  Agustin Ignacio aparece 1 veces.\n",
            "El nombre Villalba aparece 1 veces.\n",
            "El nombre  Irina aparece 1 veces.\n",
            "El nombre Voltolini aparece 1 veces.\n",
            "El nombre  Emanuel Tobias aparece 1 veces.\n",
            "El nombre Zalazar aparece 1 veces.\n",
            "El nombre  Santino Stefano aparece 1 veces.\n",
            "El nombre Abud Laspiur aparece 1 veces.\n",
            "El nombre  Lourdes Mariel aparece 1 veces.\n",
            "El nombre Amador aparece 1 veces.\n",
            "El nombre  Luana Micaela aparece 1 veces.\n",
            "El nombre Anaquin aparece 1 veces.\n",
            "El nombre  Leonardo Ezequiel aparece 1 veces.\n",
            "El nombre Araoz Sanchez aparece 1 veces.\n",
            "El nombre  Lautaro Nahuel aparece 1 veces.\n",
            "El nombre Argañaraz aparece 1 veces.\n",
            "El nombre  Agostina Abril aparece 1 veces.\n",
            "El nombre Barrera aparece 1 veces.\n",
            "El nombre  Matias Ezequiel aparece 1 veces.\n",
            "El nombre Barrozo Vedia aparece 1 veces.\n",
            "El nombre  Joaquin Nicolas aparece 1 veces.\n",
            "El nombre Bettinelli aparece 1 veces.\n",
            "El nombre  Valentino aparece 1 veces.\n",
            "El nombre Bracamonte Martinez aparece 1 veces.\n",
            "El nombre  Salvador aparece 1 veces.\n",
            "El nombre Colque Rivero aparece 1 veces.\n",
            "El nombre  Ariana Zoe Del Valle aparece 1 veces.\n",
            "El nombre Diaz aparece 1 veces.\n",
            "El nombre  Dulce Maitena aparece 1 veces.\n",
            "El nombre Figueroa aparece 1 veces.\n",
            "El nombre  Santino Josue aparece 1 veces.\n",
            "El nombre Flores Cardozo aparece 1 veces.\n",
            "El nombre  Agustina Tiara aparece 1 veces.\n",
            "El nombre Gallo aparece 1 veces.\n",
            "El nombre  Octavio Ismael aparece 1 veces.\n",
            "El nombre Galvan aparece 1 veces.\n",
            "El nombre  Lourdes Yamila aparece 1 veces.\n",
            "El nombre Giangreco aparece 1 veces.\n",
            "El nombre  Vitto Tomasso aparece 1 veces.\n",
            "El nombre Grancara aparece 1 veces.\n",
            "El nombre  Martina Luna aparece 1 veces.\n",
            "El nombre Guanca aparece 1 veces.\n",
            "El nombre  Sara Elizabeth aparece 1 veces.\n",
            "El nombre Lopez aparece 1 veces.\n",
            "El nombre  Victoria Constanza aparece 1 veces.\n",
            "El nombre Mamani Garrido aparece 1 veces.\n",
            "El nombre  Rosario Agostina aparece 1 veces.\n",
            "El nombre Marinaro aparece 1 veces.\n",
            "El nombre  Martin Ezequiel aparece 1 veces.\n",
            "El nombre Merluzzi Dagum aparece 1 veces.\n",
            "El nombre  Ignacio aparece 1 veces.\n",
            "El nombre Messina aparece 1 veces.\n",
            "El nombre  Martina aparece 1 veces.\n",
            "El nombre Rasuk aparece 1 veces.\n",
            "El nombre  Karim aparece 1 veces.\n",
            "El nombre Rios aparece 1 veces.\n",
            "El nombre  Lucia Magali aparece 1 veces.\n",
            "El nombre Sanchez Flores aparece 1 veces.\n",
            "El nombre  Matías Agustín aparece 1 veces.\n",
            "El nombre Scarano aparece 1 veces.\n",
            "El nombre  Renato Marcelo aparece 1 veces.\n",
            "El nombre Sierra aparece 1 veces.\n",
            "El nombre  Lucas Mauricio aparece 1 veces.\n",
            "El nombre Tapia aparece 1 veces.\n",
            "El nombre  Martin Gabriel aparece 1 veces.\n",
            "El nombre Vilte aparece 1 veces.\n",
            "El nombre  Mia Antonella Alondra aparece 1 veces.\n",
            "El nombre Virgillito aparece 1 veces.\n",
            "El nombre  Katya Milena aparece 1 veces.\n"
          ]
        }
      ]
    },
    {
      "cell_type": "markdown",
      "source": [
        "4. Genera un diccionario en python, en donde la clave sea cada apellido que aparece en las listas y el valor será la cantidad de veces que se encuentra el mismo.\n",
        "Para este punto es posible fusionar ambas listas en una sola, recordá que hay un método que realiza esta acción."
      ],
      "metadata": {
        "id": "kZeEHUYVNwGV"
      }
    },
    {
      "cell_type": "code",
      "source": [
        "pass"
      ],
      "metadata": {
        "id": "q05GnxXgORzt"
      },
      "execution_count": null,
      "outputs": []
    },
    {
      "cell_type": "markdown",
      "source": [
        "5. Solicita al usuario que ingrese un apellido y muestra  a todos los estudiantes con ese apellido."
      ],
      "metadata": {
        "id": "ywYmA2JQNp3T"
      }
    },
    {
      "cell_type": "code",
      "source": [
        "pass"
      ],
      "metadata": {
        "id": "Cnp334ZrOCjK"
      },
      "execution_count": null,
      "outputs": []
    },
    {
      "cell_type": "markdown",
      "source": [
        "6. Solicita al usuario que ingrese un nombre y muestra a todos los estudiantes con el nombre ingresado."
      ],
      "metadata": {
        "id": "iAXts6saODoU"
      }
    },
    {
      "cell_type": "code",
      "source": [
        "pass"
      ],
      "metadata": {
        "id": "FMRsUlvtOJS_"
      },
      "execution_count": null,
      "outputs": []
    },
    {
      "cell_type": "markdown",
      "source": [
        "7. Busca el diccionario con tu información dentro de la lista y cámbiate de división, de tal manera que si estas en 5C, con el cambio quedes en 5D y viceversa."
      ],
      "metadata": {
        "id": "T4PFiwwdOK27"
      }
    },
    {
      "cell_type": "code",
      "source": [
        "pass"
      ],
      "metadata": {
        "id": "vjQ2X9x3OmFr"
      },
      "execution_count": null,
      "outputs": []
    },
    {
      "cell_type": "markdown",
      "source": [
        "8. Ordenar la lista alfabeticamente por nombre. Ascendente y descendentemente. Para elegir como ordenarla, mostrar un menú donde el usuario podrá decidir como quiere ver la salida."
      ],
      "metadata": {
        "id": "xfy8SFlZRVGf"
      }
    },
    {
      "cell_type": "code",
      "source": [],
      "metadata": {
        "id": "E4Onk1FNRUa2"
      },
      "execution_count": null,
      "outputs": []
    },
    {
      "cell_type": "markdown",
      "source": [
        "9. Ordenar la lista alfabeticamente por apellido. Ascendente y descendentemente. Para elegir como ordenarla, mostrar un menú donde el usuario podrá decidir como quiere ver la salida."
      ],
      "metadata": {
        "id": "lW18NgPjRcGP"
      }
    },
    {
      "cell_type": "code",
      "source": [],
      "metadata": {
        "id": "jTtWBnalRcoC"
      },
      "execution_count": null,
      "outputs": []
    },
    {
      "cell_type": "markdown",
      "source": [
        "10. Ordena la lista por fecha de nacimiento, de manera ascendente y descendente."
      ],
      "metadata": {
        "id": "E24lH7x5Xbur"
      }
    },
    {
      "cell_type": "code",
      "source": [],
      "metadata": {
        "id": "9SeI3GBGXims"
      },
      "execution_count": null,
      "outputs": []
    },
    {
      "cell_type": "markdown",
      "source": [
        "11. Generar una estuctura de diccionario anidado en donde la clave sea el nombre del estudiante y el valor sea un diccionario con los datos del mismo, de la siguiente manera:\n",
        "\n",
        "\n",
        "\n",
        "\n",
        "```python\n",
        "estudiantes = {\n",
        "    \"Juan Perez\": {\n",
        "        \"año\": 2024,\n",
        "        \"división\": \"5D\",\n",
        "        \"fecha de nacimiento\": \"15/03/2006\"\n",
        "    },\n",
        "    \"Maria Gomez\": {\n",
        "        \"año\": 2024,\n",
        "        \"división\": \"5D\",\n",
        "        \"fecha de nacimiento\": \"22/07/2006\"\n",
        "    },\n",
        "    \"Carlos Lopez\": {\n",
        "        \"año\": 2024,\n",
        "        \"división\": \"5D\",\n",
        "        \"fecha de nacimiento\": \"05/10/2006\"\n",
        "    }\n",
        "}\n",
        "```\n",
        "\n",
        "\n",
        "\n",
        "\n"
      ],
      "metadata": {
        "id": "vOY6K_ydRc3Q"
      }
    },
    {
      "cell_type": "code",
      "source": [],
      "metadata": {
        "id": "9JDrd3WqRdTi"
      },
      "execution_count": null,
      "outputs": []
    }
  ]
}