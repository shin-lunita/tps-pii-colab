{
  "nbformat": 4,
  "nbformat_minor": 0,
  "metadata": {
    "colab": {
      "provenance": [],
      "include_colab_link": true
    },
    "kernelspec": {
      "name": "python3",
      "display_name": "Python 3"
    },
    "language_info": {
      "name": "python"
    }
  },
  "cells": [
    {
      "cell_type": "markdown",
      "metadata": {
        "id": "view-in-github",
        "colab_type": "text"
      },
      "source": [
        "<a href=\"https://colab.research.google.com/github/shin-lunita/tps-pii-colab-copy/blob/main/Lista_string_tupla_Pr%C3%A1ctica.ipynb\" target=\"_parent\"><img src=\"https://colab.research.google.com/assets/colab-badge.svg\" alt=\"Open In Colab\"/></a>"
      ]
    },
    {
      "cell_type": "code",
      "execution_count": 58,
      "metadata": {
        "id": "8VOD-zpMJovw"
      },
      "outputs": [],
      "source": [
        "# Lista de alumnos\n",
        "alumnos = [\n",
        "    \"Alurralde, Solange Stefania\",\n",
        "    \"Alvarado, Ludmila Del Milagro\",\n",
        "    \"Angel, Camila Juliana\",\n",
        "    \"Arenas, Lucas Gabriel\",\n",
        "    \"Caseres, Maria Antonia\",\n",
        "    \"Castillo, Paulina Milagros\",\n",
        "    \"Correa Segovia, Hugo Mariano\",\n",
        "    \"D Elia, Alvaro Tadeo\",\n",
        "    \"Flores, Victoria Agustina\",\n",
        "    \"Geronimo Soriano, Lizzie Amaya\",\n",
        "    \"GUZMAN, ANGÉLICA MORENA\",\n",
        "    \"Guzman, Jazmin Esmeralda Belen\",\n",
        "    \"Jaime, Anita Maria Belen\",\n",
        "    \"Lacour Polo, Nazarena\",\n",
        "    \"Lascano Guanca, Marcelo Fabricio\",\n",
        "    \"Lezcano, Celia Morena\",\n",
        "    \"Mamani Kynast, Nicolas Mauricio\",\n",
        "    \"Martinez, Tomas Andres\",\n",
        "    \"PORTELLA VALDIVIA, PEDRO FRANCISCO\",\n",
        "    \"Retamal Cisneros, Zacarias Josue\",\n",
        "    \"Rosales, Francisco Gabriel\",\n",
        "    \"Salem Barba, Mahia\",\n",
        "    \"Soto Camara, Agustin Ignacio\",\n",
        "    \"Villalba, Irina\",\n",
        "    \"Voltolini, Emanuel Tobias\",\n",
        "    \"Zalazar, Santino Stefano\",\n",
        "    \"ABUD LASPIUR, LOURDES MARIEL\",\n",
        "    \"Amador, Luana Micaela\",\n",
        "    \"Anaquin, Leonardo Ezequiel\",\n",
        "    \"Araoz Sanchez, Lautaro Nahuel\",\n",
        "    \"Argañaraz, Agostina Abril\",\n",
        "    \"Barrera, Matias Ezequiel\",\n",
        "    \"Barrozo Vedia, Joaquin Nicolas\",\n",
        "    \"Bettinelli, Valentino\",\n",
        "    \"Bracamonte Martinez, Salvador\",\n",
        "    \"Colque Rivero, Ariana Zoe Del Valle\",\n",
        "    \"Diaz, Dulce Maitena\",\n",
        "    \"FIGUEROA, SANTINO JOSUE\",\n",
        "    \"Flores Cardozo, Agustina Tiara\",\n",
        "    \"Gallo, Octavio Ismael\",\n",
        "    \"Galvan, Lourdes Yamila\",\n",
        "    \"Giangreco, Vitto Tomasso\",\n",
        "    \"Grancara, Martina Luna\",\n",
        "    \"Guanca, Sara Elizabeth\",\n",
        "    \"Lopez, Victoria Constanza\",\n",
        "    \"Mamani Garrido, Rosario Agostina\",\n",
        "    \"Marinaro, Martin Ezequiel\",\n",
        "    \"Merluzzi Dagum, Ignacio\",\n",
        "    \"Messina, Martina\",\n",
        "    \"RASUK, KARIM\", \"Rios, Lucia Magali\",\n",
        "    \"Sanchez Flores, Matías Agustín\",\n",
        "    \"Scarano, Renato Marcelo\",\n",
        "    \"Sierra, Lucas Mauricio\",\n",
        "    \"Tapia, Martin Gabriel\",\n",
        "    \"Vilte, Mia Antonella Alondra\",\n",
        "    \"Virgillito, Katya Milena\"\n",
        "]"
      ]
    },
    {
      "cell_type": "markdown",
      "source": [
        "## Dada la lista estudiantes:\n",
        "> - Hacer una celda para resolver cada punto.\n",
        "- El TP resuelto será revisado en tu repositorio, no es necesario que lo envíes, pero sí que lo pushees correctamente.\n",
        "- En la nota inicial se contempla:\n",
        "  - La creación del fork.\n",
        "  - El pusheo de los cambios realizados.\n",
        "  - La resolución de los ejercicios propuestos.\n"
      ],
      "metadata": {
        "id": "rd6Ug6v3J4uN"
      }
    },
    {
      "cell_type": "markdown",
      "source": [
        "1. Reemplaza todos los valores por los que obtengas del método title(). De esta manera tu lista quedara con los datos más homogéneos."
      ],
      "metadata": {
        "id": "wRLng-uURyJ3"
      }
    },
    {
      "cell_type": "code",
      "source": [
        "for i in range(len(alumnos)):\n",
        "    if alumnos[i].istitle() == False:\n",
        "        alumnos[i] = alumnos[i].title()\n",
        "    print(alumnos[i])"
      ],
      "metadata": {
        "id": "5lFqJoTaSIWi",
        "colab": {
          "base_uri": "https://localhost:8080/"
        },
        "outputId": "e56448d4-b7bb-4077-de10-77f854352b82"
      },
      "execution_count": 59,
      "outputs": [
        {
          "output_type": "stream",
          "name": "stdout",
          "text": [
            "Alurralde, Solange Stefania\n",
            "Alvarado, Ludmila Del Milagro\n",
            "Angel, Camila Juliana\n",
            "Arenas, Lucas Gabriel\n",
            "Caseres, Maria Antonia\n",
            "Castillo, Paulina Milagros\n",
            "Correa Segovia, Hugo Mariano\n",
            "D Elia, Alvaro Tadeo\n",
            "Flores, Victoria Agustina\n",
            "Geronimo Soriano, Lizzie Amaya\n",
            "Guzman, Angélica Morena\n",
            "Guzman, Jazmin Esmeralda Belen\n",
            "Jaime, Anita Maria Belen\n",
            "Lacour Polo, Nazarena\n",
            "Lascano Guanca, Marcelo Fabricio\n",
            "Lezcano, Celia Morena\n",
            "Mamani Kynast, Nicolas Mauricio\n",
            "Martinez, Tomas Andres\n",
            "Portella Valdivia, Pedro Francisco\n",
            "Retamal Cisneros, Zacarias Josue\n",
            "Rosales, Francisco Gabriel\n",
            "Salem Barba, Mahia\n",
            "Soto Camara, Agustin Ignacio\n",
            "Villalba, Irina\n",
            "Voltolini, Emanuel Tobias\n",
            "Zalazar, Santino Stefano\n",
            "Abud Laspiur, Lourdes Mariel\n",
            "Amador, Luana Micaela\n",
            "Anaquin, Leonardo Ezequiel\n",
            "Araoz Sanchez, Lautaro Nahuel\n",
            "Argañaraz, Agostina Abril\n",
            "Barrera, Matias Ezequiel\n",
            "Barrozo Vedia, Joaquin Nicolas\n",
            "Bettinelli, Valentino\n",
            "Bracamonte Martinez, Salvador\n",
            "Colque Rivero, Ariana Zoe Del Valle\n",
            "Diaz, Dulce Maitena\n",
            "Figueroa, Santino Josue\n",
            "Flores Cardozo, Agustina Tiara\n",
            "Gallo, Octavio Ismael\n",
            "Galvan, Lourdes Yamila\n",
            "Giangreco, Vitto Tomasso\n",
            "Grancara, Martina Luna\n",
            "Guanca, Sara Elizabeth\n",
            "Lopez, Victoria Constanza\n",
            "Mamani Garrido, Rosario Agostina\n",
            "Marinaro, Martin Ezequiel\n",
            "Merluzzi Dagum, Ignacio\n",
            "Messina, Martina\n",
            "Rasuk, Karim\n",
            "Rios, Lucia Magali\n",
            "Sanchez Flores, Matías Agustín\n",
            "Scarano, Renato Marcelo\n",
            "Sierra, Lucas Mauricio\n",
            "Tapia, Martin Gabriel\n",
            "Vilte, Mia Antonella Alondra\n",
            "Virgillito, Katya Milena\n"
          ]
        }
      ]
    },
    {
      "cell_type": "markdown",
      "source": [
        "2. Desarrolla un script que permita ingresar un nombre y muestre cuantas veces aparece este en la lista\n"
      ],
      "metadata": {
        "id": "dYEGkYZyLy9I"
      }
    },
    {
      "cell_type": "code",
      "source": [
        "nombre = input(\"Por favor, ingrese un nombre:  \").capitalize()\n",
        "contador = 0\n",
        "for alumno in alumnos:\n",
        "    if nombre in alumno:\n",
        "        contador += 1\n",
        "if contador == 1:\n",
        "    print(f\"El nombre {nombre} aparece en la lista {contador} vez.\")\n",
        "else:\n",
        "    print(f\"El nombre {nombre} aparece en la lista {contador} veces.\")"
      ],
      "metadata": {
        "id": "-B9fB0sSL_Dk",
        "colab": {
          "base_uri": "https://localhost:8080/"
        },
        "outputId": "5fb60152-1692-4250-a9bc-4768fa4f29ca"
      },
      "execution_count": 62,
      "outputs": [
        {
          "output_type": "stream",
          "name": "stdout",
          "text": [
            "Por favor, ingrese un nombre:  victoria\n",
            "El nombre Victoria aparece en la lista 2 veces.\n"
          ]
        }
      ]
    },
    {
      "cell_type": "markdown",
      "source": [
        "3. Desarrolla un script en python que permita ingresar un nombre y mostrar en que posición de la lista se encuentra el mismo. Realiza las combinaciones necesarias para que no se genere un error si es que el nombre no existe."
      ],
      "metadata": {
        "id": "UW2dlBsGMAte"
      }
    },
    {
      "cell_type": "code",
      "source": [
        "nombre1 = input(\"Por favor, ingrese un nombre completo (apellido, nombre): \").title()\n",
        "if nombre1 in alumnos:\n",
        "    print(f\"{nombre1} se encuentra en la posición {alumnos.index(nombre1)} de la lista.\")\n",
        "else:\n",
        "    print(f\"{nombre1} no se encuentra en la lista.\")"
      ],
      "metadata": {
        "id": "EawAy4SANtkl",
        "colab": {
          "base_uri": "https://localhost:8080/"
        },
        "outputId": "706fd8d0-a492-440a-9eb0-3962253fd764"
      },
      "execution_count": 61,
      "outputs": [
        {
          "output_type": "stream",
          "name": "stdout",
          "text": [
            "Por favor, ingrese un nombre completo (apellido, nombre): Gallo, Octavio Ismael\n",
            "Gallo, Octavio Ismael se encuentra en la posición 39 de la lista.\n"
          ]
        }
      ]
    },
    {
      "cell_type": "markdown",
      "source": [
        "4. Agrega un nombre al final de la lista, otro al principio y otro en la posición anterior a la de tu nombre en la lista. Tene en cuenta el formato usado para ingresar los datos: \"apellidos, nombres\""
      ],
      "metadata": {
        "id": "kZeEHUYVNwGV"
      }
    },
    {
      "cell_type": "code",
      "source": [
        "#Agregar nuevo nombre conociendo la posición de mi nombre.\n",
        "nombre_final = input(\"Por favor, ingrese un nombre para insertar al final de la lista: \").title()\n",
        "alumnos.append(nombre_final)\n",
        "\n",
        "nombre_inicial = input(\"Por favor, ingrese un nombre para insertar al inicio de la lista: \").title()\n",
        "alumnos.insert(0, nombre_inicial)\n",
        "\n",
        "nombre_anterior = input(\"Por favor, ingrese un nombre para insertar antes del suyo: \").title()\n",
        "alumnos.insert(43,nombre_anterior)\n",
        "\n",
        "for alumno in alumnos:\n",
        "    print(alumno)"
      ],
      "metadata": {
        "id": "hXVG78nw6TFA",
        "colab": {
          "base_uri": "https://localhost:8080/"
        },
        "outputId": "0f5d3b48-c2f5-47af-ca1c-dcebe14fc974"
      },
      "execution_count": 63,
      "outputs": [
        {
          "output_type": "stream",
          "name": "stdout",
          "text": [
            "Por favor, ingrese un nombre para insertar al final de la lista: Zelda, Facundo\n",
            "Por favor, ingrese un nombre para insertar al inicio de la lista: Alonso, Ludmila Juliana\n",
            "Por favor, ingrese un nombre para insertar antes del suyo: Grancara, Benicio\n",
            "Alonso, Ludmila Juliana\n",
            "Alurralde, Solange Stefania\n",
            "Alvarado, Ludmila Del Milagro\n",
            "Angel, Camila Juliana\n",
            "Arenas, Lucas Gabriel\n",
            "Caseres, Maria Antonia\n",
            "Castillo, Paulina Milagros\n",
            "Correa Segovia, Hugo Mariano\n",
            "D Elia, Alvaro Tadeo\n",
            "Flores, Victoria Agustina\n",
            "Geronimo Soriano, Lizzie Amaya\n",
            "Guzman, Angélica Morena\n",
            "Guzman, Jazmin Esmeralda Belen\n",
            "Jaime, Anita Maria Belen\n",
            "Lacour Polo, Nazarena\n",
            "Lascano Guanca, Marcelo Fabricio\n",
            "Lezcano, Celia Morena\n",
            "Mamani Kynast, Nicolas Mauricio\n",
            "Martinez, Tomas Andres\n",
            "Portella Valdivia, Pedro Francisco\n",
            "Retamal Cisneros, Zacarias Josue\n",
            "Rosales, Francisco Gabriel\n",
            "Salem Barba, Mahia\n",
            "Soto Camara, Agustin Ignacio\n",
            "Villalba, Irina\n",
            "Voltolini, Emanuel Tobias\n",
            "Zalazar, Santino Stefano\n",
            "Abud Laspiur, Lourdes Mariel\n",
            "Amador, Luana Micaela\n",
            "Anaquin, Leonardo Ezequiel\n",
            "Araoz Sanchez, Lautaro Nahuel\n",
            "Argañaraz, Agostina Abril\n",
            "Barrera, Matias Ezequiel\n",
            "Barrozo Vedia, Joaquin Nicolas\n",
            "Bettinelli, Valentino\n",
            "Bracamonte Martinez, Salvador\n",
            "Colque Rivero, Ariana Zoe Del Valle\n",
            "Diaz, Dulce Maitena\n",
            "Figueroa, Santino Josue\n",
            "Flores Cardozo, Agustina Tiara\n",
            "Gallo, Octavio Ismael\n",
            "Galvan, Lourdes Yamila\n",
            "Giangreco, Vitto Tomasso\n",
            "Grancara, Benicio\n",
            "Grancara, Martina Luna\n",
            "Guanca, Sara Elizabeth\n",
            "Lopez, Victoria Constanza\n",
            "Mamani Garrido, Rosario Agostina\n",
            "Marinaro, Martin Ezequiel\n",
            "Merluzzi Dagum, Ignacio\n",
            "Messina, Martina\n",
            "Rasuk, Karim\n",
            "Rios, Lucia Magali\n",
            "Sanchez Flores, Matías Agustín\n",
            "Scarano, Renato Marcelo\n",
            "Sierra, Lucas Mauricio\n",
            "Tapia, Martin Gabriel\n",
            "Vilte, Mia Antonella Alondra\n",
            "Virgillito, Katya Milena\n",
            "Zelda, Facundo\n"
          ]
        }
      ]
    },
    {
      "cell_type": "code",
      "source": [
        "#Agregar el nuevo nombre sin conocer la posición de mi nombre.\n",
        "nombre_final_1 = input(\"Por favor, ingrese un nombre para insertar al final de la lista: \").title()\n",
        "alumnos.append(nombre_final_1)\n",
        "\n",
        "nombre_inicial_1 = input(\"Por favor, ingrese un nombre para insertar al inicio de la lista: \").title()\n",
        "alumnos.insert(0, nombre_inicial_1)\n",
        "\n",
        "nombre_usuario = input(\"Por favor, ingrese su nombre: \").title()\n",
        "for i in range(len(alumnos)):\n",
        "    if nombre_usuario in alumnos[i]:\n",
        "        posicion = i\n",
        "        break\n",
        "\n",
        "nombre_anterior_1 = input(\"Por favor, ingrese un nombre para insertar antes del suyo: \").title()\n",
        "alumnos.insert(posicion,nombre_anterior_1)\n",
        "\n",
        "for alumno in alumnos:\n",
        "    print(alumno)"
      ],
      "metadata": {
        "id": "wbWqiRCZiVMW",
        "outputId": "7c226510-2d31-4256-b363-0526321b5140",
        "colab": {
          "base_uri": "https://localhost:8080/"
        }
      },
      "execution_count": 65,
      "outputs": [
        {
          "output_type": "stream",
          "name": "stdout",
          "text": [
            "Por favor, ingrese un nombre para insertar al final de la lista: Zurita, Juan Camilo\n",
            "Por favor, ingrese un nombre para insertar al inicio de la lista: Aguilar mamani, ramon\n",
            "Por favor, ingrese su nombre: Grancara, martina luna\n",
            "Por favor, ingrese un nombre para insertar antes del suyo: GRANCARA, BENJAMIN ALEJANDRO\n",
            "Aguilar Mamani, Ramon\n",
            "Alonso, Ludmila Juliana\n",
            "Alurralde, Solange Stefania\n",
            "Alvarado, Ludmila Del Milagro\n",
            "Angel, Camila Juliana\n",
            "Arenas, Lucas Gabriel\n",
            "Caseres, Maria Antonia\n",
            "Castillo, Paulina Milagros\n",
            "Correa Segovia, Hugo Mariano\n",
            "D Elia, Alvaro Tadeo\n",
            "Flores, Victoria Agustina\n",
            "Geronimo Soriano, Lizzie Amaya\n",
            "Guzman, Angélica Morena\n",
            "Guzman, Jazmin Esmeralda Belen\n",
            "Jaime, Anita Maria Belen\n",
            "Lacour Polo, Nazarena\n",
            "Lascano Guanca, Marcelo Fabricio\n",
            "Lezcano, Celia Morena\n",
            "Mamani Kynast, Nicolas Mauricio\n",
            "Martinez, Tomas Andres\n",
            "Portella Valdivia, Pedro Francisco\n",
            "Retamal Cisneros, Zacarias Josue\n",
            "Rosales, Francisco Gabriel\n",
            "Salem Barba, Mahia\n",
            "Soto Camara, Agustin Ignacio\n",
            "Villalba, Irina\n",
            "Voltolini, Emanuel Tobias\n",
            "Zalazar, Santino Stefano\n",
            "Abud Laspiur, Lourdes Mariel\n",
            "Amador, Luana Micaela\n",
            "Anaquin, Leonardo Ezequiel\n",
            "Araoz Sanchez, Lautaro Nahuel\n",
            "Argañaraz, Agostina Abril\n",
            "Barrera, Matias Ezequiel\n",
            "Barrozo Vedia, Joaquin Nicolas\n",
            "Bettinelli, Valentino\n",
            "Bracamonte Martinez, Salvador\n",
            "Colque Rivero, Ariana Zoe Del Valle\n",
            "Diaz, Dulce Maitena\n",
            "Figueroa, Santino Josue\n",
            "Flores Cardozo, Agustina Tiara\n",
            "Gallo, Octavio Ismael\n",
            "Galvan, Lourdes Yamila\n",
            "Giangreco, Vitto Tomasso\n",
            "Grancara, Benicio\n",
            "Grancara, Benjamin Alejandro\n",
            "Grancara, Martina Luna\n",
            "Guanca, Sara Elizabeth\n",
            "Lopez, Victoria Constanza\n",
            "Mamani Garrido, Rosario Agostina\n",
            "Marinaro, Martin Ezequiel\n",
            "Merluzzi Dagum, Ignacio\n",
            "Messina, Martina\n",
            "Rasuk, Karim\n",
            "Rios, Lucia Magali\n",
            "Sanchez Flores, Matías Agustín\n",
            "Scarano, Renato Marcelo\n",
            "Sierra, Lucas Mauricio\n",
            "Tapia, Martin Gabriel\n",
            "Vilte, Mia Antonella Alondra\n",
            "Virgillito, Katya Milena\n",
            "Zelda, Facundo\n",
            "Aguilar, Camilo\n",
            "Zurita, Juan Camilo\n"
          ]
        }
      ]
    },
    {
      "cell_type": "markdown",
      "source": [
        "5. Mostrá cada elemento de la lista mientras la vacias usando el metodo pop(). Para lograr esto usá la estructura while.\n",
        "\n",
        "Tene en cuenta que:\n",
        "\n",
        "\n",
        ">```python\n",
        "bool([]) = False\n",
        "```\n",
        "\n"
      ],
      "metadata": {
        "id": "b_we1Oz4OUBN"
      }
    },
    {
      "cell_type": "code",
      "source": [
        "while alumnos:\n",
        "    alumno=alumnos.pop()\n",
        "    print(alumno)"
      ],
      "metadata": {
        "id": "q05GnxXgORzt",
        "colab": {
          "base_uri": "https://localhost:8080/"
        },
        "outputId": "02741ea6-830f-4208-bf92-6de48f49abe9"
      },
      "execution_count": 57,
      "outputs": [
        {
          "output_type": "stream",
          "name": "stdout",
          "text": [
            "Virgillito, Katya Milena\n",
            "Vilte, Mia Antonella Alondra\n",
            "Tapia, Martin Gabriel\n",
            "Sierra, Lucas Mauricio\n",
            "Scarano, Renato Marcelo\n",
            "Sanchez Flores, Matías Agustín\n",
            "Rios, Lucia Magali\n",
            "Rasuk, Karim\n",
            "Messina, Martina\n",
            "Merluzzi Dagum, Ignacio\n",
            "Marinaro, Martin Ezequiel\n",
            "Mamani Garrido, Rosario Agostina\n",
            "Lopez, Victoria Constanza\n",
            "Guanca, Sara Elizabeth\n",
            "Grancara, Martina Luna\n",
            "Giangreco, Vitto Tomasso\n",
            "Galvan, Lourdes Yamila\n",
            "Gallo, Octavio Ismael\n",
            "Flores Cardozo, Agustina Tiara\n",
            "Figueroa, Santino Josue\n",
            "Diaz, Dulce Maitena\n",
            "Colque Rivero, Ariana Zoe Del Valle\n",
            "Bracamonte Martinez, Salvador\n",
            "Bettinelli, Valentino\n",
            "Barrozo Vedia, Joaquin Nicolas\n",
            "Barrera, Matias Ezequiel\n",
            "Argañaraz, Agostina Abril\n",
            "Araoz Sanchez, Lautaro Nahuel\n",
            "Anaquin, Leonardo Ezequiel\n",
            "Amador, Luana Micaela\n",
            "Abud Laspiur, Lourdes Mariel\n",
            "Zalazar, Santino Stefano\n",
            "Voltolini, Emanuel Tobias\n",
            "Villalba, Irina\n",
            "Soto Camara, Agustin Ignacio\n",
            "Salem Barba, Mahia\n",
            "Rosales, Francisco Gabriel\n",
            "Retamal Cisneros, Zacarias Josue\n",
            "Portella Valdivia, Pedro Francisco\n",
            "Martinez, Tomas Andres\n",
            "Mamani Kynast, Nicolas Mauricio\n",
            "Lezcano, Celia Morena\n",
            "Lascano Guanca, Marcelo Fabricio\n",
            "Lacour Polo, Nazarena\n",
            "Jaime, Anita Maria Belen\n",
            "Guzman, Jazmin Esmeralda Belen\n",
            "Guzman, Angélica Morena\n",
            "Geronimo Soriano, Lizzie Amaya\n",
            "Flores, Victoria Agustina\n",
            "D Elia, Alvaro Tadeo\n",
            "Correa Segovia, Hugo Mariano\n",
            "Castillo, Paulina Milagros\n",
            "Caseres, Maria Antonia\n",
            "Arenas, Lucas Gabriel\n",
            "Angel, Camila Juliana\n",
            "Alvarado, Ludmila Del Milagro\n",
            "Alurralde, Solange Stefania\n"
          ]
        }
      ]
    },
    {
      "cell_type": "markdown",
      "source": [
        "6. Crea un menú para ordenar la lista de manera ascendente o descendente. Realiza esta acción y muestra el resultado según la opción elegida por el usuario."
      ],
      "metadata": {
        "id": "xY4BuqGdQBF1"
      }
    },
    {
      "cell_type": "code",
      "source": [
        "print(\"\"\"\n",
        "ORDENAR LISTA\n",
        "[A] Ascendente (A-Z)\n",
        "[D] Descendente (Z-A) \"\"\")\n",
        "opcion_usuario = input(\"Ingrese una opción: \").upper()\n",
        "alumnos.sort()\n",
        "if opcion_usuario == \"D\":\n",
        "    alumnos.reverse()\n",
        "for alumno in alumnos:\n",
        "    print(alumno)"
      ],
      "metadata": {
        "id": "NKR3ciBKSjhr",
        "colab": {
          "base_uri": "https://localhost:8080/"
        },
        "outputId": "f86a5971-1e47-4b3e-ec49-91f40cc2d471"
      },
      "execution_count": 66,
      "outputs": [
        {
          "output_type": "stream",
          "name": "stdout",
          "text": [
            "\n",
            "ORDENAR LISTA\n",
            "[A] Ascendente (A-Z)\n",
            "[D] Descendente (Z-A) \n",
            "Ingrese una opción: a\n",
            "Abud Laspiur, Lourdes Mariel\n",
            "Aguilar Mamani, Ramon\n",
            "Aguilar, Camilo\n",
            "Alonso, Ludmila Juliana\n",
            "Alurralde, Solange Stefania\n",
            "Alvarado, Ludmila Del Milagro\n",
            "Amador, Luana Micaela\n",
            "Anaquin, Leonardo Ezequiel\n",
            "Angel, Camila Juliana\n",
            "Araoz Sanchez, Lautaro Nahuel\n",
            "Arenas, Lucas Gabriel\n",
            "Argañaraz, Agostina Abril\n",
            "Barrera, Matias Ezequiel\n",
            "Barrozo Vedia, Joaquin Nicolas\n",
            "Bettinelli, Valentino\n",
            "Bracamonte Martinez, Salvador\n",
            "Caseres, Maria Antonia\n",
            "Castillo, Paulina Milagros\n",
            "Colque Rivero, Ariana Zoe Del Valle\n",
            "Correa Segovia, Hugo Mariano\n",
            "D Elia, Alvaro Tadeo\n",
            "Diaz, Dulce Maitena\n",
            "Figueroa, Santino Josue\n",
            "Flores Cardozo, Agustina Tiara\n",
            "Flores, Victoria Agustina\n",
            "Gallo, Octavio Ismael\n",
            "Galvan, Lourdes Yamila\n",
            "Geronimo Soriano, Lizzie Amaya\n",
            "Giangreco, Vitto Tomasso\n",
            "Grancara, Benicio\n",
            "Grancara, Benjamin Alejandro\n",
            "Grancara, Martina Luna\n",
            "Guanca, Sara Elizabeth\n",
            "Guzman, Angélica Morena\n",
            "Guzman, Jazmin Esmeralda Belen\n",
            "Jaime, Anita Maria Belen\n",
            "Lacour Polo, Nazarena\n",
            "Lascano Guanca, Marcelo Fabricio\n",
            "Lezcano, Celia Morena\n",
            "Lopez, Victoria Constanza\n",
            "Mamani Garrido, Rosario Agostina\n",
            "Mamani Kynast, Nicolas Mauricio\n",
            "Marinaro, Martin Ezequiel\n",
            "Martinez, Tomas Andres\n",
            "Merluzzi Dagum, Ignacio\n",
            "Messina, Martina\n",
            "Portella Valdivia, Pedro Francisco\n",
            "Rasuk, Karim\n",
            "Retamal Cisneros, Zacarias Josue\n",
            "Rios, Lucia Magali\n",
            "Rosales, Francisco Gabriel\n",
            "Salem Barba, Mahia\n",
            "Sanchez Flores, Matías Agustín\n",
            "Scarano, Renato Marcelo\n",
            "Sierra, Lucas Mauricio\n",
            "Soto Camara, Agustin Ignacio\n",
            "Tapia, Martin Gabriel\n",
            "Villalba, Irina\n",
            "Vilte, Mia Antonella Alondra\n",
            "Virgillito, Katya Milena\n",
            "Voltolini, Emanuel Tobias\n",
            "Zalazar, Santino Stefano\n",
            "Zelda, Facundo\n",
            "Zurita, Juan Camilo\n"
          ]
        }
      ]
    },
    {
      "cell_type": "markdown",
      "source": [
        "7. - Crea, a partir de la lista estudiantes, una nueva lista tupla_estudiantes que contenga los nombres en formato de tuplas, donde el primer elemento sea el apellido y el segundo el nombre.\n",
        "  - Muestra cada tupla de la nueva lista.\n"
      ],
      "metadata": {
        "id": "7wb4sRbOSkdM"
      }
    },
    {
      "cell_type": "code",
      "source": [
        "tupla_estudiantes = []\n",
        "for alumno in alumnos:\n",
        "    apellido,nombre= alumno.split(\",\")\n",
        "    tupla_estudiantes.append((apellido,nombre))\n",
        "for estudiante in tupla_estudiantes:\n",
        "    print(estudiante)"
      ],
      "metadata": {
        "id": "f9v0mfoZS9_s",
        "colab": {
          "base_uri": "https://localhost:8080/"
        },
        "outputId": "ad4b1bfc-a2f0-4b5b-9c3b-e9b451a17be0"
      },
      "execution_count": 67,
      "outputs": [
        {
          "output_type": "stream",
          "name": "stdout",
          "text": [
            "('Abud Laspiur', ' Lourdes Mariel')\n",
            "('Aguilar Mamani', ' Ramon')\n",
            "('Aguilar', ' Camilo')\n",
            "('Alonso', ' Ludmila Juliana')\n",
            "('Alurralde', ' Solange Stefania')\n",
            "('Alvarado', ' Ludmila Del Milagro')\n",
            "('Amador', ' Luana Micaela')\n",
            "('Anaquin', ' Leonardo Ezequiel')\n",
            "('Angel', ' Camila Juliana')\n",
            "('Araoz Sanchez', ' Lautaro Nahuel')\n",
            "('Arenas', ' Lucas Gabriel')\n",
            "('Argañaraz', ' Agostina Abril')\n",
            "('Barrera', ' Matias Ezequiel')\n",
            "('Barrozo Vedia', ' Joaquin Nicolas')\n",
            "('Bettinelli', ' Valentino')\n",
            "('Bracamonte Martinez', ' Salvador')\n",
            "('Caseres', ' Maria Antonia')\n",
            "('Castillo', ' Paulina Milagros')\n",
            "('Colque Rivero', ' Ariana Zoe Del Valle')\n",
            "('Correa Segovia', ' Hugo Mariano')\n",
            "('D Elia', ' Alvaro Tadeo')\n",
            "('Diaz', ' Dulce Maitena')\n",
            "('Figueroa', ' Santino Josue')\n",
            "('Flores Cardozo', ' Agustina Tiara')\n",
            "('Flores', ' Victoria Agustina')\n",
            "('Gallo', ' Octavio Ismael')\n",
            "('Galvan', ' Lourdes Yamila')\n",
            "('Geronimo Soriano', ' Lizzie Amaya')\n",
            "('Giangreco', ' Vitto Tomasso')\n",
            "('Grancara', ' Benicio')\n",
            "('Grancara', ' Benjamin Alejandro')\n",
            "('Grancara', ' Martina Luna')\n",
            "('Guanca', ' Sara Elizabeth')\n",
            "('Guzman', ' Angélica Morena')\n",
            "('Guzman', ' Jazmin Esmeralda Belen')\n",
            "('Jaime', ' Anita Maria Belen')\n",
            "('Lacour Polo', ' Nazarena')\n",
            "('Lascano Guanca', ' Marcelo Fabricio')\n",
            "('Lezcano', ' Celia Morena')\n",
            "('Lopez', ' Victoria Constanza')\n",
            "('Mamani Garrido', ' Rosario Agostina')\n",
            "('Mamani Kynast', ' Nicolas Mauricio')\n",
            "('Marinaro', ' Martin Ezequiel')\n",
            "('Martinez', ' Tomas Andres')\n",
            "('Merluzzi Dagum', ' Ignacio')\n",
            "('Messina', ' Martina')\n",
            "('Portella Valdivia', ' Pedro Francisco')\n",
            "('Rasuk', ' Karim')\n",
            "('Retamal Cisneros', ' Zacarias Josue')\n",
            "('Rios', ' Lucia Magali')\n",
            "('Rosales', ' Francisco Gabriel')\n",
            "('Salem Barba', ' Mahia')\n",
            "('Sanchez Flores', ' Matías Agustín')\n",
            "('Scarano', ' Renato Marcelo')\n",
            "('Sierra', ' Lucas Mauricio')\n",
            "('Soto Camara', ' Agustin Ignacio')\n",
            "('Tapia', ' Martin Gabriel')\n",
            "('Villalba', ' Irina')\n",
            "('Vilte', ' Mia Antonella Alondra')\n",
            "('Virgillito', ' Katya Milena')\n",
            "('Voltolini', ' Emanuel Tobias')\n",
            "('Zalazar', ' Santino Stefano')\n",
            "('Zelda', ' Facundo')\n",
            "('Zurita', ' Juan Camilo')\n"
          ]
        }
      ]
    },
    {
      "cell_type": "markdown",
      "source": [
        "8. Crea un menú como el del ejercicio 6, pero ahora permite elegir si ordenar alfabéticamente por nombre o por apellido.\n",
        "> Para resolver este ejercicio, solicitar ayuda en clase o en el foro\n"
      ],
      "metadata": {
        "id": "PziNZOOBS_UQ"
      }
    },
    {
      "cell_type": "code",
      "source": [
        "def segundo_elemento(tupla):\n",
        "    return tupla[1]"
      ],
      "metadata": {
        "id": "oooBGj1GHfzu"
      },
      "execution_count": 68,
      "outputs": []
    },
    {
      "cell_type": "code",
      "source": [
        "print(\"\"\"ORDENAR LISTA\n",
        "[AA] Ascendente por Apellido\n",
        "[DA] Descendente por Apellido\n",
        "[AN] Ascendente por Nombre\n",
        "[DN] Descendente por Nombre \"\"\")\n",
        "opcion_usuario = input(\"Ingrese una opción: \").upper()\n",
        "if opcion_usuario == \"AA\":\n",
        "    tupla_estudiantes.sort()\n",
        "elif opcion_usuario == \"DA\":\n",
        "    tupla_estudiantes.reverse()\n",
        "elif opcion_usuario == \"AN\":\n",
        "    tupla_estudiantes.sort(key=segundo_elemento)\n",
        "elif opcion_usuario == \"DN\":\n",
        "    tupla_estudiantes.sort(key=segundo_elemento,reverse=True)\n",
        "for estudiante in tupla_estudiantes:\n",
        "    print(estudiante)"
      ],
      "metadata": {
        "id": "X7Xu-KyaTWth",
        "colab": {
          "base_uri": "https://localhost:8080/"
        },
        "outputId": "4f2d8122-295d-4c6e-99e0-23de4bb1bbd3"
      },
      "execution_count": 69,
      "outputs": [
        {
          "output_type": "stream",
          "name": "stdout",
          "text": [
            "ORDENAR LISTA\n",
            "[AA] Ascendente por Apellido\n",
            "[DA] Descendente por Apellido\n",
            "[AN] Ascendente por Nombre\n",
            "[DN] Descendente por Nombre \n",
            "Ingrese una opción: aA\n",
            "('Abud Laspiur', ' Lourdes Mariel')\n",
            "('Aguilar', ' Camilo')\n",
            "('Aguilar Mamani', ' Ramon')\n",
            "('Alonso', ' Ludmila Juliana')\n",
            "('Alurralde', ' Solange Stefania')\n",
            "('Alvarado', ' Ludmila Del Milagro')\n",
            "('Amador', ' Luana Micaela')\n",
            "('Anaquin', ' Leonardo Ezequiel')\n",
            "('Angel', ' Camila Juliana')\n",
            "('Araoz Sanchez', ' Lautaro Nahuel')\n",
            "('Arenas', ' Lucas Gabriel')\n",
            "('Argañaraz', ' Agostina Abril')\n",
            "('Barrera', ' Matias Ezequiel')\n",
            "('Barrozo Vedia', ' Joaquin Nicolas')\n",
            "('Bettinelli', ' Valentino')\n",
            "('Bracamonte Martinez', ' Salvador')\n",
            "('Caseres', ' Maria Antonia')\n",
            "('Castillo', ' Paulina Milagros')\n",
            "('Colque Rivero', ' Ariana Zoe Del Valle')\n",
            "('Correa Segovia', ' Hugo Mariano')\n",
            "('D Elia', ' Alvaro Tadeo')\n",
            "('Diaz', ' Dulce Maitena')\n",
            "('Figueroa', ' Santino Josue')\n",
            "('Flores', ' Victoria Agustina')\n",
            "('Flores Cardozo', ' Agustina Tiara')\n",
            "('Gallo', ' Octavio Ismael')\n",
            "('Galvan', ' Lourdes Yamila')\n",
            "('Geronimo Soriano', ' Lizzie Amaya')\n",
            "('Giangreco', ' Vitto Tomasso')\n",
            "('Grancara', ' Benicio')\n",
            "('Grancara', ' Benjamin Alejandro')\n",
            "('Grancara', ' Martina Luna')\n",
            "('Guanca', ' Sara Elizabeth')\n",
            "('Guzman', ' Angélica Morena')\n",
            "('Guzman', ' Jazmin Esmeralda Belen')\n",
            "('Jaime', ' Anita Maria Belen')\n",
            "('Lacour Polo', ' Nazarena')\n",
            "('Lascano Guanca', ' Marcelo Fabricio')\n",
            "('Lezcano', ' Celia Morena')\n",
            "('Lopez', ' Victoria Constanza')\n",
            "('Mamani Garrido', ' Rosario Agostina')\n",
            "('Mamani Kynast', ' Nicolas Mauricio')\n",
            "('Marinaro', ' Martin Ezequiel')\n",
            "('Martinez', ' Tomas Andres')\n",
            "('Merluzzi Dagum', ' Ignacio')\n",
            "('Messina', ' Martina')\n",
            "('Portella Valdivia', ' Pedro Francisco')\n",
            "('Rasuk', ' Karim')\n",
            "('Retamal Cisneros', ' Zacarias Josue')\n",
            "('Rios', ' Lucia Magali')\n",
            "('Rosales', ' Francisco Gabriel')\n",
            "('Salem Barba', ' Mahia')\n",
            "('Sanchez Flores', ' Matías Agustín')\n",
            "('Scarano', ' Renato Marcelo')\n",
            "('Sierra', ' Lucas Mauricio')\n",
            "('Soto Camara', ' Agustin Ignacio')\n",
            "('Tapia', ' Martin Gabriel')\n",
            "('Villalba', ' Irina')\n",
            "('Vilte', ' Mia Antonella Alondra')\n",
            "('Virgillito', ' Katya Milena')\n",
            "('Voltolini', ' Emanuel Tobias')\n",
            "('Zalazar', ' Santino Stefano')\n",
            "('Zelda', ' Facundo')\n",
            "('Zurita', ' Juan Camilo')\n"
          ]
        }
      ]
    },
    {
      "cell_type": "markdown",
      "source": [
        "9. Agrega un dato en la posición siguiente a la de tu nombre en el nuevo formato de tupla. Para esto solicita al usuario su nombre y apellido, almacena estos datos en una tupla y agrega la misma a la lista \"tupla_estudiantes\""
      ],
      "metadata": {
        "id": "mtnmvoZ9TXii"
      }
    },
    {
      "cell_type": "code",
      "source": [
        "nombre_usuario_1 = input(\"Por favor, ingrese su nombre completo (apellido, nombre): \").title()\n",
        "apellido_1, nombre_1 = (nombre_usuario_1.split(','))\n",
        "posicion = -1\n",
        "for i in range(len(tupla_estudiantes)):\n",
        "    if apellido_1 == tupla_estudiantes[i][0] and nombre_1 == tupla_estudiantes[i][1]:\n",
        "        posicion = i\n",
        "        break\n",
        "if posicion == -1:\n",
        "    print(\"El nombre ingresado no se encontró en la lista.\")\n",
        "else:\n",
        "    nombre = input(\"Por favor, ingrese un NOMBRE para insertar luego del suyo: \").title()\n",
        "    apellido = input(\"Por favor, ahora ingrese el APELLIDO del nombre a ingresar: \").title()\n",
        "    nueva_tupla = (apellido, nombre)\n",
        "    tupla_estudiantes.insert(posicion + 1, nueva_tupla)\n",
        "    for estudiante in tupla_estudiantes:\n",
        "        print(estudiante)"
      ],
      "metadata": {
        "colab": {
          "base_uri": "https://localhost:8080/"
        },
        "id": "dJMqtDMZwi1p",
        "outputId": "2172fe7f-70cc-4090-94f2-6778e5ad7b4b"
      },
      "execution_count": 70,
      "outputs": [
        {
          "output_type": "stream",
          "name": "stdout",
          "text": [
            "Por favor, ingrese su nombre completo (apellido, nombre): grancara, martina luna\n",
            "Por favor, ingrese un NOMBRE para insertar luego del suyo: RAUL OSCAR\n",
            "Por favor, ahora ingrese el APELLIDO del nombre a ingresar: GRancarA\n",
            "('Abud Laspiur', ' Lourdes Mariel')\n",
            "('Aguilar', ' Camilo')\n",
            "('Aguilar Mamani', ' Ramon')\n",
            "('Alonso', ' Ludmila Juliana')\n",
            "('Alurralde', ' Solange Stefania')\n",
            "('Alvarado', ' Ludmila Del Milagro')\n",
            "('Amador', ' Luana Micaela')\n",
            "('Anaquin', ' Leonardo Ezequiel')\n",
            "('Angel', ' Camila Juliana')\n",
            "('Araoz Sanchez', ' Lautaro Nahuel')\n",
            "('Arenas', ' Lucas Gabriel')\n",
            "('Argañaraz', ' Agostina Abril')\n",
            "('Barrera', ' Matias Ezequiel')\n",
            "('Barrozo Vedia', ' Joaquin Nicolas')\n",
            "('Bettinelli', ' Valentino')\n",
            "('Bracamonte Martinez', ' Salvador')\n",
            "('Caseres', ' Maria Antonia')\n",
            "('Castillo', ' Paulina Milagros')\n",
            "('Colque Rivero', ' Ariana Zoe Del Valle')\n",
            "('Correa Segovia', ' Hugo Mariano')\n",
            "('D Elia', ' Alvaro Tadeo')\n",
            "('Diaz', ' Dulce Maitena')\n",
            "('Figueroa', ' Santino Josue')\n",
            "('Flores', ' Victoria Agustina')\n",
            "('Flores Cardozo', ' Agustina Tiara')\n",
            "('Gallo', ' Octavio Ismael')\n",
            "('Galvan', ' Lourdes Yamila')\n",
            "('Geronimo Soriano', ' Lizzie Amaya')\n",
            "('Giangreco', ' Vitto Tomasso')\n",
            "('Grancara', ' Benicio')\n",
            "('Grancara', ' Benjamin Alejandro')\n",
            "('Grancara', ' Martina Luna')\n",
            "('Grancara', 'Raul Oscar')\n",
            "('Guanca', ' Sara Elizabeth')\n",
            "('Guzman', ' Angélica Morena')\n",
            "('Guzman', ' Jazmin Esmeralda Belen')\n",
            "('Jaime', ' Anita Maria Belen')\n",
            "('Lacour Polo', ' Nazarena')\n",
            "('Lascano Guanca', ' Marcelo Fabricio')\n",
            "('Lezcano', ' Celia Morena')\n",
            "('Lopez', ' Victoria Constanza')\n",
            "('Mamani Garrido', ' Rosario Agostina')\n",
            "('Mamani Kynast', ' Nicolas Mauricio')\n",
            "('Marinaro', ' Martin Ezequiel')\n",
            "('Martinez', ' Tomas Andres')\n",
            "('Merluzzi Dagum', ' Ignacio')\n",
            "('Messina', ' Martina')\n",
            "('Portella Valdivia', ' Pedro Francisco')\n",
            "('Rasuk', ' Karim')\n",
            "('Retamal Cisneros', ' Zacarias Josue')\n",
            "('Rios', ' Lucia Magali')\n",
            "('Rosales', ' Francisco Gabriel')\n",
            "('Salem Barba', ' Mahia')\n",
            "('Sanchez Flores', ' Matías Agustín')\n",
            "('Scarano', ' Renato Marcelo')\n",
            "('Sierra', ' Lucas Mauricio')\n",
            "('Soto Camara', ' Agustin Ignacio')\n",
            "('Tapia', ' Martin Gabriel')\n",
            "('Villalba', ' Irina')\n",
            "('Vilte', ' Mia Antonella Alondra')\n",
            "('Virgillito', ' Katya Milena')\n",
            "('Voltolini', ' Emanuel Tobias')\n",
            "('Zalazar', ' Santino Stefano')\n",
            "('Zelda', ' Facundo')\n",
            "('Zurita', ' Juan Camilo')\n"
          ]
        }
      ]
    },
    {
      "cell_type": "markdown",
      "source": [
        "10. - Pedir al usuario un nombre y mostrar todos los estudiantes que tengan ese nombre.\n",
        "  - Hacer lo mismo con un apellido.\n"
      ],
      "metadata": {
        "id": "dY4y7OVPT1FT"
      }
    },
    {
      "cell_type": "code",
      "source": [
        "nombre_usuario = input(\"Por favor, ingrese un nombre para mostrar qué estudiantes lo poseen: \").capitalize()\n",
        "for i in tupla_estudiantes:\n",
        "    if nombre_usuario in segundo_elemento(i):\n",
        "        print(i)"
      ],
      "metadata": {
        "id": "bVTVfjH4VMBM",
        "colab": {
          "base_uri": "https://localhost:8080/"
        },
        "outputId": "026b4305-3e7b-4361-b15a-60925b1db5b4"
      },
      "execution_count": 71,
      "outputs": [
        {
          "output_type": "stream",
          "name": "stdout",
          "text": [
            "Por favor, ingrese un nombre para mostrar qué estudiantes lo poseen: Lourdes\n",
            "('Abud Laspiur', ' Lourdes Mariel')\n",
            "('Galvan', ' Lourdes Yamila')\n"
          ]
        }
      ]
    },
    {
      "cell_type": "code",
      "source": [
        "apellido_usuario = input(\"Por favor, ingrese un apellido para mostrar qué estudiantes lo poseen: \").capitalize()\n",
        "for i in tupla_estudiantes:\n",
        "    if apellido_usuario in i:\n",
        "        print(i)"
      ],
      "metadata": {
        "colab": {
          "base_uri": "https://localhost:8080/"
        },
        "id": "CAJ8e6FiUm3C",
        "outputId": "c678b27b-ae1c-4a58-f0cb-5f52fb438071"
      },
      "execution_count": 72,
      "outputs": [
        {
          "output_type": "stream",
          "name": "stdout",
          "text": [
            "Por favor, ingrese un apellido para mostrar qué estudiantes lo poseen: Grancara\n",
            "('Grancara', ' Benicio')\n",
            "('Grancara', ' Benjamin Alejandro')\n",
            "('Grancara', ' Martina Luna')\n",
            "('Grancara', 'Raul Oscar')\n"
          ]
        }
      ]
    },
    {
      "cell_type": "markdown",
      "source": [
        "11. Pedir un nombre al usuario y eliminar todos los registros donde se encuentre un estudiante con el nombre ingresado.\n"
      ],
      "metadata": {
        "id": "7zdJLrqXVM30"
      }
    },
    {
      "cell_type": "code",
      "source": [
        "nombre_usuario1 = input(\"Ingrese un nombre para eliminarlo del registro: \").title()\n",
        "tupla_estudiantes_copy = tupla_estudiantes.copy()\n",
        "for i in range(len(tupla_estudiantes_copy)):\n",
        "    apellido,nombre = tupla_estudiantes_copy[i]\n",
        "    if nombre_usuario1 in tupla_estudiantes_copy[i][1]:\n",
        "        tupla_estudiantes.remove(tupla_estudiantes_copy[i])\n",
        "for estudiante in tupla_estudiantes:\n",
        "    print(estudiante)"
      ],
      "metadata": {
        "id": "3_rnimG_VQr6",
        "colab": {
          "base_uri": "https://localhost:8080/"
        },
        "outputId": "fa81d644-02f3-405b-b379-fc092e371fed"
      },
      "execution_count": 73,
      "outputs": [
        {
          "output_type": "stream",
          "name": "stdout",
          "text": [
            "Ingrese un nombre para eliminarlo del registro: Lucas\n",
            "('Abud Laspiur', ' Lourdes Mariel')\n",
            "('Aguilar', ' Camilo')\n",
            "('Aguilar Mamani', ' Ramon')\n",
            "('Alonso', ' Ludmila Juliana')\n",
            "('Alurralde', ' Solange Stefania')\n",
            "('Alvarado', ' Ludmila Del Milagro')\n",
            "('Amador', ' Luana Micaela')\n",
            "('Anaquin', ' Leonardo Ezequiel')\n",
            "('Angel', ' Camila Juliana')\n",
            "('Araoz Sanchez', ' Lautaro Nahuel')\n",
            "('Argañaraz', ' Agostina Abril')\n",
            "('Barrera', ' Matias Ezequiel')\n",
            "('Barrozo Vedia', ' Joaquin Nicolas')\n",
            "('Bettinelli', ' Valentino')\n",
            "('Bracamonte Martinez', ' Salvador')\n",
            "('Caseres', ' Maria Antonia')\n",
            "('Castillo', ' Paulina Milagros')\n",
            "('Colque Rivero', ' Ariana Zoe Del Valle')\n",
            "('Correa Segovia', ' Hugo Mariano')\n",
            "('D Elia', ' Alvaro Tadeo')\n",
            "('Diaz', ' Dulce Maitena')\n",
            "('Figueroa', ' Santino Josue')\n",
            "('Flores', ' Victoria Agustina')\n",
            "('Flores Cardozo', ' Agustina Tiara')\n",
            "('Gallo', ' Octavio Ismael')\n",
            "('Galvan', ' Lourdes Yamila')\n",
            "('Geronimo Soriano', ' Lizzie Amaya')\n",
            "('Giangreco', ' Vitto Tomasso')\n",
            "('Grancara', ' Benicio')\n",
            "('Grancara', ' Benjamin Alejandro')\n",
            "('Grancara', ' Martina Luna')\n",
            "('Grancara', 'Raul Oscar')\n",
            "('Guanca', ' Sara Elizabeth')\n",
            "('Guzman', ' Angélica Morena')\n",
            "('Guzman', ' Jazmin Esmeralda Belen')\n",
            "('Jaime', ' Anita Maria Belen')\n",
            "('Lacour Polo', ' Nazarena')\n",
            "('Lascano Guanca', ' Marcelo Fabricio')\n",
            "('Lezcano', ' Celia Morena')\n",
            "('Lopez', ' Victoria Constanza')\n",
            "('Mamani Garrido', ' Rosario Agostina')\n",
            "('Mamani Kynast', ' Nicolas Mauricio')\n",
            "('Marinaro', ' Martin Ezequiel')\n",
            "('Martinez', ' Tomas Andres')\n",
            "('Merluzzi Dagum', ' Ignacio')\n",
            "('Messina', ' Martina')\n",
            "('Portella Valdivia', ' Pedro Francisco')\n",
            "('Rasuk', ' Karim')\n",
            "('Retamal Cisneros', ' Zacarias Josue')\n",
            "('Rios', ' Lucia Magali')\n",
            "('Rosales', ' Francisco Gabriel')\n",
            "('Salem Barba', ' Mahia')\n",
            "('Sanchez Flores', ' Matías Agustín')\n",
            "('Scarano', ' Renato Marcelo')\n",
            "('Soto Camara', ' Agustin Ignacio')\n",
            "('Tapia', ' Martin Gabriel')\n",
            "('Villalba', ' Irina')\n",
            "('Vilte', ' Mia Antonella Alondra')\n",
            "('Virgillito', ' Katya Milena')\n",
            "('Voltolini', ' Emanuel Tobias')\n",
            "('Zalazar', ' Santino Stefano')\n",
            "('Zelda', ' Facundo')\n",
            "('Zurita', ' Juan Camilo')\n"
          ]
        }
      ]
    },
    {
      "cell_type": "markdown",
      "source": [
        "12. Pedir dos apellidos al usuario, y reemplazar el primer apellido por el segundo en todos los registros donde se encuentre."
      ],
      "metadata": {
        "id": "DGU_hs0BVRfa"
      }
    },
    {
      "cell_type": "code",
      "source": [
        "apellido_1 = input(\"Por favor, ingrese el apellido que quiere reemplazar: \").capitalize()\n",
        "apellido_2 = input(\"Por favor, ingrese el apellido por el cual desea cambiar el primero: \").capitalize()\n",
        "for i in range(len(tupla_estudiantes)):\n",
        "    apellido,nombre = tupla_estudiantes[i]\n",
        "    if tupla_estudiantes[i][0] == apellido_1:\n",
        "        tupla_estudiantes[i] = (apellido_2,nombre)\n",
        "for estudiante in tupla_estudiantes:\n",
        "    print(estudiante)"
      ],
      "metadata": {
        "id": "ghxBxrzTV6aL",
        "colab": {
          "base_uri": "https://localhost:8080/"
        },
        "outputId": "8804c77c-8b30-47af-b541-96f44d6b2efc"
      },
      "execution_count": 74,
      "outputs": [
        {
          "output_type": "stream",
          "name": "stdout",
          "text": [
            "Por favor, ingrese el apellido que quiere reemplazar: Grancara\n",
            "Por favor, ingrese el apellido por el cual desea cambiar el primero: Nanclares\n",
            "('Abud Laspiur', ' Lourdes Mariel')\n",
            "('Aguilar', ' Camilo')\n",
            "('Aguilar Mamani', ' Ramon')\n",
            "('Alonso', ' Ludmila Juliana')\n",
            "('Alurralde', ' Solange Stefania')\n",
            "('Alvarado', ' Ludmila Del Milagro')\n",
            "('Amador', ' Luana Micaela')\n",
            "('Anaquin', ' Leonardo Ezequiel')\n",
            "('Angel', ' Camila Juliana')\n",
            "('Araoz Sanchez', ' Lautaro Nahuel')\n",
            "('Argañaraz', ' Agostina Abril')\n",
            "('Barrera', ' Matias Ezequiel')\n",
            "('Barrozo Vedia', ' Joaquin Nicolas')\n",
            "('Bettinelli', ' Valentino')\n",
            "('Bracamonte Martinez', ' Salvador')\n",
            "('Caseres', ' Maria Antonia')\n",
            "('Castillo', ' Paulina Milagros')\n",
            "('Colque Rivero', ' Ariana Zoe Del Valle')\n",
            "('Correa Segovia', ' Hugo Mariano')\n",
            "('D Elia', ' Alvaro Tadeo')\n",
            "('Diaz', ' Dulce Maitena')\n",
            "('Figueroa', ' Santino Josue')\n",
            "('Flores', ' Victoria Agustina')\n",
            "('Flores Cardozo', ' Agustina Tiara')\n",
            "('Gallo', ' Octavio Ismael')\n",
            "('Galvan', ' Lourdes Yamila')\n",
            "('Geronimo Soriano', ' Lizzie Amaya')\n",
            "('Giangreco', ' Vitto Tomasso')\n",
            "('Nanclares', ' Benicio')\n",
            "('Nanclares', ' Benjamin Alejandro')\n",
            "('Nanclares', ' Martina Luna')\n",
            "('Nanclares', 'Raul Oscar')\n",
            "('Guanca', ' Sara Elizabeth')\n",
            "('Guzman', ' Angélica Morena')\n",
            "('Guzman', ' Jazmin Esmeralda Belen')\n",
            "('Jaime', ' Anita Maria Belen')\n",
            "('Lacour Polo', ' Nazarena')\n",
            "('Lascano Guanca', ' Marcelo Fabricio')\n",
            "('Lezcano', ' Celia Morena')\n",
            "('Lopez', ' Victoria Constanza')\n",
            "('Mamani Garrido', ' Rosario Agostina')\n",
            "('Mamani Kynast', ' Nicolas Mauricio')\n",
            "('Marinaro', ' Martin Ezequiel')\n",
            "('Martinez', ' Tomas Andres')\n",
            "('Merluzzi Dagum', ' Ignacio')\n",
            "('Messina', ' Martina')\n",
            "('Portella Valdivia', ' Pedro Francisco')\n",
            "('Rasuk', ' Karim')\n",
            "('Retamal Cisneros', ' Zacarias Josue')\n",
            "('Rios', ' Lucia Magali')\n",
            "('Rosales', ' Francisco Gabriel')\n",
            "('Salem Barba', ' Mahia')\n",
            "('Sanchez Flores', ' Matías Agustín')\n",
            "('Scarano', ' Renato Marcelo')\n",
            "('Soto Camara', ' Agustin Ignacio')\n",
            "('Tapia', ' Martin Gabriel')\n",
            "('Villalba', ' Irina')\n",
            "('Vilte', ' Mia Antonella Alondra')\n",
            "('Virgillito', ' Katya Milena')\n",
            "('Voltolini', ' Emanuel Tobias')\n",
            "('Zalazar', ' Santino Stefano')\n",
            "('Zelda', ' Facundo')\n",
            "('Zurita', ' Juan Camilo')\n"
          ]
        }
      ]
    }
  ]
}