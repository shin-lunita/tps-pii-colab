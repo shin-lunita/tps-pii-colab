{
  "nbformat": 4,
  "nbformat_minor": 0,
  "metadata": {
    "colab": {
      "provenance": [],
      "collapsed_sections": [
        "k3eLBgz7nRl-",
        "T90DkxJsQ1Kv",
        "p1yt6bPkR5TO",
        "BGr0_Jx5TvEJ",
        "8Gfi3JwsUpKz",
        "-FoafnptzDNV",
        "ufmNyUzzpshv",
        "_1hMX9QusFkj",
        "FZ2KIYW0vTFg",
        "K3wopW83wD4s",
        "XZlni5xew3eh",
        "Hq0e9thi17lM",
        "7CZYtTvzyQql"
      ],
      "include_colab_link": true
    },
    "kernelspec": {
      "name": "python3",
      "display_name": "Python 3"
    },
    "language_info": {
      "name": "python"
    }
  },
  "cells": [
    {
      "cell_type": "markdown",
      "metadata": {
        "id": "view-in-github",
        "colab_type": "text"
      },
      "source": [
        "<a href=\"https://colab.research.google.com/github/shin-lunita/tps-pii-colab/blob/main/TRADUCTOR_DE_C%C3%93DIGOS.ipynb\" target=\"_parent\"><img src=\"https://colab.research.google.com/assets/colab-badge.svg\" alt=\"Open In Colab\"/></a>"
      ]
    },
    {
      "cell_type": "markdown",
      "source": [
        "#**CÓDIGOS**"
      ],
      "metadata": {
        "id": "k3eLBgz7nRl-"
      }
    },
    {
      "cell_type": "markdown",
      "source": [
        "###CÓDIGO CÉSAR"
      ],
      "metadata": {
        "id": "T90DkxJsQ1Kv"
      }
    },
    {
      "cell_type": "code",
      "execution_count": 117,
      "metadata": {
        "id": "q48FJh8oJxgE"
      },
      "outputs": [],
      "source": [
        "codigo_cesar_mayuscula = {\n",
        "    \"A\":\"D\",\n",
        "    \"B\":\"E\",\n",
        "    \"C\":\"F\",\n",
        "    \"D\":\"G\",\n",
        "    \"E\":\"H\",\n",
        "    \"F\":\"I\",\n",
        "    \"G\":\"J\",\n",
        "    \"H\":\"K\",\n",
        "    \"I\":\"L\",\n",
        "    \"J\":\"M\",\n",
        "    \"K\":\"N\",\n",
        "    \"L\":\"O\",\n",
        "    \"M\":\"P\",\n",
        "    \"N\":\"Q\",\n",
        "    \"Ñ\":\"Ñ\",\n",
        "    \"O\":\"R\",\n",
        "    \"P\":\"S\",\n",
        "    \"Q\":\"T\",\n",
        "    \"R\":\"U\",\n",
        "    \"S\":\"V\",\n",
        "    \"T\":\"W\",\n",
        "    \"U\":\"X\",\n",
        "    \"V\":\"Y\",\n",
        "    \"W\":\"Z\",\n",
        "    \"X\":\"A\",\n",
        "    \"Y\":\"B\",\n",
        "    \"Z\":\"C\"\n",
        "}"
      ]
    },
    {
      "cell_type": "code",
      "source": [
        "codigo_cesar_minuscula = {\n",
        "    \"a\":\"d\",\n",
        "    \"b\":\"e\",\n",
        "    \"c\":\"f\",\n",
        "    \"d\":\"g\",\n",
        "    \"e\":\"h\",\n",
        "    \"f\":\"i\",\n",
        "    \"g\":\"j\",\n",
        "    \"h\":\"k\",\n",
        "    \"i\":\"l\",\n",
        "    \"j\":\"m\",\n",
        "    \"k\":\"n\",\n",
        "    \"l\":\"o\",\n",
        "    \"m\":\"p\",\n",
        "    \"n\":\"q\",\n",
        "    \"ñ\":\"ñ\",\n",
        "    \"o\":\"r\",\n",
        "    \"p\":\"s\",\n",
        "    \"q\":\"t\",\n",
        "    \"r\":\"u\",\n",
        "    \"s\":\"v\",\n",
        "    \"t\":\"w\",\n",
        "    \"u\":\"x\",\n",
        "    \"v\":\"y\",\n",
        "    \"w\":\"z\",\n",
        "    \"x\":\"a\",\n",
        "    \"y\":\"b\",\n",
        "    \"z\":\"c\"\n",
        "}"
      ],
      "metadata": {
        "id": "m-qtz5kDRGEU"
      },
      "execution_count": 118,
      "outputs": []
    },
    {
      "cell_type": "markdown",
      "source": [
        "### CÓDIGO MORSE"
      ],
      "metadata": {
        "id": "p1yt6bPkR5TO"
      }
    },
    {
      "cell_type": "code",
      "source": [
        "codigo_morse_mayuscula = {\n",
        "    \"A\":\".-\",\n",
        "    \"B\":\"-...\",\n",
        "    \"C\":\"-.-.\",\n",
        "    \"D\":\"-..\",\n",
        "    \"E\":\".\",\n",
        "    \"F\":\"..-.\",\n",
        "    \"G\":\"--.\",\n",
        "    \"H\":\"....\",\n",
        "    \"I\":\"..\",\n",
        "    \"J\":\".---\",\n",
        "    \"K\":\"-.-\",\n",
        "    \"L\":\".-..\",\n",
        "    \"M\":\"--\",\n",
        "    \"N\":\"-.\",\n",
        "    \"Ñ\":\"--.--\",\n",
        "    \"O\":\"---\",\n",
        "    \"P\":\".--.\",\n",
        "    \"Q\":\"--.-\",\n",
        "    \"R\":\".-.\",\n",
        "    \"S\":\"...\",\n",
        "    \"T\":\"-\",\n",
        "    \"U\":\"..-\",\n",
        "    \"V\":\"...-\",\n",
        "    \"W\":\".--\",\n",
        "    \"X\":\"-..-\",\n",
        "    \"Y\":\"-.--\",\n",
        "    \"Z\":\"--..\"\n",
        "}"
      ],
      "metadata": {
        "id": "BpxX_hpOR_LE"
      },
      "execution_count": 119,
      "outputs": []
    },
    {
      "cell_type": "code",
      "source": [
        "codigo_morse_minuscula = {\n",
        "    \"a\":\".-\",\n",
        "    \"b\":\"-...\",\n",
        "    \"c\":\"-.-.\",\n",
        "    \"d\":\"-..\",\n",
        "    \"e\":\".\",\n",
        "    \"f\":\"..-.\",\n",
        "    \"g\":\"--.\",\n",
        "    \"h\":\"....\",\n",
        "    \"i\":\"..\",\n",
        "    \"j\":\".---\",\n",
        "    \"k\":\"-.-\",\n",
        "    \"l\":\".-..\",\n",
        "    \"m\":\"--\",\n",
        "    \"n\":\"-.\",\n",
        "    \"ñ\":\"--.--\",\n",
        "    \"o\":\"---\",\n",
        "    \"p\":\".--.\",\n",
        "    \"q\":\"--.-\",\n",
        "    \"r\":\".-.\",\n",
        "    \"s\":\"...\",\n",
        "    \"t\":\"-\",\n",
        "    \"u\":\"..-\",\n",
        "    \"v\":\"...-\",\n",
        "    \"w\":\".--\",\n",
        "    \"x\":\"-..-\",\n",
        "    \"y\":\"-.--\",\n",
        "    \"z\":\"--..\"\n",
        "}"
      ],
      "metadata": {
        "id": "y6_AxjA4TPU2"
      },
      "execution_count": 120,
      "outputs": []
    },
    {
      "cell_type": "markdown",
      "source": [
        "###CÓDIGO ATBASH"
      ],
      "metadata": {
        "id": "BGr0_Jx5TvEJ"
      }
    },
    {
      "cell_type": "code",
      "source": [
        "codigo_atbash_mayuscula = {\n",
        "    \"A\":\"Z\",\n",
        "    \"B\":\"Y\",\n",
        "    \"C\":\"X\",\n",
        "    \"D\":\"W\",\n",
        "    \"E\":\"V\",\n",
        "    \"F\":\"U\",\n",
        "    \"G\":\"T\",\n",
        "    \"H\":\"S\",\n",
        "    \"I\":\"R\",\n",
        "    \"J\":\"Q\",\n",
        "    \"K\":\"P\",\n",
        "    \"L\":\"O\",\n",
        "    \"M\":\"N\",\n",
        "    \"N\":\"M\",\n",
        "    \"Ñ\":\"Ñ\",\n",
        "    \"O\":\"L\",\n",
        "    \"P\":\"K\",\n",
        "    \"Q\":\"J\",\n",
        "    \"R\":\"I\",\n",
        "    \"S\":\"H\",\n",
        "    \"T\":\"G\",\n",
        "    \"U\":\"F\",\n",
        "    \"V\":\"E\",\n",
        "    \"W\":\"D\",\n",
        "    \"X\":\"C\",\n",
        "    \"Y\":\"B\",\n",
        "    \"Z\":\"A\"\n",
        "}"
      ],
      "metadata": {
        "id": "tQG7Ql8CT3wR"
      },
      "execution_count": 121,
      "outputs": []
    },
    {
      "cell_type": "code",
      "source": [
        "codigo_atbash_minuscula = {\n",
        "    \"a\":\"z\",\n",
        "    \"b\":\"y\",\n",
        "    \"c\":\"x\",\n",
        "    \"d\":\"w\",\n",
        "    \"e\":\"v\",\n",
        "    \"f\":\"u\",\n",
        "    \"g\":\"t\",\n",
        "    \"h\":\"s\",\n",
        "    \"i\":\"r\",\n",
        "    \"j\":\"q\",\n",
        "    \"k\":\"p\",\n",
        "    \"l\":\"o\",\n",
        "    \"m\":\"n\",\n",
        "    \"n\":\"m\",\n",
        "    \"ñ\":\"ñ\",\n",
        "    \"o\":\"l\",\n",
        "    \"p\":\"k\",\n",
        "    \"q\":\"j\",\n",
        "    \"r\":\"i\",\n",
        "    \"s\":\"h\",\n",
        "    \"t\":\"g\",\n",
        "    \"u\":\"f\",\n",
        "    \"v\":\"e\",\n",
        "    \"w\":\"d\",\n",
        "    \"x\":\"c\",\n",
        "    \"y\":\"b\",\n",
        "    \"z\":\"a\"\n",
        "}"
      ],
      "metadata": {
        "id": "oFoZfhcdUJwh"
      },
      "execution_count": 122,
      "outputs": []
    },
    {
      "cell_type": "markdown",
      "source": [
        "###CÓDIGO A1Z26"
      ],
      "metadata": {
        "id": "8Gfi3JwsUpKz"
      }
    },
    {
      "cell_type": "code",
      "source": [
        "codigo_a1z26_mayuscula = {\n",
        "    \"A\":1,\n",
        "    \"B\":2,\n",
        "    \"C\":3,\n",
        "    \"D\":4,\n",
        "    \"E\":5,\n",
        "    \"F\":6,\n",
        "    \"G\":7,\n",
        "    \"H\":8,\n",
        "    \"I\":9,\n",
        "    \"J\":10,\n",
        "    \"K\":11,\n",
        "    \"L\":12,\n",
        "    \"M\":13,\n",
        "    \"N\":14,\n",
        "    \"Ñ\":15,\n",
        "    \"O\":16,\n",
        "    \"P\":17,\n",
        "    \"Q\":18,\n",
        "    \"R\":19,\n",
        "    \"S\":20,\n",
        "    \"T\":21,\n",
        "    \"U\":22,\n",
        "    \"V\":23,\n",
        "    \"W\":24,\n",
        "    \"X\":25,\n",
        "    \"Y\":26,\n",
        "    \"Z\":27\n",
        "}"
      ],
      "metadata": {
        "id": "ecSRgVqPUwkB"
      },
      "execution_count": 123,
      "outputs": []
    },
    {
      "cell_type": "code",
      "source": [
        "codigo_a1z26_minuscula = {\n",
        "    \"a\":1,\n",
        "    \"b\":2,\n",
        "    \"c\":3,\n",
        "    \"d\":4,\n",
        "    \"e\":5,\n",
        "    \"f\":6,\n",
        "    \"g\":7,\n",
        "    \"h\":8,\n",
        "    \"i\":9,\n",
        "    \"j\":10,\n",
        "    \"k\":11,\n",
        "    \"l\":12,\n",
        "    \"m\":13,\n",
        "    \"n\":14,\n",
        "    \"ñ\":15,\n",
        "    \"o\":16,\n",
        "    \"p\":17,\n",
        "    \"q\":18,\n",
        "    \"r\":19,\n",
        "    \"s\":20,\n",
        "    \"t\":21,\n",
        "    \"u\":22,\n",
        "    \"v\":23,\n",
        "    \"w\":24,\n",
        "    \"x\":25,\n",
        "    \"y\":26,\n",
        "    \"z\":27\n",
        "}"
      ],
      "metadata": {
        "id": "3dHx9q1zVLpW"
      },
      "execution_count": 124,
      "outputs": []
    },
    {
      "cell_type": "markdown",
      "source": [
        "###CÓDIGO BINARIO"
      ],
      "metadata": {
        "id": "-FoafnptzDNV"
      }
    },
    {
      "cell_type": "code",
      "source": [
        "codigo_binario_mayuscula = {\n",
        "    \"A\":\"01000001\",\n",
        "    \"B\":\"01000010\",\n",
        "    \"C\":\"01000011\",\n",
        "    \"D\":\"01000100\",\n",
        "    \"E\":\"01000101\",\n",
        "    \"F\":\"01000110\",\n",
        "    \"G\":\"01000111\",\n",
        "    \"H\":\"01001000\",\n",
        "    \"I\":\"01001001\",\n",
        "    \"J\":\"01001010\",\n",
        "    \"K\":\"01001011\",\n",
        "    \"L\":\"01001100\",\n",
        "    \"M\":\"01001101\",\n",
        "    \"N\":\"01001110\",\n",
        "    \"Ñ\":\"01001111\",\n",
        "    \"O\":\"01010000\",\n",
        "    \"P\":\"01010001\",\n",
        "    \"Q\":\"01010010\",\n",
        "    \"R\":\"01010011\",\n",
        "    \"S\":\"01010100\",\n",
        "    \"T\":\"01010101\",\n",
        "    \"U\":\"01010110\",\n",
        "    \"V\":\"01010111\",\n",
        "    \"W\":\"01011000\",\n",
        "    \"X\":\"01011001\",\n",
        "    \"Y\":\"01011010\",\n",
        "    \"Z\":\"01011010\"\n",
        " }"
      ],
      "metadata": {
        "id": "DJjJao63zKt7"
      },
      "execution_count": 125,
      "outputs": []
    },
    {
      "cell_type": "code",
      "source": [
        "codigo_binario_minuscula = {\n",
        "    \"a\":\"01100001\",\n",
        "    \"b\":\"01100010\",\n",
        "    \"c\":\"01100011\",\n",
        "    \"d\":\"01100100\",\n",
        "    \"e\":\"01100101\",\n",
        "    \"f\":\"01100110\",\n",
        "    \"g\":\"01100111\",\n",
        "    \"h\":\"01101000\",\n",
        "    \"i\":\"01101001\",\n",
        "    \"j\":\"01101010\",\n",
        "    \"k\":\"01101011\",\n",
        "    \"l\":\"01101100\",\n",
        "    \"m\":\"01101101\",\n",
        "    \"n\":\"01101110\",\n",
        "    \"ñ\":\"11110001\",\n",
        "    \"o\":\"01101111\",\n",
        "    \"p\":\"01110000\",\n",
        "    \"q\":\"01110001\",\n",
        "    \"r\":\"01110010\",\n",
        "    \"s\":\"01110011\",\n",
        "    \"t\":\"01110100\",\n",
        "    \"u\":\"01110101\",\n",
        "    \"v\":\"01110110\",\n",
        "    \"w\":\"01110111\",\n",
        "    \"x\":\"01111000\",\n",
        "    \"y\":\"01111001\",\n",
        "    \"z\":\"01111010\"\n",
        "}"
      ],
      "metadata": {
        "id": "ZibaV8As0GQn"
      },
      "execution_count": 126,
      "outputs": []
    },
    {
      "cell_type": "markdown",
      "source": [
        "#**MENÚ DE OPCIONES**"
      ],
      "metadata": {
        "id": "jvvx_moPnlZh"
      }
    },
    {
      "cell_type": "markdown",
      "source": [
        "###MENÚ PRINCIPAL"
      ],
      "metadata": {
        "id": "ufmNyUzzpshv"
      }
    },
    {
      "cell_type": "code",
      "source": [
        "def menu():\n",
        "  while True:\n",
        "    print(\"\"\"---- TRADUCTOR DE CÓDIGOS ----\n",
        "    Elija una de las siguientes opciones:\n",
        "        [1] Traducir a idioma natural\n",
        "        [2] Traducir a código\n",
        "        [3] Salir\n",
        "\n",
        "        \"\"\")\n",
        "    opcion_menu = input(\"Su respuesta: \")\n",
        "    print(\"\")\n",
        "\n",
        "    if opcion_menu == \"1\" or opcion_menu == \"2\":\n",
        "      sub_menu(opcion_menu)\n",
        "    elif opcion_menu == \"3\":\n",
        "      print(\"¡Hasta luego!\")\n",
        "      break\n",
        "    else:\n",
        "      print(\"\"\"Opción inválida.\n",
        "      \"\"\")"
      ],
      "metadata": {
        "id": "vJJ67YaAnh20"
      },
      "execution_count": 127,
      "outputs": []
    },
    {
      "cell_type": "markdown",
      "source": [
        "###SUB-MENÚ"
      ],
      "metadata": {
        "id": "dWNrkwH9pw6W"
      }
    },
    {
      "cell_type": "code",
      "source": [
        "def sub_menu(opcion_menu):\n",
        "  while True:\n",
        "    print(\"\"\"-- CÓDIGOS --\n",
        "    Elija una de las siguientes opciones:\n",
        "        [1] CÉSAR\n",
        "        [2] MORSE\n",
        "        [3] ATBASH\n",
        "        [4] A1Z26\n",
        "        [5] BINARIO\n",
        "        [6] Volver al menú principal\n",
        "\n",
        "        \"\"\")\n",
        "    opcion_sub_menu = input(\"Su respuesta: \")\n",
        "    opcion = opcion_sub_menu\n",
        "    print(\"\")\n",
        "\n",
        "    if opcion_sub_menu == \"1\":\n",
        "      cesar(opcion_menu)\n",
        "    elif opcion_sub_menu == \"2\":\n",
        "      morse(opcion_menu)\n",
        "    elif opcion_sub_menu == \"3\":\n",
        "      atbash(opcion_menu)\n",
        "    elif opcion_sub_menu == \"4\":\n",
        "      a1z26(opcion_menu)\n",
        "    elif opcion_sub_menu == \"5\":\n",
        "      binario(opcion_menu)\n",
        "    elif opcion_sub_menu == \"6\":\n",
        "      return\n",
        "    else:\n",
        "      print(\"Opción inválida\")\n",
        "      opcion_sub_menu = input(\"Su respuesta: \")\n",
        "  print(\"\")"
      ],
      "metadata": {
        "id": "l09xVAAPp5W9"
      },
      "execution_count": 128,
      "outputs": []
    },
    {
      "cell_type": "markdown",
      "source": [
        "#**TRADUCCIÓN**"
      ],
      "metadata": {
        "id": "9wnZT3nzrfDi"
      }
    },
    {
      "cell_type": "markdown",
      "source": [
        "######CÓDIGO CÉSAR"
      ],
      "metadata": {
        "id": "_1hMX9QusFkj"
      }
    },
    {
      "cell_type": "code",
      "source": [
        "def cesar(opcion_menu):\n",
        "  mensaje = input(\"Ingrese el mensaje que quiera traducir (evite los acentos): \")\n",
        "  resultado = \"\"\n",
        "\n",
        "  if opcion_menu == \"1\":\n",
        "    for letra in mensaje:\n",
        "      if letra in codigo_cesar_mayuscula:\n",
        "        resultado += next(key for key, value in codigo_cesar_mayuscula.items() if value == letra)\n",
        "      elif letra in codigo_cesar_minuscula:\n",
        "        resultado += next(key for key, value in codigo_cesar_minuscula.items() if value == letra)\n",
        "      else:\n",
        "        resultado += letra\n",
        "\n",
        "\n",
        "  elif opcion_menu == \"2\":\n",
        "    for letra in mensaje:\n",
        "      if letra in codigo_cesar_mayuscula:\n",
        "        resultado += codigo_cesar_mayuscula[letra]\n",
        "      elif letra in codigo_cesar_minuscula:\n",
        "        resultado += codigo_cesar_minuscula[letra]\n",
        "      else:\n",
        "        resultado += letra\n",
        "\n",
        "  print(f\"Traducción: {resultado}\")\n",
        "  print(\"\")\n",
        "  print(\"\")\n",
        "  print(\"\")\n",
        "\n",
        "  nueva_opcion = input(\"¿Quieres volver al menú principal? (s/n): \")\n",
        "  if nueva_opcion.lower() == \"s\":\n",
        "    menu()\n",
        "def cesar(opcion_menu):\n",
        "  mensaje = input(\"Ingrese el mensaje que quiera traducir (evite los acentos): \")\n",
        "  resultado = \"\"\n",
        "\n",
        "  if opcion_menu == \"1\":\n",
        "    for letra in mensaje:\n",
        "      if letra in codigo_cesar_mayuscula:\n",
        "        resultado += next(key for key, value in codigo_cesar_mayuscula.items() if value == letra)\n",
        "      elif letra in codigo_cesar_minuscula:\n",
        "        resultado += next(key for key, value in codigo_cesar_minuscula.items() if value == letra)\n",
        "      else:\n",
        "        resultado += letra\n",
        "\n",
        "\n",
        "  elif opcion_menu == \"2\":\n",
        "    for letra in mensaje:\n",
        "      if letra in codigo_cesar_mayuscula:\n",
        "        resultado += codigo_cesar_mayuscula[letra]\n",
        "      elif letra in codigo_cesar_minuscula:\n",
        "        resultado += codigo_cesar_minuscula[letra]\n",
        "      else:\n",
        "        resultado += letra\n",
        "\n",
        "  print(f\"Traducción: {resultado}\")\n",
        "  print(\"\"\"\n",
        "\n",
        "  \"\"\")"
      ],
      "metadata": {
        "id": "BUV5Xqc3sDTT"
      },
      "execution_count": 129,
      "outputs": []
    },
    {
      "cell_type": "markdown",
      "source": [
        "######CÓDIGO MORSE"
      ],
      "metadata": {
        "id": "FZ2KIYW0vTFg"
      }
    },
    {
      "cell_type": "code",
      "source": [
        "def morse(opcion_menu):\n",
        "    mensaje = input(\"\"\"Ingrese el mensaje que quiera traducir (evite los acentos):\n",
        "    (En el caso de la decodificación, para separar entre letras utilice '/' y para separar entre palabras utilice '//').\"\"\")\n",
        "    resultado = \"\"\n",
        "\n",
        "    if opcion_menu == \"1\":\n",
        "      palabras_codificadas = mensaje.split(\"//\")\n",
        "      for palabra in palabras_codificadas:\n",
        "        letras_codificadas = palabra.split(\"/\")\n",
        "        for letra in letras_codificadas:\n",
        "          if letra in codigo_morse_mayuscula.values():\n",
        "            resultado += next(key for key, value in codigo_morse_mayuscula.items() if value == letra)\n",
        "          elif letra in codigo_morse_minuscula.values():\n",
        "            resultado += next(key for key, value in codigo_morse_minuscula.items() if value == letra)\n",
        "        resultado += \" \"\n",
        "      resultado = resultado.strip()\n",
        "\n",
        "    elif opcion_menu == \"2\":\n",
        "      for palabra in mensaje.split(\" \"):\n",
        "        for letra in palabra:\n",
        "          if letra in codigo_morse_mayuscula:\n",
        "            resultado += codigo_morse_mayuscula[letra] + \"/\"\n",
        "          elif letra in codigo_morse_minuscula:\n",
        "            resultado += codigo_morse_minuscula[letra] + \"/\"\n",
        "          else:\n",
        "            resultado += letra\n",
        "        resultado = resultado.rstrip(\"/\") + \"//\"\n",
        "      resultado = resultado.rstrip(\"//\")\n",
        "\n",
        "    print(f\"Traducción: {resultado}\")\n",
        "    print(\"\"\"\n",
        "\n",
        "    \"\"\")"
      ],
      "metadata": {
        "id": "RyEMeoNDvWhr"
      },
      "execution_count": 130,
      "outputs": []
    },
    {
      "cell_type": "markdown",
      "source": [
        "######CÓDIGO ATBASH"
      ],
      "metadata": {
        "id": "K3wopW83wD4s"
      }
    },
    {
      "cell_type": "code",
      "source": [
        "def atbash(opcion_menu):\n",
        "  mensaje = input(\"Ingrese el mensaje que quiera traducir (evite los acentos): \")\n",
        "  resultado = \"\"\n",
        "\n",
        "  if opcion_menu == \"1\":\n",
        "    for letra in mensaje:\n",
        "      if letra in codigo_atbash_mayuscula.values():\n",
        "        resultado += next(key for key, value in codigo_atbash_mayuscula.items() if value == letra)\n",
        "      elif letra in codigo_atbash_minuscula.values():\n",
        "        resultado += next(key for key, value in codigo_atbash_minuscula.items() if value == letra)\n",
        "      else:\n",
        "        resultado += letra\n",
        "\n",
        "  elif opcion_menu == \"2\":\n",
        "    for letra in mensaje:\n",
        "      if letra in codigo_atbash_mayuscula:\n",
        "        resultado += codigo_atbash_mayuscula[letra]\n",
        "      elif letra in codigo_cesar_minuscula:\n",
        "        resultado += codigo_atbash_minuscula[letra]\n",
        "      else:\n",
        "        resultado += letra\n",
        "\n",
        "  print(f\"Traducción: {resultado}\")\n",
        "  print(\"\"\"\n",
        "\n",
        "  \"\"\")"
      ],
      "metadata": {
        "id": "zludaodywGDp"
      },
      "execution_count": 131,
      "outputs": []
    },
    {
      "cell_type": "markdown",
      "source": [
        "######CÓDIGO A1Z26"
      ],
      "metadata": {
        "id": "XZlni5xew3eh"
      }
    },
    {
      "cell_type": "code",
      "source": [
        "def a1z26(opcion_menu):\n",
        "    mensaje = input(\"\"\"Ingrese el mensaje que quiera traducir (evite los acentos):\n",
        "    (En el caso de la decodificación, para separar entre letras utilice '/' y para separar entre palabras utilice '//').\"\"\")\n",
        "    resultado = \"\"\n",
        "\n",
        "    if opcion_menu == \"1\":\n",
        "      palabras_codificadas = mensaje.split(\"//\")\n",
        "      for palabra in palabras_codificadas:\n",
        "        letras_codificadas = palabra.split(\"/\")\n",
        "        for letra in letras_codificadas:\n",
        "          if letra.isdigit():\n",
        "            numero = int(letra)\n",
        "            if numero in codigo_a1z26_mayuscula.values():\n",
        "              resultado += next(key for key, value in codigo_a1z26_mayuscula.items() if value == numero)\n",
        "            elif numero in codigo_a1z26_minuscula.values():\n",
        "              resultado += next(key for key, value in codigo_a1z26_minuscula.items() if value == numero)\n",
        "        resultado += \" \"\n",
        "      resultado = resultado.strip()\n",
        "\n",
        "    elif opcion_menu == \"2\":\n",
        "      for palabra in mensaje.split(\" \"):\n",
        "        for letra in palabra:\n",
        "          if letra in codigo_a1z26_mayuscula:\n",
        "            resultado += str(codigo_a1z26_mayuscula[letra]) + \"/\"\n",
        "          elif letra in codigo_a1z26_minuscula:\n",
        "            resultado += str(codigo_a1z26_minuscula[letra]) + \"/\"\n",
        "          else:ltado += letra\n",
        "        resultado = resultado.rstrip(\"/\") + \"//\"\n",
        "      resultado = resultado.rstrip(\"//\")\n",
        "\n",
        "    print(f\"Traducción: {resultado}\")\n",
        "    print(\"\"\"\n",
        "\n",
        "    \"\"\")"
      ],
      "metadata": {
        "id": "Xt2uFG-elR7D"
      },
      "execution_count": 132,
      "outputs": []
    },
    {
      "cell_type": "markdown",
      "source": [
        "######CÓDIGO BINARIO"
      ],
      "metadata": {
        "id": "Hq0e9thi17lM"
      }
    },
    {
      "cell_type": "code",
      "source": [
        "def binario(opcion_menu):\n",
        "    mensaje = input(\"\"\"Ingrese el mensaje que quiera traducir (evite los acentos):\n",
        "    (En el caso de la decodificación, para separar entre letras utilice '/' y para separar entre palabras utilice '//').\"\"\")\n",
        "    resultado = \"\"\n",
        "\n",
        "    if opcion_menu == \"1\":\n",
        "      palabras_codificadas = mensaje.split(\"//\")\n",
        "      for palabra in palabras_codificadas:\n",
        "        letras_codificadas = palabra.split(\"/\")\n",
        "        for letra in letras_codificadas:\n",
        "          if letra in codigo_binario_mayuscula.values():\n",
        "            resultado += next(key for key, value in codigo_binario_mayuscula.items() if value == letra)\n",
        "          elif letra in codigo_binario_minuscula.values():\n",
        "            resultado += next(key for key, value in codigo_binario_minuscula.items() if value == letra)\n",
        "        resultado += \" \"\n",
        "      resultado = resultado.strip()\n",
        "\n",
        "    elif opcion_menu == \"2\":\n",
        "      for palabra in mensaje.split(\" \"):\n",
        "        for letra in palabra:\n",
        "          if letra in codigo_binario_mayuscula:\n",
        "            resultado += codigo_binario_mayuscula[letra] + \"/\"\n",
        "          elif letra in codigo_binario_minuscula:\n",
        "            resultado += codigo_binario_minuscula[letra] + \"/\"\n",
        "          else:\n",
        "            resultado += letra\n",
        "        resultado = resultado.rstrip(\"/\") + \"//\"\n",
        "      resultado = resultado.rstrip(\"//\")\n",
        "\n",
        "    print(f\"Traducción: {resultado}\")\n",
        "    print(\"\"\"\n",
        "\n",
        "    \"\"\")"
      ],
      "metadata": {
        "id": "KmpHFQgG1_ML"
      },
      "execution_count": 133,
      "outputs": []
    },
    {
      "cell_type": "markdown",
      "source": [
        "#**EJECUCIÓN**"
      ],
      "metadata": {
        "id": "7CZYtTvzyQql"
      }
    },
    {
      "cell_type": "code",
      "source": [
        "menu()"
      ],
      "metadata": {
        "colab": {
          "base_uri": "https://localhost:8080/"
        },
        "id": "Lm1hrSCcyqCG",
        "outputId": "dbf948d6-8238-4c1f-b94f-449e2ca756f7"
      },
      "execution_count": null,
      "outputs": [
        {
          "output_type": "stream",
          "name": "stdout",
          "text": [
            "---- TRADUCTOR DE CÓDIGOS ----\n",
            "    Elija una de las siguientes opciones:\n",
            "        [1] Traducir a idioma natural\n",
            "        [2] Traducir a código\n",
            "        [3] Salir\n",
            "\n",
            "        \n"
          ]
        }
      ]
    }
  ]
}