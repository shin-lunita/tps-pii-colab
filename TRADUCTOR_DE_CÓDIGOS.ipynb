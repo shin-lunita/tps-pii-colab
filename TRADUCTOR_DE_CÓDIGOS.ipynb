{
  "nbformat": 4,
  "nbformat_minor": 0,
  "metadata": {
    "colab": {
      "provenance": [],
      "collapsed_sections": [
        "k3eLBgz7nRl-",
        "T90DkxJsQ1Kv",
        "hCyaxOG6Q7I3",
        "obeq8DyIRA-G",
        "p1yt6bPkR5TO",
        "soqD63_QTJHy",
        "iLXBSOV5TH__",
        "BGr0_Jx5TvEJ",
        "jKaph2wJT1ZD",
        "XTTaitiEUHKi",
        "8Gfi3JwsUpKz",
        "GLWrBc46UxZY",
        "OirV76gRViGN",
        "D-PT7uSAVogV",
        "Y4tnnmY8Wg5-",
        "ufmNyUzzpshv",
        "dWNrkwH9pw6W",
        "9wnZT3nzrfDi",
        "_1hMX9QusFkj",
        "FZ2KIYW0vTFg",
        "K3wopW83wD4s",
        "XZlni5xew3eh"
      ],
      "include_colab_link": true
    },
    "kernelspec": {
      "name": "python3",
      "display_name": "Python 3"
    },
    "language_info": {
      "name": "python"
    }
  },
  "cells": [
    {
      "cell_type": "markdown",
      "metadata": {
        "id": "view-in-github",
        "colab_type": "text"
      },
      "source": [
        "<a href=\"https://colab.research.google.com/github/shin-lunita/tps-pii-colab/blob/main/TRADUCTOR_DE_C%C3%93DIGOS.ipynb\" target=\"_parent\"><img src=\"https://colab.research.google.com/assets/colab-badge.svg\" alt=\"Open In Colab\"/></a>"
      ]
    },
    {
      "cell_type": "markdown",
      "source": [
        "#**CÓDIGOS**"
      ],
      "metadata": {
        "id": "k3eLBgz7nRl-"
      }
    },
    {
      "cell_type": "markdown",
      "source": [
        "###CÓDIGO CÉSAR"
      ],
      "metadata": {
        "id": "T90DkxJsQ1Kv"
      }
    },
    {
      "cell_type": "markdown",
      "source": [
        "######MAYÚSCULA"
      ],
      "metadata": {
        "id": "hCyaxOG6Q7I3"
      }
    },
    {
      "cell_type": "code",
      "execution_count": null,
      "metadata": {
        "id": "q48FJh8oJxgE"
      },
      "outputs": [],
      "source": [
        "codigo_cesar_mayuscula = {\n",
        "    \"A\":\"D\",\n",
        "    \"B\":\"E\",\n",
        "    \"C\":\"F\",\n",
        "    \"D\":\"G\",\n",
        "    \"E\":\"H\",\n",
        "    \"F\":\"I\",\n",
        "    \"G\":\"J\",\n",
        "    \"H\":\"K\",\n",
        "    \"I\":\"L\",\n",
        "    \"J\":\"M\",\n",
        "    \"K\":\"N\",\n",
        "    \"L\":\"O\",\n",
        "    \"M\":\"P\",\n",
        "    \"N\":\"Q\",\n",
        "    \"Ñ\":\"Ñ\",\n",
        "    \"O\":\"R\",\n",
        "    \"P\":\"S\",\n",
        "    \"Q\":\"T\",\n",
        "    \"R\":\"U\",\n",
        "    \"S\":\"V\",\n",
        "    \"T\":\"W\",\n",
        "    \"U\":\"X\",\n",
        "    \"V\":\"Y\",\n",
        "    \"W\":\"Z\",\n",
        "    \"X\":\"A\",\n",
        "    \"Y\":\"B\",\n",
        "    \"Z\":\"C\"\n",
        "}"
      ]
    },
    {
      "cell_type": "markdown",
      "source": [
        "######MINÚSCULA"
      ],
      "metadata": {
        "id": "obeq8DyIRA-G"
      }
    },
    {
      "cell_type": "code",
      "source": [
        "codigo_cesar_minuscula = {\n",
        "    \"a\":\"d\",\n",
        "    \"b\":\"e\",\n",
        "    \"c\":\"f\",\n",
        "    \"d\":\"g\",\n",
        "    \"e\":\"h\",\n",
        "    \"f\":\"i\",\n",
        "    \"g\":\"j\",\n",
        "    \"h\":\"k\",\n",
        "    \"i\":\"l\",\n",
        "    \"j\":\"m\",\n",
        "    \"k\":\"n\",\n",
        "    \"l\":\"o\",\n",
        "    \"m\":\"p\",\n",
        "    \"n\":\"q\",\n",
        "    \"ñ\":\"ñ\",\n",
        "    \"o\":\"r\",\n",
        "    \"p\":\"s\",\n",
        "    \"q\":\"t\",\n",
        "    \"r\":\"u\",\n",
        "    \"s\":\"v\",\n",
        "    \"t\":\"w\",\n",
        "    \"u\":\"x\",\n",
        "    \"v\":\"y\",\n",
        "    \"w\":\"z\",\n",
        "    \"x\":\"a\",\n",
        "    \"y\":\"b\",\n",
        "    \"z\":\"c\"\n",
        "}"
      ],
      "metadata": {
        "id": "m-qtz5kDRGEU"
      },
      "execution_count": null,
      "outputs": []
    },
    {
      "cell_type": "markdown",
      "source": [
        "### CÓDIGO MORSE"
      ],
      "metadata": {
        "id": "p1yt6bPkR5TO"
      }
    },
    {
      "cell_type": "markdown",
      "source": [
        "######MAYÚSCULA"
      ],
      "metadata": {
        "id": "soqD63_QTJHy"
      }
    },
    {
      "cell_type": "code",
      "source": [
        "codigo_morse_mayuscula = {\n",
        "    \"A\":\".-\",\n",
        "    \"B\":\"-...\",\n",
        "    \"C\":\"-.-.\",\n",
        "    \"D\":\"-..\",\n",
        "    \"E\":\".\",\n",
        "    \"F\":\"..-.\",\n",
        "    \"G\":\"--.\",\n",
        "    \"H\":\"....\",\n",
        "    \"I\":\"..\",\n",
        "    \"J\":\".---\",\n",
        "    \"K\":\"-.-\",\n",
        "    \"L\":\".-..\",\n",
        "    \"M\":\"--\",\n",
        "    \"N\":\"-.\",\n",
        "    \"Ñ\":\"--.--\",\n",
        "    \"O\":\"---\",\n",
        "    \"P\":\".--.\",\n",
        "    \"Q\":\"--.-\",\n",
        "    \"R\":\".-.\",\n",
        "    \"S\":\"...\",\n",
        "    \"T\":\"-\",\n",
        "    \"U\":\"..-\",\n",
        "    \"V\":\"...-\",\n",
        "    \"W\":\".--\",\n",
        "    \"X\":\"-..-\",\n",
        "    \"Y\":\"-.--\",\n",
        "    \"Z\":\"--..\"\n",
        "}"
      ],
      "metadata": {
        "id": "BpxX_hpOR_LE"
      },
      "execution_count": null,
      "outputs": []
    },
    {
      "cell_type": "markdown",
      "source": [
        "######MINÚSCULA"
      ],
      "metadata": {
        "id": "iLXBSOV5TH__"
      }
    },
    {
      "cell_type": "code",
      "source": [
        "codigo_morse_mayuscula = {\n",
        "    \"a\":\".-\",\n",
        "    \"b\":\"-...\",\n",
        "    \"c\":\"-.-.\",\n",
        "    \"d\":\"-..\",\n",
        "    \"e\":\".\",\n",
        "    \"f\":\"..-.\",\n",
        "    \"g\":\"--.\",\n",
        "    \"h\":\"....\",\n",
        "    \"i\":\"..\",\n",
        "    \"j\":\".---\",\n",
        "    \"k\":\"-.-\",\n",
        "    \"l\":\".-..\",\n",
        "    \"m\":\"--\",\n",
        "    \"n\":\"-.\",\n",
        "    \"ñ\":\"--.--\",\n",
        "    \"o\":\"---\",\n",
        "    \"p\":\".--.\",\n",
        "    \"q\":\"--.-\",\n",
        "    \"r\":\".-.\",\n",
        "    \"s\":\"...\",\n",
        "    \"t\":\"-\",\n",
        "    \"u\":\"..-\",\n",
        "    \"v\":\"...-\",\n",
        "    \"w\":\".--\",\n",
        "    \"x\":\"-..-\",\n",
        "    \"y\":\"-.--\",\n",
        "    \"z\":\"--..\"\n",
        "}"
      ],
      "metadata": {
        "id": "y6_AxjA4TPU2"
      },
      "execution_count": null,
      "outputs": []
    },
    {
      "cell_type": "markdown",
      "source": [
        "###CÓDIGO ATBASH"
      ],
      "metadata": {
        "id": "BGr0_Jx5TvEJ"
      }
    },
    {
      "cell_type": "markdown",
      "source": [
        "######MAYÚSCULA"
      ],
      "metadata": {
        "id": "jKaph2wJT1ZD"
      }
    },
    {
      "cell_type": "code",
      "source": [
        "codigo_atbash_mayuscula = {\n",
        "    \"A\":\"Z\",\n",
        "    \"B\":\"Y\",\n",
        "    \"C\":\"X\",\n",
        "    \"D\":\"W\",\n",
        "    \"E\":\"V\",\n",
        "    \"F\":\"U\",\n",
        "    \"G\":\"T\",\n",
        "    \"H\":\"S\",\n",
        "    \"I\":\"R\",\n",
        "    \"J\":\"Q\",\n",
        "    \"K\":\"P\",\n",
        "    \"L\":\"O\",\n",
        "    \"M\":\"N\",\n",
        "    \"N\":\"M\",\n",
        "    \"Ñ\":\"Ñ\",\n",
        "    \"O\":\"L\",\n",
        "    \"P\":\"K\",\n",
        "    \"Q\":\"J\",\n",
        "    \"R\":\"I\",\n",
        "    \"S\":\"H\",\n",
        "    \"T\":\"G\",\n",
        "    \"U\":\"F\",\n",
        "    \"V\":\"E\",\n",
        "    \"W\":\"D\",\n",
        "    \"X\":\"C\",\n",
        "    \"Y\":\"B\",\n",
        "    \"Z\":\"A\"\n",
        "}"
      ],
      "metadata": {
        "id": "tQG7Ql8CT3wR"
      },
      "execution_count": null,
      "outputs": []
    },
    {
      "cell_type": "markdown",
      "source": [
        "#####MINÚSCULA"
      ],
      "metadata": {
        "id": "XTTaitiEUHKi"
      }
    },
    {
      "cell_type": "code",
      "source": [
        "codigo_atbash_minuscula = {\n",
        "    \"a\":\"z\",\n",
        "    \"b\":\"y\",\n",
        "    \"c\":\"x\",\n",
        "    \"d\":\"w\",\n",
        "    \"e\":\"v\",\n",
        "    \"f\":\"u\",\n",
        "    \"g\":\"t\",\n",
        "    \"h\":\"s\",\n",
        "    \"i\":\"r\",\n",
        "    \"j\":\"q\",\n",
        "    \"k\":\"p\",\n",
        "    \"l\":\"o\",\n",
        "    \"m\":\"n\",\n",
        "    \"n\":\"m\",\n",
        "    \"ñ\":\"ñ\",\n",
        "    \"o\":\"l\",\n",
        "    \"p\":\"k\",\n",
        "    \"q\":\"j\",\n",
        "    \"r\":\"i\",\n",
        "    \"s\":\"h\",\n",
        "    \"t\":\"g\",\n",
        "    \"u\":\"f\",\n",
        "    \"v\":\"e\",\n",
        "    \"w\":\"d\",\n",
        "    \"x\":\"c\",\n",
        "    \"y\":\"b\",\n",
        "    \"z\":\"a\"\n",
        "}"
      ],
      "metadata": {
        "id": "oFoZfhcdUJwh"
      },
      "execution_count": null,
      "outputs": []
    },
    {
      "cell_type": "markdown",
      "source": [
        "###CÓDIGO A1Z26"
      ],
      "metadata": {
        "id": "8Gfi3JwsUpKz"
      }
    },
    {
      "cell_type": "markdown",
      "source": [
        "######MAYÚSCULA"
      ],
      "metadata": {
        "id": "GLWrBc46UxZY"
      }
    },
    {
      "cell_type": "code",
      "source": [
        "codigo_a1z26_mayuscula = {\n",
        "    \"A\":1,\n",
        "    \"B\":2,\n",
        "    \"C\":3,\n",
        "    \"D\":4,\n",
        "    \"E\":5,\n",
        "    \"F\":6,\n",
        "    \"G\":7,\n",
        "    \"H\":8,\n",
        "    \"I\":9,\n",
        "    \"J\":10,\n",
        "    \"K\":11,\n",
        "    \"L\":12,\n",
        "    \"M\":13,\n",
        "    \"N\":14,\n",
        "    \"Ñ\":15,\n",
        "    \"O\":16,\n",
        "    \"P\":17,\n",
        "    \"Q\":18,\n",
        "    \"R\":19,\n",
        "    \"S\":20,\n",
        "    \"T\":21,\n",
        "    \"U\":22,\n",
        "    \"V\":23,\n",
        "    \"W\":24,\n",
        "    \"X\":25,\n",
        "    \"Y\":26,\n",
        "    \"Z\":27\n",
        "}"
      ],
      "metadata": {
        "id": "ecSRgVqPUwkB"
      },
      "execution_count": null,
      "outputs": []
    },
    {
      "cell_type": "markdown",
      "source": [
        "######MINÚSCULA"
      ],
      "metadata": {
        "id": "sUExfe99VJe_"
      }
    },
    {
      "cell_type": "code",
      "source": [
        "codigo_a1z26_minuscula = {\n",
        "    \"a\":1,\n",
        "    \"b\":2,\n",
        "    \"c\":3,\n",
        "    \"d\":4,\n",
        "    \"e\":5,\n",
        "    \"f\":6,\n",
        "    \"g\":7,\n",
        "    \"h\":8,\n",
        "    \"i\":9,\n",
        "    \"j\":10,\n",
        "    \"k\":11,\n",
        "    \"l\":12,\n",
        "    \"m\":13,\n",
        "    \"n\":14,\n",
        "    \"ñ\":15,\n",
        "    \"o\":16,\n",
        "    \"p\":17,\n",
        "    \"q\":18,\n",
        "    \"r\":19,\n",
        "    \"s\":20,\n",
        "    \"t\":21,\n",
        "    \"u\":22,\n",
        "    \"v\":23,\n",
        "    \"w\":24,\n",
        "    \"x\":25,\n",
        "    \"y\":26,\n",
        "    \"z\":27\n",
        "}"
      ],
      "metadata": {
        "id": "3dHx9q1zVLpW"
      },
      "execution_count": null,
      "outputs": []
    },
    {
      "cell_type": "markdown",
      "source": [
        "###CÓDIGO COMBINADO"
      ],
      "metadata": {
        "id": "OirV76gRViGN"
      }
    },
    {
      "cell_type": "markdown",
      "source": [
        "######MAYÚSCULA"
      ],
      "metadata": {
        "id": "D-PT7uSAVogV"
      }
    },
    {
      "cell_type": "code",
      "source": [
        "codigo_combinado_mayuscula = {\n",
        "    1:\"W\",\n",
        "    2:\"V\",\n",
        "    3:\"U\",\n",
        "    4:\"T\",\n",
        "    5:\"S\",\n",
        "    6:\"R\",\n",
        "    7:\"Q\",\n",
        "    8:\"P\",\n",
        "    9:\"O\",\n",
        "    10:\"N\",\n",
        "    11:\"M\",\n",
        "    12:\"L\",\n",
        "    13:\"K\",\n",
        "    14:\"J\",\n",
        "    15:\"I\",\n",
        "    16:\"H\",\n",
        "    17:\"G\",\n",
        "    18:\"F\",\n",
        "    19:\"E\",\n",
        "    20:\"D\",\n",
        "    21:\"C\",\n",
        "    22:\"B\",\n",
        "    23:\"A\",\n",
        "    24:\"Z\",\n",
        "    25:\"Y\",\n",
        "    26:\"X\",\n",
        "    27:\"Ñ\"\n",
        "}"
      ],
      "metadata": {
        "id": "IUIRV3KBVqkr"
      },
      "execution_count": null,
      "outputs": []
    },
    {
      "cell_type": "markdown",
      "source": [
        "######MINÚSCULA"
      ],
      "metadata": {
        "id": "Y4tnnmY8Wg5-"
      }
    },
    {
      "cell_type": "code",
      "source": [
        "codigo_combinado_minuscula = {\n",
        "    1:\"w\",\n",
        "    2:\"v\",\n",
        "    3:\"u\",\n",
        "    4:\"t\",\n",
        "    5:\"s\",\n",
        "    6:\"r\",\n",
        "    7:\"q\",\n",
        "    8:\"p\",\n",
        "    9:\"o\",\n",
        "    10:\"n\",\n",
        "    11:\"m\",\n",
        "    12:\"l\",\n",
        "    13:\"k\",\n",
        "    14:\"j\",\n",
        "    15:\"i\",\n",
        "    16:\"h\",\n",
        "    17:\"g\",\n",
        "    18:\"f\",\n",
        "    19:\"e\",\n",
        "    20:\"d\",\n",
        "    21:\"c\",\n",
        "    22:\"b\",\n",
        "    23:\"a\",\n",
        "    24:\"z\",\n",
        "    25:\"y\",\n",
        "    26:\"x\",\n",
        "    27:\"ñ\"\n",
        "}"
      ],
      "metadata": {
        "id": "ST-3dsp9Wjpz"
      },
      "execution_count": null,
      "outputs": []
    },
    {
      "cell_type": "markdown",
      "source": [
        "#**MENÚ DE OPCIONES**"
      ],
      "metadata": {
        "id": "jvvx_moPnlZh"
      }
    },
    {
      "cell_type": "markdown",
      "source": [
        "###MENÚ PRINCIPAL"
      ],
      "metadata": {
        "id": "ufmNyUzzpshv"
      }
    },
    {
      "cell_type": "code",
      "source": [
        "def menu():\n",
        "  while True:\n",
        "    print(\"\"\"---- TRADUCTOR DE CÓDIGOS ----\n",
        "    Elija una de las siguientes opciones:\n",
        "        [1] Traducir a idioma natural\n",
        "        [2] Traducir a código\n",
        "        [3] Salir\n",
        "\n",
        "        \"\"\")\n",
        "    opcion_menu = input(\"Su respuesta: \")\n",
        "    print(\"\")\n",
        "\n",
        "    if opcion_menu == \"1\" or opcion_menu == \"2\":\n",
        "      sub_menu(opcion_menu)\n",
        "    elif opcion_menu == \"3\":\n",
        "      print(\"¡Hasta luego!\")\n",
        "      break\n",
        "    else:\n",
        "      print(\"Opción inválida\")\n",
        "      print(\"\")"
      ],
      "metadata": {
        "id": "vJJ67YaAnh20"
      },
      "execution_count": null,
      "outputs": []
    },
    {
      "cell_type": "markdown",
      "source": [
        "###SUB-MENÚ"
      ],
      "metadata": {
        "id": "dWNrkwH9pw6W"
      }
    },
    {
      "cell_type": "code",
      "source": [
        "def sub_menu(opcion_menu):\n",
        "  while True:\n",
        "    print(\"\"\"-- CÓDIGOS --\n",
        "    Elija una de las siguientes opciones:\n",
        "        [1] CÉSAR\n",
        "        [2] MORSE\n",
        "        [3] ATBASH\n",
        "        [4] A1Z26\n",
        "        [5] COMBINADO\n",
        "        [6] Volver al menú principal\n",
        "\n",
        "        \"\"\")\n",
        "    opcion_sub_menu = input(\"Su respuesta: \")\n",
        "    opcion = opcion_sub_menu\n",
        "    print(\"\")\n",
        "\n",
        "    if opcion_sub_menu == \"1\":\n",
        "      cesar(opcion_menu)\n",
        "    elif opcion_sub_menu == \"2\":\n",
        "      morse(opcion_menu)\n",
        "    elif opcion_sub_menu == \"3\":\n",
        "      atbash(opcion_menu)\n",
        "    elif opcion_sub_menu == \"4\":\n",
        "      a1z26(opcion_menu)\n",
        "    elif opcion_sub_menu == \"5\":\n",
        "      combinado(opcion_menu)\n",
        "    elif opcion_sub_menu == \"6\":\n",
        "      return\n",
        "    else:\n",
        "      print(\"Opción inválida\")\n",
        "      opcion_sub_menu = input(\"Su respuesta: \")\n",
        "  print(\"\")"
      ],
      "metadata": {
        "id": "l09xVAAPp5W9"
      },
      "execution_count": null,
      "outputs": []
    },
    {
      "cell_type": "markdown",
      "source": [
        "#**TRADUCCIÓN**"
      ],
      "metadata": {
        "id": "9wnZT3nzrfDi"
      }
    },
    {
      "cell_type": "markdown",
      "source": [
        "######CÓDIGO CÉSAR"
      ],
      "metadata": {
        "id": "_1hMX9QusFkj"
      }
    },
    {
      "cell_type": "code",
      "source": [
        "def cesar(opcion_menu):\n",
        "  mensaje = input(\"Ingrese el mensaje que quiera traducir (evite los acentos): \")\n",
        "  resultado = \"\"\n",
        "\n",
        "  if opcion_menu == \"1\":\n",
        "    for letra in mensaje:\n",
        "      if letra in codigo_cesar_mayuscula:\n",
        "        resultado += next(key for key, value in codigo_cesar_mayuscula.items() if value == letra)\n",
        "      elif letra in codigo_cesar_minuscula:\n",
        "        resultado += next(key for key, value in codigo_cesar_minuscula.items() if value == letra)\n",
        "      else:\n",
        "        resultado += letra\n",
        "\n",
        "\n",
        "  elif opcion_menu == \"2\":\n",
        "    for letra in mensaje:\n",
        "      if letra in codigo_cesar_mayuscula:\n",
        "        resultado += codigo_cesar_mayuscula[letra]\n",
        "      elif letra in codigo_cesar_minuscula:\n",
        "        resultado += codigo_cesar_minuscula[letra]\n",
        "      else:\n",
        "        resultado += letra\n",
        "\n",
        "  print(f\"Traducción: {resultado}\")\n",
        "  print(\"\")\n",
        "  print(\"\")\n",
        "  print(\"\")\n",
        "\n",
        "  menu()"
      ],
      "metadata": {
        "id": "BUV5Xqc3sDTT"
      },
      "execution_count": null,
      "outputs": []
    },
    {
      "cell_type": "markdown",
      "source": [
        "######CÓDIGO MORSE"
      ],
      "metadata": {
        "id": "FZ2KIYW0vTFg"
      }
    },
    {
      "cell_type": "code",
      "source": [
        "def morse(opcion_menu):\n",
        "  mensaje = input(\"Ingrese el mensaje que quiera traducir (evite los acentos): \")\n",
        "  resultado = \"\"\n",
        "\n",
        "  if opcion_menu == \"1\":\n",
        "    for letra in mensaje:\n",
        "            if letra in codigo_morse_mayuscula.values():\n",
        "                resultado += next(key for key, value in codigo_morse_mayuscula.items() if value == letra)\n",
        "            elif letra in codigo_morse_minuscula.values():\n",
        "                resultado += next(key for key, value in codigo_morse_minuscula.items() if value == letra)\n",
        "            else:\n",
        "                resultado += letra\n",
        "\n",
        "  elif opcion_menu == \"2\":\n",
        "    for letra in mensaje:\n",
        "            if letra in codigo_morse_mayuscula:\n",
        "                resultado += codigo_morse_mayuscula[letra]\n",
        "            elif letra in codigo_cesar_minuscula:\n",
        "                resultado += codigo_morse_minuscula[letra]\n",
        "            else:\n",
        "                resultado += letra\n",
        "\n",
        "  print(f\"Traducción: {resultado}\")\n",
        "  print(\"\")\n",
        "  print(\"\")\n",
        "  print(\"\")\n",
        "\n",
        "  menu()"
      ],
      "metadata": {
        "id": "RyEMeoNDvWhr"
      },
      "execution_count": null,
      "outputs": []
    },
    {
      "cell_type": "markdown",
      "source": [
        "######CÓDIGO ATBASH"
      ],
      "metadata": {
        "id": "K3wopW83wD4s"
      }
    },
    {
      "cell_type": "code",
      "source": [
        "def atbash(opcion_menu):\n",
        "  mensaje = input(\"Ingrese el mensaje que quiera traducir (evite los acentos): \")\n",
        "  resultado = \"\"\n",
        "\n",
        "  if opcion_menu == \"1\":\n",
        "    for letra in mensaje:\n",
        "            if letra in codigo_atbash_mayuscula.values():\n",
        "                resultado += next(key for key, value in codigo_atbash_mayuscula.items() if value == letra)\n",
        "            elif letra in codigo_atbash_minuscula.values():\n",
        "                resultado += next(key for key, value in codigo_atbash_minuscula.items() if value == letra)\n",
        "            else:\n",
        "                resultado += letra\n",
        "\n",
        "  elif opcion_menu == \"2\":\n",
        "    for letra in mensaje:\n",
        "            if letra in codigo_atbash_mayuscula:\n",
        "                resultado += codigo_atbash_mayuscula[letra]\n",
        "            elif letra in codigo_cesar_minuscula:\n",
        "                resultado += codigo_atbash_minuscula[letra]\n",
        "            else:\n",
        "                resultado += letra\n",
        "\n",
        "  print(f\"Traducción: {resultado}\")\n",
        "  print(\"\")\n",
        "  print(\"\")\n",
        "  print(\"\")\n",
        "\n",
        "  menu()"
      ],
      "metadata": {
        "id": "zludaodywGDp"
      },
      "execution_count": null,
      "outputs": []
    },
    {
      "cell_type": "markdown",
      "source": [
        "######CÓDIGO A1Z26"
      ],
      "metadata": {
        "id": "XZlni5xew3eh"
      }
    },
    {
      "cell_type": "code",
      "source": [
        "def a1z26(opcion_menu):\n",
        "  mensaje = input(\"Ingrese el mensaje que quiera traducir (evite los acentos): \")\n",
        "  resultado = \"\"\n",
        "\n",
        "  if opcion_menu == \"1\":\n",
        "    for letra in mensaje:\n",
        "            if letra in codigo_a1z26_mayuscula.values():\n",
        "                resultado += next(key for key, value in codigo_a1z26_mayuscula.items() if value == letra)\n",
        "            elif letra in codigo_a1z26_minuscula.values():\n",
        "                resultado += next(key for key, value in codigo_a1z26_minuscula.items() if value == letra)\n",
        "            else:\n",
        "                resultado += letra\n",
        "\n",
        "  elif opcion_menu == \"2\":\n",
        "    for letra in mensaje:\n",
        "            if letra in codigo_a1z26_mayuscula:\n",
        "                resultado += str(codigo_a1z26_mayuscula[letra])\n",
        "            elif letra in codigo_a1z26_minuscula:\n",
        "                resultado += str(codigo_a1z26_minuscula[letra])\n",
        "            else:\n",
        "                resultado += letra\n",
        "\n",
        "  print(f\"Traducción: {resultado}\")\n",
        "  print(\"\")\n",
        "  print(\"\")\n",
        "  print(\"\")\n",
        "\n",
        "  menu()"
      ],
      "metadata": {
        "id": "AkqlkXnWwyFU"
      },
      "execution_count": null,
      "outputs": []
    },
    {
      "cell_type": "markdown",
      "source": [
        "######CÓDIGO COMBINADO"
      ],
      "metadata": {
        "id": "paJPnpWuxas4"
      }
    },
    {
      "cell_type": "code",
      "source": [
        "def combinado(opcion_menu):\n",
        "  mensaje = input(\"Ingrese el mensaje que quiera traducir (evite los acentos): \")\n",
        "  resultado = \"\"\n",
        "\n",
        "  if opcion_menu == \"1\":\n",
        "    for letra in mensaje:\n",
        "            if letra in codigo_combinado_mayuscula.values():\n",
        "                resultado += next(key for key, value in codigo_combinado_mayuscula.items() if value == letra)\n",
        "            elif letra in codigo_combinado_minuscula.values():\n",
        "                resultado += next(key for key, value in codigo_combinado_minuscula.items() if value == letra)\n",
        "            else:\n",
        "                resultado += letra\n",
        "\n",
        "  elif opcion_menu == \"2\":\n",
        "    for letra in mensaje:\n",
        "            if letra in codigo_combinado_mayuscula:\n",
        "                resultado += str(codigo_combinado_mayuscula[letra])\n",
        "            elif letra in codigo_combinado_minuscula:\n",
        "                resultado += str(codigo_combinado_minuscula[letra])\n",
        "            else:\n",
        "                resultado += letra\n",
        "\n",
        "  print(f\"Traducción: {resultado}\")\n",
        "  print(\"\")\n",
        "  print(\"\")\n",
        "  print(\"\")\n",
        "\n",
        "  menu()"
      ],
      "metadata": {
        "id": "zZujvpjoxiiB"
      },
      "execution_count": null,
      "outputs": []
    },
    {
      "cell_type": "markdown",
      "source": [
        "#**EJECUCIÓN**"
      ],
      "metadata": {
        "id": "7CZYtTvzyQql"
      }
    },
    {
      "cell_type": "code",
      "source": [
        "menu()"
      ],
      "metadata": {
        "colab": {
          "base_uri": "https://localhost:8080/",
          "height": 1000
        },
        "id": "Lm1hrSCcyqCG",
        "outputId": "cc36143e-bf8d-45fb-a647-78c376ee88bf"
      },
      "execution_count": null,
      "outputs": [
        {
          "output_type": "stream",
          "name": "stdout",
          "text": [
            "---- TRADUCTOR DE CÓDIGOS ----\n",
            "    Elija una de las siguientes opciones:\n",
            "        [1] Traducir a idioma natural\n",
            "        [2] Traducir a código\n",
            "        [3] Salir\n",
            "\n",
            "        \n",
            "Su respuesta: 1\n",
            "\n",
            "-- CÓDIGOS --\n",
            "    Elija una de las siguientes opciones:\n",
            "        [1] CÉSAR\n",
            "        [2] MORSE\n",
            "        [3] ATBASH\n",
            "        [4] A1Z26\n",
            "        [5] COMBINADO\n",
            "        [6] Volver al menú principal\n",
            "\n",
            "        \n",
            "Su respuesta: Pdpd\n",
            "\n",
            "Opción inválida\n",
            "Su respuesta: 1\n",
            "-- CÓDIGOS --\n",
            "    Elija una de las siguientes opciones:\n",
            "        [1] CÉSAR\n",
            "        [2] MORSE\n",
            "        [3] ATBASH\n",
            "        [4] A1Z26\n",
            "        [5] COMBINADO\n",
            "        [6] Volver al menú principal\n",
            "\n",
            "        \n",
            "Su respuesta: Pdpd\n",
            "\n",
            "Opción inválida\n",
            "Su respuesta: 1\n",
            "-- CÓDIGOS --\n",
            "    Elija una de las siguientes opciones:\n",
            "        [1] CÉSAR\n",
            "        [2] MORSE\n",
            "        [3] ATBASH\n",
            "        [4] A1Z26\n",
            "        [5] COMBINADO\n",
            "        [6] Volver al menú principal\n",
            "\n",
            "        \n",
            "Su respuesta: Pdpd\n",
            "\n",
            "Opción inválida\n",
            "Su respuesta: 1\n",
            "-- CÓDIGOS --\n",
            "    Elija una de las siguientes opciones:\n",
            "        [1] CÉSAR\n",
            "        [2] MORSE\n",
            "        [3] ATBASH\n",
            "        [4] A1Z26\n",
            "        [5] COMBINADO\n",
            "        [6] Volver al menú principal\n",
            "\n",
            "        \n"
          ]
        },
        {
          "output_type": "error",
          "ename": "KeyboardInterrupt",
          "evalue": "Interrupted by user",
          "traceback": [
            "\u001b[0;31m---------------------------------------------------------------------------\u001b[0m",
            "\u001b[0;31mKeyboardInterrupt\u001b[0m                         Traceback (most recent call last)",
            "\u001b[0;32m<ipython-input-39-a554a8713acc>\u001b[0m in \u001b[0;36m<cell line: 1>\u001b[0;34m()\u001b[0m\n\u001b[0;32m----> 1\u001b[0;31m \u001b[0mmenu\u001b[0m\u001b[0;34m(\u001b[0m\u001b[0;34m)\u001b[0m\u001b[0;34m\u001b[0m\u001b[0;34m\u001b[0m\u001b[0m\n\u001b[0m",
            "\u001b[0;32m<ipython-input-22-db0ce724d75a>\u001b[0m in \u001b[0;36mmenu\u001b[0;34m()\u001b[0m\n\u001b[1;32m     12\u001b[0m \u001b[0;34m\u001b[0m\u001b[0m\n\u001b[1;32m     13\u001b[0m     \u001b[0;32mif\u001b[0m \u001b[0mopcion_menu\u001b[0m \u001b[0;34m==\u001b[0m \u001b[0;34m\"1\"\u001b[0m \u001b[0;32mor\u001b[0m \u001b[0mopcion_menu\u001b[0m \u001b[0;34m==\u001b[0m \u001b[0;34m\"2\"\u001b[0m\u001b[0;34m:\u001b[0m\u001b[0;34m\u001b[0m\u001b[0;34m\u001b[0m\u001b[0m\n\u001b[0;32m---> 14\u001b[0;31m       \u001b[0msub_menu\u001b[0m\u001b[0;34m(\u001b[0m\u001b[0mopcion_menu\u001b[0m\u001b[0;34m)\u001b[0m\u001b[0;34m\u001b[0m\u001b[0;34m\u001b[0m\u001b[0m\n\u001b[0m\u001b[1;32m     15\u001b[0m     \u001b[0;32melif\u001b[0m \u001b[0mopcion_menu\u001b[0m \u001b[0;34m==\u001b[0m \u001b[0;34m\"3\"\u001b[0m\u001b[0;34m:\u001b[0m\u001b[0;34m\u001b[0m\u001b[0;34m\u001b[0m\u001b[0m\n\u001b[1;32m     16\u001b[0m       \u001b[0mprint\u001b[0m\u001b[0;34m(\u001b[0m\u001b[0;34m\"¡Hasta luego!\"\u001b[0m\u001b[0;34m)\u001b[0m\u001b[0;34m\u001b[0m\u001b[0;34m\u001b[0m\u001b[0m\n",
            "\u001b[0;32m<ipython-input-23-7555dff11364>\u001b[0m in \u001b[0;36msub_menu\u001b[0;34m(opcion_menu)\u001b[0m\n\u001b[1;32m     11\u001b[0m \u001b[0;34m\u001b[0m\u001b[0m\n\u001b[1;32m     12\u001b[0m         \"\"\")\n\u001b[0;32m---> 13\u001b[0;31m     \u001b[0mopcion_sub_menu\u001b[0m \u001b[0;34m=\u001b[0m \u001b[0minput\u001b[0m\u001b[0;34m(\u001b[0m\u001b[0;34m\"Su respuesta: \"\u001b[0m\u001b[0;34m)\u001b[0m\u001b[0;34m\u001b[0m\u001b[0;34m\u001b[0m\u001b[0m\n\u001b[0m\u001b[1;32m     14\u001b[0m     \u001b[0mopcion\u001b[0m \u001b[0;34m=\u001b[0m \u001b[0mopcion_sub_menu\u001b[0m\u001b[0;34m\u001b[0m\u001b[0;34m\u001b[0m\u001b[0m\n\u001b[1;32m     15\u001b[0m     \u001b[0mprint\u001b[0m\u001b[0;34m(\u001b[0m\u001b[0;34m\"\"\u001b[0m\u001b[0;34m)\u001b[0m\u001b[0;34m\u001b[0m\u001b[0;34m\u001b[0m\u001b[0m\n",
            "\u001b[0;32m/usr/local/lib/python3.10/dist-packages/ipykernel/kernelbase.py\u001b[0m in \u001b[0;36mraw_input\u001b[0;34m(self, prompt)\u001b[0m\n\u001b[1;32m    849\u001b[0m                 \u001b[0;34m\"raw_input was called, but this frontend does not support input requests.\"\u001b[0m\u001b[0;34m\u001b[0m\u001b[0;34m\u001b[0m\u001b[0m\n\u001b[1;32m    850\u001b[0m             )\n\u001b[0;32m--> 851\u001b[0;31m         return self._input_request(str(prompt),\n\u001b[0m\u001b[1;32m    852\u001b[0m             \u001b[0mself\u001b[0m\u001b[0;34m.\u001b[0m\u001b[0m_parent_ident\u001b[0m\u001b[0;34m,\u001b[0m\u001b[0;34m\u001b[0m\u001b[0;34m\u001b[0m\u001b[0m\n\u001b[1;32m    853\u001b[0m             \u001b[0mself\u001b[0m\u001b[0;34m.\u001b[0m\u001b[0m_parent_header\u001b[0m\u001b[0;34m,\u001b[0m\u001b[0;34m\u001b[0m\u001b[0;34m\u001b[0m\u001b[0m\n",
            "\u001b[0;32m/usr/local/lib/python3.10/dist-packages/ipykernel/kernelbase.py\u001b[0m in \u001b[0;36m_input_request\u001b[0;34m(self, prompt, ident, parent, password)\u001b[0m\n\u001b[1;32m    893\u001b[0m             \u001b[0;32mexcept\u001b[0m \u001b[0mKeyboardInterrupt\u001b[0m\u001b[0;34m:\u001b[0m\u001b[0;34m\u001b[0m\u001b[0;34m\u001b[0m\u001b[0m\n\u001b[1;32m    894\u001b[0m                 \u001b[0;31m# re-raise KeyboardInterrupt, to truncate traceback\u001b[0m\u001b[0;34m\u001b[0m\u001b[0;34m\u001b[0m\u001b[0m\n\u001b[0;32m--> 895\u001b[0;31m                 \u001b[0;32mraise\u001b[0m \u001b[0mKeyboardInterrupt\u001b[0m\u001b[0;34m(\u001b[0m\u001b[0;34m\"Interrupted by user\"\u001b[0m\u001b[0;34m)\u001b[0m \u001b[0;32mfrom\u001b[0m \u001b[0;32mNone\u001b[0m\u001b[0;34m\u001b[0m\u001b[0;34m\u001b[0m\u001b[0m\n\u001b[0m\u001b[1;32m    896\u001b[0m             \u001b[0;32mexcept\u001b[0m \u001b[0mException\u001b[0m \u001b[0;32mas\u001b[0m \u001b[0me\u001b[0m\u001b[0;34m:\u001b[0m\u001b[0;34m\u001b[0m\u001b[0;34m\u001b[0m\u001b[0m\n\u001b[1;32m    897\u001b[0m                 \u001b[0mself\u001b[0m\u001b[0;34m.\u001b[0m\u001b[0mlog\u001b[0m\u001b[0;34m.\u001b[0m\u001b[0mwarning\u001b[0m\u001b[0;34m(\u001b[0m\u001b[0;34m\"Invalid Message:\"\u001b[0m\u001b[0;34m,\u001b[0m \u001b[0mexc_info\u001b[0m\u001b[0;34m=\u001b[0m\u001b[0;32mTrue\u001b[0m\u001b[0;34m)\u001b[0m\u001b[0;34m\u001b[0m\u001b[0;34m\u001b[0m\u001b[0m\n",
            "\u001b[0;31mKeyboardInterrupt\u001b[0m: Interrupted by user"
          ]
        }
      ]
    }
  ]
}