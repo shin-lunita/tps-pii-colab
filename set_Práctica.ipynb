{
  "nbformat": 4,
  "nbformat_minor": 0,
  "metadata": {
    "colab": {
      "provenance": [],
      "include_colab_link": true
    },
    "kernelspec": {
      "name": "python3",
      "display_name": "Python 3"
    },
    "language_info": {
      "name": "python"
    }
  },
  "cells": [
    {
      "cell_type": "markdown",
      "metadata": {
        "id": "view-in-github",
        "colab_type": "text"
      },
      "source": [
        "<a href=\"https://colab.research.google.com/github/shin-lunita/tps-pii-colab-copy/blob/main/set_Pr%C3%A1ctica.ipynb\" target=\"_parent\"><img src=\"https://colab.research.google.com/assets/colab-badge.svg\" alt=\"Open In Colab\"/></a>"
      ]
    },
    {
      "cell_type": "code",
      "execution_count": 21,
      "metadata": {
        "id": "8VOD-zpMJovw"
      },
      "outputs": [],
      "source": [
        "estudiantes = [\n",
        "    {'name': 'Abud Laspiur, Lourdes Mariel', 'section': 'C', 'dob': '05/12/2006'},\n",
        "    {'name': 'Amador, Luana Micaela', 'section': 'C', 'dob': '09/12/2006'},\n",
        "    {'name': 'Anaquin, Leonardo Ezequiel', 'section': 'C', 'dob': '06/09/2005'},\n",
        "    {'name': 'Araoz Sanchez, Lautaro Nahuel', 'section': 'C', 'dob': '28/12/2005'},\n",
        "    {'name': 'Argañaraz, Agostina Abril', 'section': 'C', 'dob': '11/10/2006'},\n",
        "    {'name': 'Barrera, Matias Ezequiel', 'section': 'C', 'dob': '27/02/2007'},\n",
        "    {'name': 'Barrera, Matias Ezequiel', 'section': 'C', 'dob': '27/02/2007'},  # Repetido\n",
        "    {'name': 'Barrozo Vedia, Joaquin Nicolas', 'section': 'C', 'dob': '15/04/2006'},\n",
        "    {'name': 'Bettinelli, Valentino', 'section': 'C', 'dob': '12/07/2006'},\n",
        "    {'name': 'Bracamonte Martinez, Salvador', 'section': 'C', 'dob': '02/11/2005'},\n",
        "    {'name': 'Colque Rivero, Ariana Zoe Del Valle', 'section': 'C', 'dob': '27/12/2006'},\n",
        "    {'name': 'Diaz, Dulce Maitena', 'section': 'C', 'dob': '11/12/2006'},\n",
        "    {'name': 'Figueroa, Santino Josue', 'section': 'C', 'dob': '12/05/2007'},\n",
        "    {'name': 'Figueroa, Santino Josue', 'section': 'C', 'dob': '12/05/2007'},  # Repetido\n",
        "    {'name': 'Flores Cardozo, Agustina Tiara', 'section': 'C', 'dob': '18/03/2006'},\n",
        "    {'name': 'Gallo, Octavio Ismael', 'section': 'C', 'dob': '04/08/2006'},\n",
        "    {'name': 'Galvan, Lourdes Yamila', 'section': 'C', 'dob': '19/08/2005'},\n",
        "    {'name': 'Giangreco, Vitto Tomasso', 'section': 'C', 'dob': '21/03/2007'},\n",
        "    {'name': 'Grancara, Martina Luna', 'section': 'C', 'dob': '15/12/2006'},\n",
        "    {'name': 'Guanca, Sara Elizabeth', 'section': 'C', 'dob': '17/01/2007'},\n",
        "    {'name': 'Lopez, Victoria Constanza', 'section': 'C', 'dob': '12/11/2007'},\n",
        "    {'name': 'Mamani Garrido, Rosario Agostina', 'section': 'C', 'dob': '24/10/2006'},\n",
        "    {'name': 'Marinaro, Martin Ezequiel', 'section': 'C', 'dob': '03/11/2006'},\n",
        "    {'name': 'Merluzzi Dagum, Ignacio', 'section': 'C', 'dob': '22/12/2005'},\n",
        "    {'name': 'Messina, Martina', 'section': 'C', 'dob': '13/07/2005'},\n",
        "    {'name': 'Rasuk, Karim', 'section': 'C', 'dob': '13/07/2007'},\n",
        "    {'name': 'Rasuk, Karim', 'section': 'C', 'dob': '13/07/2007'},  # Repetido\n",
        "    {'name': 'Rios, Lucia Magali', 'section': 'C', 'dob': '22/09/2006'},\n",
        "    {'name': 'Sanchez Flores, Matías Agustín', 'section': 'C', 'dob': '15/02/2007'},\n",
        "    {'name': 'Scarano, Renato Marcelo', 'section': 'C', 'dob': '06/12/2006'},\n",
        "    {'name': 'Sierra, Lucas Mauricio', 'section': 'C', 'dob': '03/04/2005'},\n",
        "    {'name': 'Tapia, Martin Gabriel', 'section': 'C', 'dob': '30/05/2006'},\n",
        "    {'name': 'Vilte, Mia Antonella Alondra', 'section': 'C', 'dob': '10/09/2005'},\n",
        "    {'name': 'Virgillito, Katya Milena', 'section': 'C', 'dob': '19/06/2007'},\n",
        "    {'name': 'Alurralde, Solange Stefania', 'section': 'D', 'dob': '02/04/2007'},\n",
        "    {'name': 'Alvarado, Ludmila Del Milagro', 'section': 'D', 'dob': '06/09/2006'},\n",
        "    {'name': 'Angel, Camila Juliana', 'section': 'D', 'dob': '07/03/2007'},\n",
        "    {'name': 'Arenas, Lucas Gabriel', 'section': 'D', 'dob': '26/06/2007'},\n",
        "    {'name': 'Caseres, Maria Antonia', 'section': 'D', 'dob': '01/07/2006'},\n",
        "    {'name': 'Castillo, Paulina Milagros', 'section': 'D', 'dob': '01/06/2007'},\n",
        "    {'name': 'Correa Segovia, Hugo Mariano', 'section': 'D', 'dob': '04/12/2006'},\n",
        "    {'name': 'Correa Segovia, Hugo Mariano', 'section': 'D', 'dob': '04/12/2006'},  # Repetido\n",
        "    {'name': 'D Elia, Alvaro Tadeo', 'section': 'D', 'dob': '27/08/2006'},\n",
        "    {'name': 'Flores, Victoria Agustina', 'section': 'D', 'dob': '12/12/2006'},\n",
        "    {'name': 'Geronimo Soriano, Lizzie Amaya', 'section': 'D', 'dob': '20/01/2007'},\n",
        "    {'name': 'Guzman, Angélica Morena', 'section': 'D', 'dob': '11/04/2007'},\n",
        "    {'name': 'Guzman, Jazmin Esmeralda Belen', 'section': 'D', 'dob': '31/07/2006'},\n",
        "    {'name': 'Jaime, Anita Maria Belen', 'section': 'D', 'dob': '19/04/2007'},\n",
        "    {'name': 'Lacour Polo, Nazarena', 'section': 'D', 'dob': '19/12/2005'},\n",
        "    {'name': 'Lascano Guanca, Marcelo Fabricio', 'section': 'D', 'dob': '17/02/2006'},\n",
        "    {'name': 'Lezcano, Celia Morena', 'section': 'D', 'dob': '01/07/2005'},\n",
        "    {'name': 'Martinez, Tomas Andres', 'section': 'D', 'dob': '22/03/2007'},\n",
        "    {'name': 'Portella Valdivia, Pedro Francisco', 'section': 'D', 'dob': '24/01/2007'},\n",
        "    {'name': 'Retamal Cisneros, Zacarias Josue', 'section': 'D', 'dob': '24/02/2007'},\n",
        "    {'name': 'Rosales, Francisco Gabriel', 'section': 'D', 'dob': '14/11/2006'},\n",
        "    {'name': 'Salem Barba, Mahia', 'section': 'D', 'dob': '14/10/2005'},\n",
        "    {'name': 'Soto Camara, Agustin Ignacio', 'section': 'D', 'dob': '07/11/2005'},\n",
        "    {'name': 'Villalba, Irina', 'section': 'D', 'dob': '09/09/2006'},\n",
        "    {'name': 'Voltolini, Emanuel Tobias', 'section': 'D', 'dob': '17/09/2006'},\n",
        "    {'name': 'Zalazar, Santino Stefano', 'section': 'D', 'dob': '30/09/2006'},\n",
        "    {'name': 'Zalazar, Santino Stefano', 'section': 'D', 'dob': '30/09/2006'}  # Repetido\n",
        "]"
      ]
    },
    {
      "cell_type": "code",
      "source": [
        "# Spoiler de estructura que veremos en los siguientes TPs\n",
        "import json\n",
        "for estudiante in estudiantes:\n",
        "  alumno_json = json.dumps(estudiante,indent=4,ensure_ascii=False)\n",
        "  print(alumno_json,\",\")"
      ],
      "metadata": {
        "id": "7lcHoIqemYFH"
      },
      "execution_count": null,
      "outputs": []
    },
    {
      "cell_type": "markdown",
      "source": [
        "## Dada la lista estudiantes:\n",
        "> - Hacer una celda para resolver cada punto.\n",
        "- El TP resuelto será revisado en tu repositorio, no es necesario que lo envíes, pero sí que lo pushees correctamente.\n",
        "- En la nota inicial se contempla:\n",
        "  - La incorporación de este documento a tu propio respositorio.\n",
        "  - El pusheo de los cambios realizados.\n",
        "  - La resolución de los ejercicios propuestos.\n"
      ],
      "metadata": {
        "id": "rd6Ug6v3J4uN"
      }
    },
    {
      "cell_type": "markdown",
      "source": [
        "1. Dada la lista de estudiantes, elimina los elementos repetidos de la misma, usando para ello una estructura set. El resultado final debe ser una lista, con la misma estructura de la original, pero sin datos repetidos.\n",
        "\n",
        "Para esto tener en cuenta que:\n",
        "- Los conjuntos solo pueden almacenar datos inmutables.\n",
        "- Los diccionarios son estructuras mutables.\n",
        "- dict.items() devuelve una lista de tuplas.\n",
        "- dict(tupla) genera un diccionario, donde el primer elemento de la tupla es la clave, y el segundo el valor. Ej:\n",
        "  -\n",
        "  ```python\n",
        "  dict([(\"Alberto\", 10), (\"José\", 7), (\"Dario\", 14), (\"Ana\", 8), (\"Maria\", 9), (\"Emilia\", 10)])\n",
        "\n",
        "  va a generar el siguiente diccionario:\n",
        "\n",
        "  ```python\n",
        "  {'Alberto': 10, 'José': 7, 'Dario': 14, 'Ana': 8, 'Maria': 9, 'Emilia': 10}\n",
        "  ```\n",
        "\n"
      ],
      "metadata": {
        "id": "wRLng-uURyJ3"
      }
    },
    {
      "cell_type": "code",
      "source": [
        "lista_tuplas = []\n",
        "estudiantes_sin_repetidos = []\n",
        "for estudiante in estudiantes:\n",
        "    tupla = tuple(estudiante.items())\n",
        "    lista_tuplas.append(tupla)\n",
        "conjunto_tuplas = set(lista_tuplas)\n",
        "print(conjunto_tuplas)\n",
        "for estudiante in conjunto_tuplas:\n",
        "    un_estudiante = dict(estudiante)\n",
        "    estudiantes_sin_repetidos.append(un_estudiante)\n",
        "for estudiante in estudiantes_sin_repetidos:\n",
        "    print(estudiante)"
      ],
      "metadata": {
        "id": "lnuVVFJ-Zq7x",
        "colab": {
          "base_uri": "https://localhost:8080/"
        },
        "outputId": "64695b8c-7b30-47c0-beee-e6001f345181"
      },
      "execution_count": 22,
      "outputs": [
        {
          "output_type": "stream",
          "name": "stdout",
          "text": [
            "{(('name', 'Lopez, Victoria Constanza'), ('section', 'C'), ('dob', '12/11/2007')), (('name', 'Salem Barba, Mahia'), ('section', 'D'), ('dob', '14/10/2005')), (('name', 'Mamani Garrido, Rosario Agostina'), ('section', 'C'), ('dob', '24/10/2006')), (('name', 'Barrera, Matias Ezequiel'), ('section', 'C'), ('dob', '27/02/2007')), (('name', 'Flores, Victoria Agustina'), ('section', 'D'), ('dob', '12/12/2006')), (('name', 'Guzman, Jazmin Esmeralda Belen'), ('section', 'D'), ('dob', '31/07/2006')), (('name', 'Voltolini, Emanuel Tobias'), ('section', 'D'), ('dob', '17/09/2006')), (('name', 'Araoz Sanchez, Lautaro Nahuel'), ('section', 'C'), ('dob', '28/12/2005')), (('name', 'Sanchez Flores, Matías Agustín'), ('section', 'C'), ('dob', '15/02/2007')), (('name', 'Bracamonte Martinez, Salvador'), ('section', 'C'), ('dob', '02/11/2005')), (('name', 'Angel, Camila Juliana'), ('section', 'D'), ('dob', '07/03/2007')), (('name', 'Martinez, Tomas Andres'), ('section', 'D'), ('dob', '22/03/2007')), (('name', 'Grancara, Martina Luna'), ('section', 'C'), ('dob', '15/12/2006')), (('name', 'Galvan, Lourdes Yamila'), ('section', 'C'), ('dob', '19/08/2005')), (('name', 'Virgillito, Katya Milena'), ('section', 'C'), ('dob', '19/06/2007')), (('name', 'D Elia, Alvaro Tadeo'), ('section', 'D'), ('dob', '27/08/2006')), (('name', 'Guanca, Sara Elizabeth'), ('section', 'C'), ('dob', '17/01/2007')), (('name', 'Merluzzi Dagum, Ignacio'), ('section', 'C'), ('dob', '22/12/2005')), (('name', 'Scarano, Renato Marcelo'), ('section', 'C'), ('dob', '06/12/2006')), (('name', 'Diaz, Dulce Maitena'), ('section', 'C'), ('dob', '11/12/2006')), (('name', 'Soto Camara, Agustin Ignacio'), ('section', 'D'), ('dob', '07/11/2005')), (('name', 'Amador, Luana Micaela'), ('section', 'C'), ('dob', '09/12/2006')), (('name', 'Guzman, Angélica Morena'), ('section', 'D'), ('dob', '11/04/2007')), (('name', 'Vilte, Mia Antonella Alondra'), ('section', 'C'), ('dob', '10/09/2005')), (('name', 'Abud Laspiur, Lourdes Mariel'), ('section', 'C'), ('dob', '05/12/2006')), (('name', 'Colque Rivero, Ariana Zoe Del Valle'), ('section', 'C'), ('dob', '27/12/2006')), (('name', 'Argañaraz, Agostina Abril'), ('section', 'C'), ('dob', '11/10/2006')), (('name', 'Alvarado, Ludmila Del Milagro'), ('section', 'D'), ('dob', '06/09/2006')), (('name', 'Lezcano, Celia Morena'), ('section', 'D'), ('dob', '01/07/2005')), (('name', 'Rosales, Francisco Gabriel'), ('section', 'D'), ('dob', '14/11/2006')), (('name', 'Lacour Polo, Nazarena'), ('section', 'D'), ('dob', '19/12/2005')), (('name', 'Barrozo Vedia, Joaquin Nicolas'), ('section', 'C'), ('dob', '15/04/2006')), (('name', 'Sierra, Lucas Mauricio'), ('section', 'C'), ('dob', '03/04/2005')), (('name', 'Caseres, Maria Antonia'), ('section', 'D'), ('dob', '01/07/2006')), (('name', 'Correa Segovia, Hugo Mariano'), ('section', 'D'), ('dob', '04/12/2006')), (('name', 'Jaime, Anita Maria Belen'), ('section', 'D'), ('dob', '19/04/2007')), (('name', 'Figueroa, Santino Josue'), ('section', 'C'), ('dob', '12/05/2007')), (('name', 'Portella Valdivia, Pedro Francisco'), ('section', 'D'), ('dob', '24/01/2007')), (('name', 'Zalazar, Santino Stefano'), ('section', 'D'), ('dob', '30/09/2006')), (('name', 'Retamal Cisneros, Zacarias Josue'), ('section', 'D'), ('dob', '24/02/2007')), (('name', 'Rios, Lucia Magali'), ('section', 'C'), ('dob', '22/09/2006')), (('name', 'Gallo, Octavio Ismael'), ('section', 'C'), ('dob', '04/08/2006')), (('name', 'Marinaro, Martin Ezequiel'), ('section', 'C'), ('dob', '03/11/2006')), (('name', 'Alurralde, Solange Stefania'), ('section', 'D'), ('dob', '02/04/2007')), (('name', 'Rasuk, Karim'), ('section', 'C'), ('dob', '13/07/2007')), (('name', 'Giangreco, Vitto Tomasso'), ('section', 'C'), ('dob', '21/03/2007')), (('name', 'Arenas, Lucas Gabriel'), ('section', 'D'), ('dob', '26/06/2007')), (('name', 'Bettinelli, Valentino'), ('section', 'C'), ('dob', '12/07/2006')), (('name', 'Messina, Martina'), ('section', 'C'), ('dob', '13/07/2005')), (('name', 'Anaquin, Leonardo Ezequiel'), ('section', 'C'), ('dob', '06/09/2005')), (('name', 'Castillo, Paulina Milagros'), ('section', 'D'), ('dob', '01/06/2007')), (('name', 'Lascano Guanca, Marcelo Fabricio'), ('section', 'D'), ('dob', '17/02/2006')), (('name', 'Villalba, Irina'), ('section', 'D'), ('dob', '09/09/2006')), (('name', 'Geronimo Soriano, Lizzie Amaya'), ('section', 'D'), ('dob', '20/01/2007')), (('name', 'Tapia, Martin Gabriel'), ('section', 'C'), ('dob', '30/05/2006')), (('name', 'Flores Cardozo, Agustina Tiara'), ('section', 'C'), ('dob', '18/03/2006'))}\n",
            "{'name': 'Lopez, Victoria Constanza', 'section': 'C', 'dob': '12/11/2007'}\n",
            "{'name': 'Salem Barba, Mahia', 'section': 'D', 'dob': '14/10/2005'}\n",
            "{'name': 'Mamani Garrido, Rosario Agostina', 'section': 'C', 'dob': '24/10/2006'}\n",
            "{'name': 'Barrera, Matias Ezequiel', 'section': 'C', 'dob': '27/02/2007'}\n",
            "{'name': 'Flores, Victoria Agustina', 'section': 'D', 'dob': '12/12/2006'}\n",
            "{'name': 'Guzman, Jazmin Esmeralda Belen', 'section': 'D', 'dob': '31/07/2006'}\n",
            "{'name': 'Voltolini, Emanuel Tobias', 'section': 'D', 'dob': '17/09/2006'}\n",
            "{'name': 'Araoz Sanchez, Lautaro Nahuel', 'section': 'C', 'dob': '28/12/2005'}\n",
            "{'name': 'Sanchez Flores, Matías Agustín', 'section': 'C', 'dob': '15/02/2007'}\n",
            "{'name': 'Bracamonte Martinez, Salvador', 'section': 'C', 'dob': '02/11/2005'}\n",
            "{'name': 'Angel, Camila Juliana', 'section': 'D', 'dob': '07/03/2007'}\n",
            "{'name': 'Martinez, Tomas Andres', 'section': 'D', 'dob': '22/03/2007'}\n",
            "{'name': 'Grancara, Martina Luna', 'section': 'C', 'dob': '15/12/2006'}\n",
            "{'name': 'Galvan, Lourdes Yamila', 'section': 'C', 'dob': '19/08/2005'}\n",
            "{'name': 'Virgillito, Katya Milena', 'section': 'C', 'dob': '19/06/2007'}\n",
            "{'name': 'D Elia, Alvaro Tadeo', 'section': 'D', 'dob': '27/08/2006'}\n",
            "{'name': 'Guanca, Sara Elizabeth', 'section': 'C', 'dob': '17/01/2007'}\n",
            "{'name': 'Merluzzi Dagum, Ignacio', 'section': 'C', 'dob': '22/12/2005'}\n",
            "{'name': 'Scarano, Renato Marcelo', 'section': 'C', 'dob': '06/12/2006'}\n",
            "{'name': 'Diaz, Dulce Maitena', 'section': 'C', 'dob': '11/12/2006'}\n",
            "{'name': 'Soto Camara, Agustin Ignacio', 'section': 'D', 'dob': '07/11/2005'}\n",
            "{'name': 'Amador, Luana Micaela', 'section': 'C', 'dob': '09/12/2006'}\n",
            "{'name': 'Guzman, Angélica Morena', 'section': 'D', 'dob': '11/04/2007'}\n",
            "{'name': 'Vilte, Mia Antonella Alondra', 'section': 'C', 'dob': '10/09/2005'}\n",
            "{'name': 'Abud Laspiur, Lourdes Mariel', 'section': 'C', 'dob': '05/12/2006'}\n",
            "{'name': 'Colque Rivero, Ariana Zoe Del Valle', 'section': 'C', 'dob': '27/12/2006'}\n",
            "{'name': 'Argañaraz, Agostina Abril', 'section': 'C', 'dob': '11/10/2006'}\n",
            "{'name': 'Alvarado, Ludmila Del Milagro', 'section': 'D', 'dob': '06/09/2006'}\n",
            "{'name': 'Lezcano, Celia Morena', 'section': 'D', 'dob': '01/07/2005'}\n",
            "{'name': 'Rosales, Francisco Gabriel', 'section': 'D', 'dob': '14/11/2006'}\n",
            "{'name': 'Lacour Polo, Nazarena', 'section': 'D', 'dob': '19/12/2005'}\n",
            "{'name': 'Barrozo Vedia, Joaquin Nicolas', 'section': 'C', 'dob': '15/04/2006'}\n",
            "{'name': 'Sierra, Lucas Mauricio', 'section': 'C', 'dob': '03/04/2005'}\n",
            "{'name': 'Caseres, Maria Antonia', 'section': 'D', 'dob': '01/07/2006'}\n",
            "{'name': 'Correa Segovia, Hugo Mariano', 'section': 'D', 'dob': '04/12/2006'}\n",
            "{'name': 'Jaime, Anita Maria Belen', 'section': 'D', 'dob': '19/04/2007'}\n",
            "{'name': 'Figueroa, Santino Josue', 'section': 'C', 'dob': '12/05/2007'}\n",
            "{'name': 'Portella Valdivia, Pedro Francisco', 'section': 'D', 'dob': '24/01/2007'}\n",
            "{'name': 'Zalazar, Santino Stefano', 'section': 'D', 'dob': '30/09/2006'}\n",
            "{'name': 'Retamal Cisneros, Zacarias Josue', 'section': 'D', 'dob': '24/02/2007'}\n",
            "{'name': 'Rios, Lucia Magali', 'section': 'C', 'dob': '22/09/2006'}\n",
            "{'name': 'Gallo, Octavio Ismael', 'section': 'C', 'dob': '04/08/2006'}\n",
            "{'name': 'Marinaro, Martin Ezequiel', 'section': 'C', 'dob': '03/11/2006'}\n",
            "{'name': 'Alurralde, Solange Stefania', 'section': 'D', 'dob': '02/04/2007'}\n",
            "{'name': 'Rasuk, Karim', 'section': 'C', 'dob': '13/07/2007'}\n",
            "{'name': 'Giangreco, Vitto Tomasso', 'section': 'C', 'dob': '21/03/2007'}\n",
            "{'name': 'Arenas, Lucas Gabriel', 'section': 'D', 'dob': '26/06/2007'}\n",
            "{'name': 'Bettinelli, Valentino', 'section': 'C', 'dob': '12/07/2006'}\n",
            "{'name': 'Messina, Martina', 'section': 'C', 'dob': '13/07/2005'}\n",
            "{'name': 'Anaquin, Leonardo Ezequiel', 'section': 'C', 'dob': '06/09/2005'}\n",
            "{'name': 'Castillo, Paulina Milagros', 'section': 'D', 'dob': '01/06/2007'}\n",
            "{'name': 'Lascano Guanca, Marcelo Fabricio', 'section': 'D', 'dob': '17/02/2006'}\n",
            "{'name': 'Villalba, Irina', 'section': 'D', 'dob': '09/09/2006'}\n",
            "{'name': 'Geronimo Soriano, Lizzie Amaya', 'section': 'D', 'dob': '20/01/2007'}\n",
            "{'name': 'Tapia, Martin Gabriel', 'section': 'C', 'dob': '30/05/2006'}\n",
            "{'name': 'Flores Cardozo, Agustina Tiara', 'section': 'C', 'dob': '18/03/2006'}\n"
          ]
        }
      ]
    },
    {
      "cell_type": "markdown",
      "source": [
        "2. Crea un conjunto de nombres y otro de apellidos para 5C y  para 5D.\n",
        "- Muestra los conjuntos generados\n",
        "\n",
        "> recordá que los conjuntos solo pueden almacenar datos inmutables"
      ],
      "metadata": {
        "id": "dYEGkYZyLy9I"
      }
    },
    {
      "cell_type": "code",
      "source": [
        "nombres_5c = set()\n",
        "apellidos_5c = set()\n",
        "nombres_5d = set()\n",
        "apellidos_5d = set()\n",
        "for estudiante in estudiantes:\n",
        "    nombre_completo = estudiante[\"name\"]\n",
        "    apellido,nombre = nombre_completo.split(\",\")\n",
        "    apellidos = apellido.split(\" \")\n",
        "    nombres = nombre.strip().split(\" \")\n",
        "    if estudiante[\"section\"] == \"C\":\n",
        "        for nombre in nombres:\n",
        "            nombres_5c.add(nombre)\n",
        "        for apellido in apellidos:\n",
        "            apellidos_5c.add(apellido)\n",
        "    else:\n",
        "        for nombre in nombres:\n",
        "            nombres_5d.add(nombre)\n",
        "        for apellido in apellidos:\n",
        "            apellidos_5d.add(apellido)\n",
        "print(f\"{nombres_5c= }\")\n",
        "print(f\"{apellidos_5c= }\")\n",
        "print(f\"{nombres_5d= }\")\n",
        "print(f\"{apellidos_5d= }\")"
      ],
      "metadata": {
        "colab": {
          "base_uri": "https://localhost:8080/"
        },
        "id": "D-YWiZ5wOWnQ",
        "outputId": "f978dfe1-a927-4151-d433-0aeafbd0dcee"
      },
      "execution_count": 14,
      "outputs": [
        {
          "output_type": "stream",
          "name": "stdout",
          "text": [
            "nombres_5c= {'Dulce', 'Renato', 'Micaela', 'Joaquin', 'Valle', 'Karim', 'Elizabeth', 'Tomasso', 'Lautaro', 'Valentino', 'Agustina', 'Martina', 'Rosario', 'Leonardo', 'Lucia', 'Agustín', 'Victoria', 'Maitena', 'Mariel', 'Agostina', 'Santino', 'Zoe', 'Marcelo', 'Lucas', 'Josue', 'Ismael', 'Octavio', 'Luana', 'Katya', 'Antonella', 'Martin', 'Nahuel', 'Del', 'Ariana', 'Tiara', 'Constanza', 'Sara', 'Mauricio', 'Magali', 'Nicolas', 'Salvador', 'Gabriel', 'Mia', 'Alondra', 'Abril', 'Matias', 'Yamila', 'Luna', 'Ignacio', 'Milena', 'Ezequiel', 'Matías', 'Lourdes', 'Vitto'}\n",
            "apellidos_5c= {'Rasuk', 'Grancara', 'Dagum', 'Colque', 'Rivero', 'Cardozo', 'Vedia', 'Bracamonte', 'Marinaro', 'Flores', 'Figueroa', 'Amador', 'Martinez', 'Virgillito', 'Diaz', 'Giangreco', 'Galvan', 'Sanchez', 'Messina', 'Lopez', 'Rios', 'Gallo', 'Abud', 'Scarano', 'Argañaraz', 'Bettinelli', 'Barrozo', 'Sierra', 'Guanca', 'Garrido', 'Barrera', 'Anaquin', 'Merluzzi', 'Tapia', 'Araoz', 'Laspiur', 'Mamani', 'Vilte'}\n",
            "nombres_5d= {'Anita', 'Francisco', 'Zacarias', 'Morena', 'Agustina', 'Antonia', 'Pedro', 'Nazarena', 'Victoria', 'Agustin', 'Ludmila', 'Santino', 'Stefano', 'Lucas', 'Angélica', 'Marcelo', 'Tomas', 'Tadeo', 'Paulina', 'Josue', 'Lizzie', 'Hugo', 'Stefania', 'Andres', 'Emanuel', 'Mariano', 'Del', 'Alvaro', 'Irina', 'Camila', 'Maria', 'Celia', 'Mahia', 'Gabriel', 'Amaya', 'Jazmin', 'Esmeralda', 'Belen', 'Solange', 'Fabricio', 'Milagros', 'Milagro', 'Ignacio', 'Juliana', 'Tobias'}\n",
            "apellidos_5d= {'Soto', 'Camara', 'Cisneros', 'Zalazar', 'Elia', 'D', 'Lacour', 'Flores', 'Barba', 'Martinez', 'Polo', 'Caseres', 'Jaime', 'Alvarado', 'Segovia', 'Guzman', 'Soriano', 'Geronimo', 'Angel', 'Arenas', 'Valdivia', 'Retamal', 'Rosales', 'Lascano', 'Castillo', 'Lezcano', 'Portella', 'Guanca', 'Salem', 'Correa', 'Villalba', 'Voltolini', 'Alurralde'}\n"
          ]
        }
      ]
    },
    {
      "cell_type": "markdown",
      "source": [
        "3. Muestra cuantos nombres únicos hay en cada curso."
      ],
      "metadata": {
        "id": "UW2dlBsGMAte"
      }
    },
    {
      "cell_type": "code",
      "source": [
        "lista_nombres_5c = []\n",
        "for estudiante in estudiantes_sin_repetidos:\n",
        "    if estudiante[\"section\"] == \"C\":\n",
        "        nombre_completo = estudiante[\"name\"]\n",
        "        apellido,nombre = nombre_completo.split(\",\")\n",
        "        nombres_separados = nombre.split(\" \")\n",
        "        for nombre in nombres_separados:\n",
        "            lista_nombres_5c.append(nombre)\n",
        "ocurrencias_nombres_5c = {}\n",
        "for nombre in lista_nombres_5c:\n",
        "    if nombre in ocurrencias_nombres_5c:\n",
        "        ocurrencias_nombres_5c[nombre] += 1\n",
        "    else:\n",
        "        ocurrencias_nombres_5c[nombre] = 1\n",
        "for nombre,ocurrencias in ocurrencias_nombres_5c.items():\n",
        "    if ocurrencias == 1:\n",
        "        print({nombre})"
      ],
      "metadata": {
        "id": "Uq-eV6WRkKeT"
      },
      "execution_count": null,
      "outputs": []
    },
    {
      "cell_type": "code",
      "source": [
        "lista_nombres_5d = []\n",
        "for estudiante in estudiantes_sin_repetidos:\n",
        "    if estudiante[\"section\"] == \"D\":\n",
        "        nombre_completo = estudiante[\"name\"]\n",
        "        apellido,nombre = nombre_completo.split(\",\")\n",
        "        nombres_separados = nombre.split(\" \")\n",
        "        for nombre in nombres_separados:\n",
        "            lista_nombres_5d.append(nombre)\n",
        "ocurrencias_nombres_5d = {}\n",
        "for nombre in lista_nombres_5d:\n",
        "    if nombre in ocurrencias_nombres_5d:\n",
        "        ocurrencias_nombres_5d[nombre] += 1\n",
        "    else:\n",
        "        ocurrencias_nombres_5d[nombre] = 1\n",
        "for nombre,ocurrencias in ocurrencias_nombres_5d.items():\n",
        "    if ocurrencias == 1:\n",
        "        print({nombre})"
      ],
      "metadata": {
        "id": "EawAy4SANtkl"
      },
      "execution_count": null,
      "outputs": []
    },
    {
      "cell_type": "code",
      "source": [
        "#MISMO EJERCICIO HACIENDO USO DE SET()\n",
        "lista_nombres_5c = set()\n",
        "for estudiante in estudiantes_sin_repetidos:\n",
        "    if estudiante[\"section\"] == \"C\":\n",
        "        nombre_completo = estudiante[\"name\"]\n",
        "        apellido,nombre = nombre_completo.split(\",\")\n",
        "        nombres_separados = nombre.split(\" \")\n",
        "        for nombre in nombres_separados:\n",
        "            lista_nombres_5c.add(nombre)\n",
        "ocurrencias_nombres_5c = {}\n",
        "for nombre in lista_nombres_5c:\n",
        "    if nombre in ocurrencias_nombres_5c:\n",
        "        ocurrencias_nombres_5c[nombre] += 1\n",
        "    else:\n",
        "        ocurrencias_nombres_5c[nombre] = 1\n",
        "for nombre,ocurrencias in ocurrencias_nombres_5c.items():\n",
        "    if ocurrencias == 1:\n",
        "        print({nombre})"
      ],
      "metadata": {
        "colab": {
          "base_uri": "https://localhost:8080/"
        },
        "id": "EwL5fp_KVtjq",
        "outputId": "3f2e5d14-fc8b-4c74-ab2b-5e99ae9fc81c"
      },
      "execution_count": 35,
      "outputs": [
        {
          "output_type": "stream",
          "name": "stdout",
          "text": [
            "{''}\n",
            "{'Dulce'}\n",
            "{'Renato'}\n",
            "{'Micaela'}\n",
            "{'Joaquin'}\n",
            "{'Valle'}\n",
            "{'Karim'}\n",
            "{'Elizabeth'}\n",
            "{'Tomasso'}\n",
            "{'Lautaro'}\n",
            "{'Martina'}\n",
            "{'Rosario'}\n",
            "{'Lucia'}\n",
            "{'Valentino'}\n",
            "{'Agustín'}\n",
            "{'Leonardo'}\n",
            "{'Agustina'}\n",
            "{'Victoria'}\n",
            "{'Ezequiel'}\n",
            "{'Maitena'}\n",
            "{'Mariel'}\n",
            "{'Agostina'}\n",
            "{'Santino'}\n",
            "{'Marcelo'}\n",
            "{'Zoe'}\n",
            "{'Lucas'}\n",
            "{'Josue'}\n",
            "{'Ismael'}\n",
            "{'Katya'}\n",
            "{'Luana'}\n",
            "{'Octavio'}\n",
            "{'Antonella'}\n",
            "{'Martin'}\n",
            "{'Nahuel'}\n",
            "{'Del'}\n",
            "{'Constanza'}\n",
            "{'Ariana'}\n",
            "{'Tiara'}\n",
            "{'Mauricio'}\n",
            "{'Magali'}\n",
            "{'Nicolas'}\n",
            "{'Salvador'}\n",
            "{'Mia'}\n",
            "{'Gabriel'}\n",
            "{'Alondra'}\n",
            "{'Abril'}\n",
            "{'Matias'}\n",
            "{'Yamila'}\n",
            "{'Luna'}\n",
            "{'Milena'}\n",
            "{'Ignacio'}\n",
            "{'Sara'}\n",
            "{'Matías'}\n",
            "{'Lourdes'}\n",
            "{'Vitto'}\n"
          ]
        }
      ]
    },
    {
      "cell_type": "code",
      "source": [
        "#MISMO EJERCICIO HACIENDO USO DE SET()\n",
        "lista_nombres_5d = set()\n",
        "for estudiante in estudiantes_sin_repetidos:\n",
        "    if estudiante[\"section\"] == \"D\":\n",
        "        nombre_completo = estudiante[\"name\"]\n",
        "        apellido,nombre = nombre_completo.split(\",\")\n",
        "        nombres_separados = nombre.split(\" \")\n",
        "        for nombre in nombres_separados:\n",
        "            lista_nombres_5d.add(nombre)\n",
        "ocurrencias_nombres_5d = {}\n",
        "for nombre in lista_nombres_5d:\n",
        "    if nombre in ocurrencias_nombres_5d:\n",
        "        ocurrencias_nombres_5d[nombre] += 1\n",
        "    else:\n",
        "        ocurrencias_nombres_5d[nombre] = 1\n",
        "for nombre,ocurrencias in ocurrencias_nombres_5d.items():\n",
        "    if ocurrencias == 1:\n",
        "        print({nombre})"
      ],
      "metadata": {
        "colab": {
          "base_uri": "https://localhost:8080/"
        },
        "id": "kbT_tZxjWkGJ",
        "outputId": "cdacf382-0020-42a8-8c64-24db78f83806"
      },
      "execution_count": 36,
      "outputs": [
        {
          "output_type": "stream",
          "name": "stdout",
          "text": [
            "{''}\n",
            "{'Anita'}\n",
            "{'Francisco'}\n",
            "{'Zacarias'}\n",
            "{'Morena'}\n",
            "{'Agustina'}\n",
            "{'Antonia'}\n",
            "{'Pedro'}\n",
            "{'Nazarena'}\n",
            "{'Victoria'}\n",
            "{'Agustin'}\n",
            "{'Ludmila'}\n",
            "{'Santino'}\n",
            "{'Stefano'}\n",
            "{'Angélica'}\n",
            "{'Lucas'}\n",
            "{'Marcelo'}\n",
            "{'Tomas'}\n",
            "{'Tadeo'}\n",
            "{'Josue'}\n",
            "{'Paulina'}\n",
            "{'Lizzie'}\n",
            "{'Andres'}\n",
            "{'Hugo'}\n",
            "{'Emanuel'}\n",
            "{'Stefania'}\n",
            "{'Mariano'}\n",
            "{'Del'}\n",
            "{'Alvaro'}\n",
            "{'Irina'}\n",
            "{'Camila'}\n",
            "{'Celia'}\n",
            "{'Maria'}\n",
            "{'Mahia'}\n",
            "{'Gabriel'}\n",
            "{'Amaya'}\n",
            "{'Jazmin'}\n",
            "{'Esmeralda'}\n",
            "{'Belen'}\n",
            "{'Solange'}\n",
            "{'Fabricio'}\n",
            "{'Milagros'}\n",
            "{'Milagro'}\n",
            "{'Ignacio'}\n",
            "{'Juliana'}\n",
            "{'Tobias'}\n"
          ]
        }
      ]
    },
    {
      "cell_type": "markdown",
      "source": [
        "4. Muestra cuantos apellidos únicos hay en cada curso."
      ],
      "metadata": {
        "id": "kZeEHUYVNwGV"
      }
    },
    {
      "cell_type": "code",
      "source": [
        "lista_apellidos_5c = []\n",
        "for estudiante in estudiantes_sin_repetidos:\n",
        "    if estudiante[\"section\"] == \"C\":\n",
        "        nombre_completo = estudiante[\"name\"]\n",
        "        apellido,nombre = nombre_completo.split(\",\")\n",
        "        apellidos_separados = apellido.split(\" \")\n",
        "        for apellido in apellidos_separados:\n",
        "            lista_apellidos_5c.append(apellido)\n",
        "ocurrencias_apellidos_5c = {}\n",
        "for apellido in lista_apellidos_5c:\n",
        "    if apellido in ocurrencias_apellidos_5c:\n",
        "        ocurrencias_apellidos_5c[apellido] += 1\n",
        "    else:\n",
        "        ocurrencias_apellidos_5c[apellido] = 1\n",
        "for apellido,ocurrencias in ocurrencias_apellidos_5c.items():\n",
        "    if ocurrencias == 1:\n",
        "        print({apellido})"
      ],
      "metadata": {
        "id": "q05GnxXgORzt"
      },
      "execution_count": null,
      "outputs": []
    },
    {
      "cell_type": "code",
      "source": [
        "lista_apellidos_5d = []\n",
        "for estudiante in estudiantes_sin_repetidos:\n",
        "    if estudiante[\"section\"] == \"D\":\n",
        "        nombre_completo = estudiante[\"name\"]\n",
        "        apellido,nombre = nombre_completo.split(\",\")\n",
        "        apellidos_separados = apellido.split(\" \")\n",
        "        for apellido in apellidos_separados:\n",
        "            lista_apellidos_5d.append(apellido)\n",
        "ocurrencias_apellidos_5d = {}\n",
        "for apellido in lista_apellidos_5d:\n",
        "    if apellido in ocurrencias_apellidos_5d:\n",
        "        ocurrencias_apellidos_5d[apellido] += 1\n",
        "    else:\n",
        "        ocurrencias_apellidos_5d[apellido] = 1\n",
        "for apellido,ocurrencias in ocurrencias_apellidos_5d.items():\n",
        "    if ocurrencias == 1:\n",
        "        print({apellido})"
      ],
      "metadata": {
        "id": "2YNjnQ3SMm3Y"
      },
      "execution_count": null,
      "outputs": []
    },
    {
      "cell_type": "markdown",
      "source": [
        "5. Mostrá los nombres que aparecen en ambos cursos"
      ],
      "metadata": {
        "id": "ywYmA2JQNp3T"
      }
    },
    {
      "cell_type": "code",
      "source": [
        "estudiantes_5C = set()\n",
        "estudiantes_5D = set()\n",
        "for estudiante in estudiantes_sin_repetidos:\n",
        "  nombre_completo = estudiante[\"name\"]\n",
        "  apellido,nombre = nombre_completo.split(\",\")\n",
        "  nombres_separados = nombre.split(\" \")\n",
        "  if estudiante[\"section\"] == \"C\":\n",
        "    for nombre in nombres_separados:\n",
        "        estudiantes_5C.add(nombre)\n",
        "  else:\n",
        "    for nombre in nombres_separados:\n",
        "        estudiantes_5D.add(nombre)\n",
        "nombres_repetidos = estudiantes_5C.intersection(estudiantes_5D)\n",
        "for estudiante in nombres_repetidos:\n",
        "  print(estudiante)"
      ],
      "metadata": {
        "id": "Cnp334ZrOCjK",
        "colab": {
          "base_uri": "https://localhost:8080/"
        },
        "outputId": "4c0bd520-d8e3-4143-9f6c-09ed497bdcf2"
      },
      "execution_count": 33,
      "outputs": [
        {
          "output_type": "stream",
          "name": "stdout",
          "text": [
            "\n",
            "Santino\n",
            "Lucas\n",
            "Marcelo\n",
            "Del\n",
            "Agustina\n",
            "Josue\n",
            "Ignacio\n",
            "Victoria\n",
            "Gabriel\n"
          ]
        }
      ]
    },
    {
      "cell_type": "markdown",
      "source": [
        "6. Mostrá los apellidos que se aparecen en ambos cursos"
      ],
      "metadata": {
        "id": "iAXts6saODoU"
      }
    },
    {
      "cell_type": "code",
      "source": [
        "estudiantes_5C = set()\n",
        "estudiantes_5D = set()\n",
        "for estudiante in estudiantes_sin_repetidos:\n",
        "  nombre_completo = estudiante[\"name\"]\n",
        "  apellido,nombre = nombre_completo.split(\",\")\n",
        "  apellidos_separados = apellido.split(\" \")\n",
        "  if estudiante[\"section\"] == \"C\":\n",
        "    for apellido in apellidos_separados:\n",
        "        estudiantes_5C.add(apellido)\n",
        "  else:\n",
        "    for apellido in apellidos_separados:\n",
        "        estudiantes_5D.add(apellido)\n",
        "apellidos_repetidos = estudiantes_5C.intersection(estudiantes_5D)\n",
        "for estudiante in apellidos_repetidos:\n",
        "  print(estudiante)"
      ],
      "metadata": {
        "id": "FMRsUlvtOJS_",
        "colab": {
          "base_uri": "https://localhost:8080/"
        },
        "outputId": "18c197fa-f5a6-4a5b-c626-def8a53187c0"
      },
      "execution_count": 34,
      "outputs": [
        {
          "output_type": "stream",
          "name": "stdout",
          "text": [
            "Flores\n",
            "Martinez\n",
            "Guanca\n"
          ]
        }
      ]
    },
    {
      "cell_type": "markdown",
      "source": [
        "7. Mostrá los nombres de los estudiantes de 5C que no existen en 5D y viceversa."
      ],
      "metadata": {
        "id": "T4PFiwwdOK27"
      }
    },
    {
      "cell_type": "code",
      "source": [
        "nombres_5C = set()\n",
        "nombres_5D = set()\n",
        "for estudiante in estudiantes_sin_repetidos:\n",
        "  nombre_completo = estudiante[\"name\"]\n",
        "  apellido,nombre = nombre_completo.split(\",\")\n",
        "  nombres_separados = nombre.split(\" \")\n",
        "  if estudiante[\"section\"] == \"C\":\n",
        "    for nombre in nombres_separados:\n",
        "        nombres_5C.add(nombre)\n",
        "  else:\n",
        "    for nombre in nombres_separados:\n",
        "        nombres_5D.add(nombre)\n",
        "diferencia_nombres = nombres_5C.difference(nombres_5D)\n",
        "for estudiante in diferencia_nombres:\n",
        "  print(estudiante)"
      ],
      "metadata": {
        "id": "vjQ2X9x3OmFr",
        "colab": {
          "base_uri": "https://localhost:8080/"
        },
        "outputId": "b2df9b1d-e7f8-4b37-b1a6-51b5af526ecf"
      },
      "execution_count": 37,
      "outputs": [
        {
          "output_type": "stream",
          "name": "stdout",
          "text": [
            "Dulce\n",
            "Renato\n",
            "Micaela\n",
            "Joaquin\n",
            "Valle\n",
            "Karim\n",
            "Elizabeth\n",
            "Tomasso\n",
            "Lautaro\n",
            "Martina\n",
            "Rosario\n",
            "Lucia\n",
            "Valentino\n",
            "Agustín\n",
            "Leonardo\n",
            "Maitena\n",
            "Mariel\n",
            "Agostina\n",
            "Zoe\n",
            "Ismael\n",
            "Katya\n",
            "Luana\n",
            "Octavio\n",
            "Antonella\n",
            "Martin\n",
            "Nahuel\n",
            "Constanza\n",
            "Ariana\n",
            "Tiara\n",
            "Sara\n",
            "Mauricio\n",
            "Magali\n",
            "Nicolas\n",
            "Salvador\n",
            "Mia\n",
            "Alondra\n",
            "Abril\n",
            "Matias\n",
            "Yamila\n",
            "Luna\n",
            "Milena\n",
            "Ezequiel\n",
            "Matías\n",
            "Lourdes\n",
            "Vitto\n"
          ]
        }
      ]
    },
    {
      "cell_type": "code",
      "source": [
        "nombres_5C = set()\n",
        "nombres_5D = set()\n",
        "for estudiante in estudiantes_sin_repetidos:\n",
        "  nombre_completo = estudiante[\"name\"]\n",
        "  apellido,nombre = nombre_completo.split(\",\")\n",
        "  nombres_separados = nombre.split(\" \")\n",
        "  if estudiante[\"section\"] == \"C\":\n",
        "    for nombre in nombres_separados:\n",
        "        nombres_5C.add(nombre)\n",
        "  else:\n",
        "    for nombre in nombres_separados:\n",
        "        nombres_5D.add(nombre)\n",
        "diferencia_nombres = nombres_5D.difference(nombres_5C)\n",
        "for estudiante in diferencia_nombres:\n",
        "  print(estudiante)"
      ],
      "metadata": {
        "colab": {
          "base_uri": "https://localhost:8080/"
        },
        "outputId": "993a05cf-27be-4afc-8324-3a12750aa8b7",
        "id": "dv5WlhNeYwZy"
      },
      "execution_count": 39,
      "outputs": [
        {
          "output_type": "stream",
          "name": "stdout",
          "text": [
            "Anita\n",
            "Francisco\n",
            "Zacarias\n",
            "Morena\n",
            "Antonia\n",
            "Pedro\n",
            "Nazarena\n",
            "Agustin\n",
            "Ludmila\n",
            "Stefano\n",
            "Angélica\n",
            "Tomas\n",
            "Tadeo\n",
            "Paulina\n",
            "Hugo\n",
            "Andres\n",
            "Stefania\n",
            "Emanuel\n",
            "Mariano\n",
            "Alvaro\n",
            "Irina\n",
            "Camila\n",
            "Celia\n",
            "Maria\n",
            "Mahia\n",
            "Amaya\n",
            "Juliana\n",
            "Jazmin\n",
            "Esmeralda\n",
            "Belen\n",
            "Solange\n",
            "Fabricio\n",
            "Milagros\n",
            "Milagro\n",
            "Lizzie\n",
            "Tobias\n"
          ]
        }
      ]
    },
    {
      "cell_type": "markdown",
      "source": [
        "8. Mostrá los apellidos de los estudiantes de 5C que no existen en 5D y viceversa.\n"
      ],
      "metadata": {
        "id": "xfy8SFlZRVGf"
      }
    },
    {
      "cell_type": "code",
      "source": [
        "apellidos_5C = set()\n",
        "apellidos_5D = set()\n",
        "for estudiante in estudiantes_sin_repetidos:\n",
        "  nombre_completo = estudiante[\"name\"]\n",
        "  apellido,nombre = nombre_completo.split(\",\")\n",
        "  apellidos_separados = apellido.split(\" \")\n",
        "  if estudiante[\"section\"] == \"C\":\n",
        "    for apellido in apellidos_separados:\n",
        "        apellidos_5C.add(apellido)\n",
        "  else:\n",
        "    for apellido in apellidos_separados:\n",
        "        apellidos_5D.add(apellido)\n",
        "diferencia_apellidos = apellidos_5C.difference(apellidos_5D)\n",
        "for estudiante in diferencia_apellidos:\n",
        "  print(estudiante)"
      ],
      "metadata": {
        "id": "E4Onk1FNRUa2",
        "colab": {
          "base_uri": "https://localhost:8080/"
        },
        "outputId": "18fbf122-f94d-43d8-d30e-ac4e1dc18567"
      },
      "execution_count": 38,
      "outputs": [
        {
          "output_type": "stream",
          "name": "stdout",
          "text": [
            "Rasuk\n",
            "Grancara\n",
            "Dagum\n",
            "Colque\n",
            "Rivero\n",
            "Cardozo\n",
            "Vedia\n",
            "Bracamonte\n",
            "Marinaro\n",
            "Figueroa\n",
            "Amador\n",
            "Virgillito\n",
            "Diaz\n",
            "Giangreco\n",
            "Galvan\n",
            "Sanchez\n",
            "Messina\n",
            "Lopez\n",
            "Rios\n",
            "Gallo\n",
            "Abud\n",
            "Scarano\n",
            "Argañaraz\n",
            "Bettinelli\n",
            "Barrozo\n",
            "Sierra\n",
            "Garrido\n",
            "Barrera\n",
            "Anaquin\n",
            "Merluzzi\n",
            "Tapia\n",
            "Araoz\n",
            "Laspiur\n",
            "Mamani\n",
            "Vilte\n"
          ]
        }
      ]
    },
    {
      "cell_type": "code",
      "source": [
        "apellidos_5C = set()\n",
        "apellidos_5D = set()\n",
        "for estudiante in estudiantes_sin_repetidos:\n",
        "  nombre_completo = estudiante[\"name\"]\n",
        "  apellido,nombre = nombre_completo.split(\",\")\n",
        "  apellidos_separados = apellido.split(\" \")\n",
        "  if estudiante[\"section\"] == \"C\":\n",
        "    for apellido in apellidos_separados:\n",
        "        apellidos_5C.add(apellido)\n",
        "  else:\n",
        "    for apellido in apellidos_separados:\n",
        "        apellidos_5D.add(apellido)\n",
        "diferencia_apellidos = apellidos_5D.difference(apellidos_5C)\n",
        "for estudiante in diferencia_apellidos:\n",
        "  print(estudiante)"
      ],
      "metadata": {
        "colab": {
          "base_uri": "https://localhost:8080/"
        },
        "id": "LGONWzJUY9XD",
        "outputId": "6470f627-1d8b-44d8-d9d1-ce0c10c4f6d0"
      },
      "execution_count": 40,
      "outputs": [
        {
          "output_type": "stream",
          "name": "stdout",
          "text": [
            "Soto\n",
            "Camara\n",
            "Cisneros\n",
            "Zalazar\n",
            "Elia\n",
            "D\n",
            "Lacour\n",
            "Barba\n",
            "Polo\n",
            "Caseres\n",
            "Jaime\n",
            "Alvarado\n",
            "Guzman\n",
            "Segovia\n",
            "Soriano\n",
            "Geronimo\n",
            "Angel\n",
            "Arenas\n",
            "Valdivia\n",
            "Retamal\n",
            "Rosales\n",
            "Lascano\n",
            "Castillo\n",
            "Lezcano\n",
            "Portella\n",
            "Salem\n",
            "Correa\n",
            "Villalba\n",
            "Voltolini\n",
            "Alurralde\n"
          ]
        }
      ]
    },
    {
      "cell_type": "markdown",
      "source": [
        "9. Mostrá todos los nombres, menos aquellos que existen en ambos cursos.\n"
      ],
      "metadata": {
        "id": "lW18NgPjRcGP"
      }
    },
    {
      "cell_type": "code",
      "source": [
        "nombres_5C = set()\n",
        "nombres_5D = set()\n",
        "for estudiante in estudiantes_sin_repetidos:\n",
        "  nombre_completo = estudiante[\"name\"]\n",
        "  apellido,nombre = nombre_completo.split(\",\")\n",
        "  nombres_separados = nombre.split(\" \")\n",
        "  if estudiante[\"section\"] == \"C\":\n",
        "    for apellido in apellidos_separados:\n",
        "        apellidos_5C.add(apellido)\n",
        "  else:\n",
        "    for apellido in apellidos_separados:\n",
        "        apellidos_5D.add(apellido)\n",
        "nombres_unicos = nombres_5C.symmetric_difference(nombres_5D)\n",
        "for estudiante in nombres_unicos:\n",
        "  print(estudiante)"
      ],
      "metadata": {
        "id": "jTtWBnalRcoC"
      },
      "execution_count": null,
      "outputs": []
    },
    {
      "cell_type": "markdown",
      "source": [
        "10. elimina tu nombre del conjunto al que pertenece"
      ],
      "metadata": {
        "id": "E24lH7x5Xbur"
      }
    },
    {
      "cell_type": "code",
      "source": [
        "alumnos_5c = set()\n",
        "alumnos_5d = set()\n",
        "for estudiante in estudiantes_sin_repetidos:\n",
        "  nombre_estudiante = estudiante[\"name\"]\n",
        "  if estudiante[\"section\"] == \"C\":\n",
        "    alumnos_5c.add(nombre_estudiante)\n",
        "  else:\n",
        "    alumnos_5d.add(nombre_estudiante)\n",
        "\n",
        "nombre_estudiante = input(\"Por favor, ingrese su nombre completo (apellido, nombre): para eliminarlo del conjunto: \").title()\n",
        "curso_estudiante = input(\"Por favor, ingrese su curso: \").upper()\n",
        "if curso_estudiante == \"C\":\n",
        "  for estudiante in alumnos_5c:\n",
        "    if nombre_estudiante in alumnos_5c:\n",
        "      alumnos_5c.discard(nombre_estudiante)\n",
        "      print(\"Su nombre ha sido eliminado correctamente\")\n",
        "    else:\n",
        "        print(\"Estudiante no encontrado en la sección C.\")\n",
        "        break\n",
        "elif curso_estudiante == \"D\":\n",
        "  for estudiante in alumnos_5d:\n",
        "    if nombre_estudiante in alumnos_5d:\n",
        "      alumnos_5d.discard(nombre_estudiante)\n",
        "      print(\"Su nombre ha sido eliminado correctamente\")\n",
        "    else:\n",
        "        print(\"Estudiante no encontrado en la sección D.\")\n",
        "        break\n",
        "else:\n",
        "  print(\"Estudiante no encontrado. Verifique que los datos ingresados sean correctos.\")\n",
        "\n",
        "if curso_estudiante == \"C\":\n",
        "  for estudiante in alumnos_5c:\n",
        "    print(estudiante)\n",
        "else:\n",
        "  for estudiante in alumnos_5d:\n",
        "    print(estudiante)"
      ],
      "metadata": {
        "id": "9SeI3GBGXims",
        "colab": {
          "base_uri": "https://localhost:8080/"
        },
        "outputId": "8a41cf05-63be-4827-c107-23b6d2676914"
      },
      "execution_count": 55,
      "outputs": [
        {
          "output_type": "stream",
          "name": "stdout",
          "text": [
            "Por favor, ingrese su nombre completo (apellido, nombre): para eliminarlo del conjunto: grancara, martina luna\n",
            "Por favor, ingrese su curso: c\n",
            "Estudiante no encontrado en la sección C.\n",
            "Rios, Lucia Magali\n",
            "Amador, Luana Micaela\n",
            "Guanca, Sara Elizabeth\n",
            "Figueroa, Santino Josue\n",
            "Mamani Garrido, Rosario Agostina\n",
            "Marinaro, Martin Ezequiel\n",
            "Virgillito, Katya Milena\n",
            "Colque Rivero, Ariana Zoe Del Valle\n",
            "Messina, Martina\n",
            "Flores Cardozo, Agustina Tiara\n",
            "Sierra, Lucas Mauricio\n",
            "Merluzzi Dagum, Ignacio\n",
            "Abud Laspiur, Lourdes Mariel\n",
            "Giangreco, Vitto Tomasso\n",
            "Sanchez Flores, Matías Agustín\n",
            "Bettinelli, Valentino\n",
            "Barrera, Matias Ezequiel\n",
            "Lopez, Victoria Constanza\n",
            "Argañaraz, Agostina Abril\n",
            "Tapia, Martin Gabriel\n",
            "Galvan, Lourdes Yamila\n",
            "Gallo, Octavio Ismael\n",
            "Barrozo Vedia, Joaquin Nicolas\n",
            "Vilte, Mia Antonella Alondra\n",
            "Scarano, Renato Marcelo\n",
            "Diaz, Dulce Maitena\n",
            "Rasuk, Karim\n",
            "Bracamonte Martinez, Salvador\n",
            "Araoz Sanchez, Lautaro Nahuel\n",
            "Anaquin, Leonardo Ezequiel\n"
          ]
        }
      ]
    },
    {
      "cell_type": "markdown",
      "source": [
        "11. Solicita al usuario un nombre y un apellido y agregalos a los correspondientes conjuntos de tu curso.\n",
        "\n",
        "\n",
        "\n"
      ],
      "metadata": {
        "id": "vOY6K_ydRc3Q"
      }
    },
    {
      "cell_type": "code",
      "source": [
        "pass"
      ],
      "metadata": {
        "id": "9JDrd3WqRdTi"
      },
      "execution_count": null,
      "outputs": []
    },
    {
      "cell_type": "markdown",
      "source": [
        "12. Solicita un nombre y verifica si este existe en el diccionario"
      ],
      "metadata": {
        "id": "hs1vGDrX2wHq"
      }
    },
    {
      "cell_type": "code",
      "source": [],
      "metadata": {
        "id": "4bbRCYWt2vDO"
      },
      "execution_count": null,
      "outputs": []
    }
  ]
}