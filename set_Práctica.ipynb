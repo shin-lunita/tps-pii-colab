{
  "nbformat": 4,
  "nbformat_minor": 0,
  "metadata": {
    "colab": {
      "provenance": [],
      "include_colab_link": true
    },
    "kernelspec": {
      "name": "python3",
      "display_name": "Python 3"
    },
    "language_info": {
      "name": "python"
    }
  },
  "cells": [
    {
      "cell_type": "markdown",
      "metadata": {
        "id": "view-in-github",
        "colab_type": "text"
      },
      "source": [
        "<a href=\"https://colab.research.google.com/github/shin-lunita/tps-pii-colab/blob/main/set_Pr%C3%A1ctica.ipynb\" target=\"_parent\"><img src=\"https://colab.research.google.com/assets/colab-badge.svg\" alt=\"Open In Colab\"/></a>"
      ]
    },
    {
      "cell_type": "code",
      "execution_count": 2,
      "metadata": {
        "id": "8VOD-zpMJovw"
      },
      "outputs": [],
      "source": [
        "estudiantes = [\n",
        "    {'name': 'Abud Laspiur, Lourdes Mariel', 'section': 'C', 'dob': '05/12/2006'},\n",
        "    {'name': 'Amador, Luana Micaela', 'section': 'C', 'dob': '09/12/2006'},\n",
        "    {'name': 'Anaquin, Leonardo Ezequiel', 'section': 'C', 'dob': '06/09/2005'},\n",
        "    {'name': 'Araoz Sanchez, Lautaro Nahuel', 'section': 'C', 'dob': '28/12/2005'},\n",
        "    {'name': 'Argañaraz, Agostina Abril', 'section': 'C', 'dob': '11/10/2006'},\n",
        "    {'name': 'Barrera, Matias Ezequiel', 'section': 'C', 'dob': '27/02/2007'},\n",
        "    {'name': 'Barrera, Matias Ezequiel', 'section': 'C', 'dob': '27/02/2007'},  # Repetido\n",
        "    {'name': 'Barrozo Vedia, Joaquin Nicolas', 'section': 'C', 'dob': '15/04/2006'},\n",
        "    {'name': 'Bettinelli, Valentino', 'section': 'C', 'dob': '12/07/2006'},\n",
        "    {'name': 'Bracamonte Martinez, Salvador', 'section': 'C', 'dob': '02/11/2005'},\n",
        "    {'name': 'Colque Rivero, Ariana Zoe Del Valle', 'section': 'C', 'dob': '27/12/2006'},\n",
        "    {'name': 'Diaz, Dulce Maitena', 'section': 'C', 'dob': '11/12/2006'},\n",
        "    {'name': 'Figueroa, Santino Josue', 'section': 'C', 'dob': '12/05/2007'},\n",
        "    {'name': 'Figueroa, Santino Josue', 'section': 'C', 'dob': '12/05/2007'},  # Repetido\n",
        "    {'name': 'Flores Cardozo, Agustina Tiara', 'section': 'C', 'dob': '18/03/2006'},\n",
        "    {'name': 'Gallo, Octavio Ismael', 'section': 'C', 'dob': '04/08/2006'},\n",
        "    {'name': 'Galvan, Lourdes Yamila', 'section': 'C', 'dob': '19/08/2005'},\n",
        "    {'name': 'Giangreco, Vitto Tomasso', 'section': 'C', 'dob': '21/03/2007'},\n",
        "    {'name': 'Grancara, Martina Luna', 'section': 'C', 'dob': '15/12/2006'},\n",
        "    {'name': 'Guanca, Sara Elizabeth', 'section': 'C', 'dob': '17/01/2007'},\n",
        "    {'name': 'Lopez, Victoria Constanza', 'section': 'C', 'dob': '12/11/2007'},\n",
        "    {'name': 'Mamani Garrido, Rosario Agostina', 'section': 'C', 'dob': '24/10/2006'},\n",
        "    {'name': 'Marinaro, Martin Ezequiel', 'section': 'C', 'dob': '03/11/2006'},\n",
        "    {'name': 'Merluzzi Dagum, Ignacio', 'section': 'C', 'dob': '22/12/2005'},\n",
        "    {'name': 'Messina, Martina', 'section': 'C', 'dob': '13/07/2005'},\n",
        "    {'name': 'Rasuk, Karim', 'section': 'C', 'dob': '13/07/2007'},\n",
        "    {'name': 'Rasuk, Karim', 'section': 'C', 'dob': '13/07/2007'},  # Repetido\n",
        "    {'name': 'Rios, Lucia Magali', 'section': 'C', 'dob': '22/09/2006'},\n",
        "    {'name': 'Sanchez Flores, Matías Agustín', 'section': 'C', 'dob': '15/02/2007'},\n",
        "    {'name': 'Scarano, Renato Marcelo', 'section': 'C', 'dob': '06/12/2006'},\n",
        "    {'name': 'Sierra, Lucas Mauricio', 'section': 'C', 'dob': '03/04/2005'},\n",
        "    {'name': 'Tapia, Martin Gabriel', 'section': 'C', 'dob': '30/05/2006'},\n",
        "    {'name': 'Vilte, Mia Antonella Alondra', 'section': 'C', 'dob': '10/09/2005'},\n",
        "    {'name': 'Virgillito, Katya Milena', 'section': 'C', 'dob': '19/06/2007'},\n",
        "    {'name': 'Alurralde, Solange Stefania', 'section': 'D', 'dob': '02/04/2007'},\n",
        "    {'name': 'Alvarado, Ludmila Del Milagro', 'section': 'D', 'dob': '06/09/2006'},\n",
        "    {'name': 'Angel, Camila Juliana', 'section': 'D', 'dob': '07/03/2007'},\n",
        "    {'name': 'Arenas, Lucas Gabriel', 'section': 'D', 'dob': '26/06/2007'},\n",
        "    {'name': 'Caseres, Maria Antonia', 'section': 'D', 'dob': '01/07/2006'},\n",
        "    {'name': 'Castillo, Paulina Milagros', 'section': 'D', 'dob': '01/06/2007'},\n",
        "    {'name': 'Correa Segovia, Hugo Mariano', 'section': 'D', 'dob': '04/12/2006'},\n",
        "    {'name': 'Correa Segovia, Hugo Mariano', 'section': 'D', 'dob': '04/12/2006'},  # Repetido\n",
        "    {'name': 'D Elia, Alvaro Tadeo', 'section': 'D', 'dob': '27/08/2006'},\n",
        "    {'name': 'Flores, Victoria Agustina', 'section': 'D', 'dob': '12/12/2006'},\n",
        "    {'name': 'Geronimo Soriano, Lizzie Amaya', 'section': 'D', 'dob': '20/01/2007'},\n",
        "    {'name': 'Guzman, Angélica Morena', 'section': 'D', 'dob': '11/04/2007'},\n",
        "    {'name': 'Guzman, Jazmin Esmeralda Belen', 'section': 'D', 'dob': '31/07/2006'},\n",
        "    {'name': 'Jaime, Anita Maria Belen', 'section': 'D', 'dob': '19/04/2007'},\n",
        "    {'name': 'Lacour Polo, Nazarena', 'section': 'D', 'dob': '19/12/2005'},\n",
        "    {'name': 'Lascano Guanca, Marcelo Fabricio', 'section': 'D', 'dob': '17/02/2006'},\n",
        "    {'name': 'Lezcano, Celia Morena', 'section': 'D', 'dob': '01/07/2005'},\n",
        "    {'name': 'Martinez, Tomas Andres', 'section': 'D', 'dob': '22/03/2007'},\n",
        "    {'name': 'Portella Valdivia, Pedro Francisco', 'section': 'D', 'dob': '24/01/2007'},\n",
        "    {'name': 'Retamal Cisneros, Zacarias Josue', 'section': 'D', 'dob': '24/02/2007'},\n",
        "    {'name': 'Rosales, Francisco Gabriel', 'section': 'D', 'dob': '14/11/2006'},\n",
        "    {'name': 'Salem Barba, Mahia', 'section': 'D', 'dob': '14/10/2005'},\n",
        "    {'name': 'Soto Camara, Agustin Ignacio', 'section': 'D', 'dob': '07/11/2005'},\n",
        "    {'name': 'Villalba, Irina', 'section': 'D', 'dob': '09/09/2006'},\n",
        "    {'name': 'Voltolini, Emanuel Tobias', 'section': 'D', 'dob': '17/09/2006'},\n",
        "    {'name': 'Zalazar, Santino Stefano', 'section': 'D', 'dob': '30/09/2006'},\n",
        "    {'name': 'Zalazar, Santino Stefano', 'section': 'D', 'dob': '30/09/2006'}  # Repetido\n",
        "]"
      ]
    },
    {
      "cell_type": "code",
      "source": [
        "# Spoiler de estructura que veremos en los siguientes TPs\n",
        "import json\n",
        "for estudiante in estudiantes:\n",
        "  alumno_json = json.dumps(estudiante,indent=4,ensure_ascii=False)\n",
        "  print(alumno_json,\",\")"
      ],
      "metadata": {
        "id": "7lcHoIqemYFH"
      },
      "execution_count": null,
      "outputs": []
    },
    {
      "cell_type": "markdown",
      "source": [
        "## Dada la lista estudiantes:\n",
        "> - Hacer una celda para resolver cada punto.\n",
        "- El TP resuelto será revisado en tu repositorio, no es necesario que lo envíes, pero sí que lo pushees correctamente.\n",
        "- En la nota inicial se contempla:\n",
        "  - La incorporación de este documento a tu propio respositorio.\n",
        "  - El pusheo de los cambios realizados.\n",
        "  - La resolución de los ejercicios propuestos.\n"
      ],
      "metadata": {
        "id": "rd6Ug6v3J4uN"
      }
    },
    {
      "cell_type": "markdown",
      "source": [
        "1. Dada la lista de estudiantes, elimina los elementos repetidos de la misma, usando para ello una estructura set. El resultado final debe ser una lista, con la misma estructura de la original, pero sin datos repetidos.\n",
        "\n",
        "Para esto tener en cuenta que:\n",
        "- Los conjuntos solo pueden almacenar datos inmutables.\n",
        "- Los diccionarios son estructuras mutables.\n",
        "- dict.items() devuelve una lista de tuplas.\n",
        "- dict(tupla) genera un diccionario, donde el primer elemento de la tupla es la clave, y el segundo el valor. Ej:\n",
        "  -\n",
        "  ```python\n",
        "  dict([(\"Alberto\", 10), (\"José\", 7), (\"Dario\", 14), (\"Ana\", 8), (\"Maria\", 9), (\"Emilia\", 10)])\n",
        "\n",
        "  va a generar el siguiente diccionario:\n",
        "\n",
        "  ```python\n",
        "  {'Alberto': 10, 'José': 7, 'Dario': 14, 'Ana': 8, 'Maria': 9, 'Emilia': 10}\n",
        "  ```\n",
        "\n"
      ],
      "metadata": {
        "id": "wRLng-uURyJ3"
      }
    },
    {
      "cell_type": "code",
      "source": [
        "lista_tuplas = []\n",
        "estudiantes_sin_repetidos = []\n",
        "for estudiante in estudiantes:\n",
        "    tupla = tuple(estudiante.items())\n",
        "    lista_tuplas.append(tupla)\n",
        "conjunto_tuplas = set(lista_tuplas)\n",
        "print(conjunto_tuplas)\n",
        "for estudiante in conjunto_tuplas:\n",
        "    un_estudiante = dict(estudiante)\n",
        "    estudiantes_sin_repetidos.append(un_estudiante)\n",
        "for estudiante in estudiantes_sin_repetidos:\n",
        "    print(estudiante)"
      ],
      "metadata": {
        "id": "lnuVVFJ-Zq7x"
      },
      "execution_count": null,
      "outputs": []
    },
    {
      "cell_type": "markdown",
      "source": [
        "2. Crea un conjunto de nombres y otro de apellidos para 5C y  para 5D.\n",
        "- Muestra los conjuntos generados\n",
        "\n",
        "> recordá que los conjuntos solo pueden almacenar datos inmutables"
      ],
      "metadata": {
        "id": "dYEGkYZyLy9I"
      }
    },
    {
      "cell_type": "code",
      "source": [
        "nombres_5c = set()\n",
        "apellidos_5c = set()\n",
        "nombres_5d = set()\n",
        "apellidos_5d = set()\n",
        "for estudiante in estudiantes:\n",
        "    nombre_completo = estudiante[\"name\"]\n",
        "    apellido,nombre = nombre_completo.split(\",\")\n",
        "    apellidos = apellido.split(\" \")\n",
        "    nombres = nombre.strip().split(\" \")\n",
        "    if estudiante[\"section\"] == \"C\":\n",
        "        for nombre in nombres:\n",
        "            nombres_5c.add(nombre)\n",
        "        for apellido in apellidos:\n",
        "            apellidos_5c.add(apellido)\n",
        "    else:\n",
        "        for nombre in nombres:\n",
        "            nombres_5d.add(nombre)\n",
        "        for apellido in apellidos:\n",
        "            apellidos_5d.add(apellido)\n",
        "print(f\"{nombres_5c= }\")\n",
        "print(f\"{apellidos_5c= }\")\n",
        "print(f\"{nombres_5d= }\")\n",
        "print(f\"{apellidos_5d= }\")"
      ],
      "metadata": {
        "id": "D-YWiZ5wOWnQ"
      },
      "execution_count": null,
      "outputs": []
    },
    {
      "cell_type": "markdown",
      "source": [
        "3. Muestra cuantos nombres únicos hay en cada curso."
      ],
      "metadata": {
        "id": "UW2dlBsGMAte"
      }
    },
    {
      "cell_type": "code",
      "source": [
        "lista_nombres_5c = []\n",
        "for estudiante in estudiantes_sin_repetidos:\n",
        "    if estudiante[\"section\"] == \"C\":\n",
        "        nombre_completo = estudiante[\"name\"]\n",
        "        apellido,nombre = nombre_completo.split(\",\")\n",
        "        nombres_separados = nombre.split(\" \")\n",
        "        for nombre in nombres_separados:\n",
        "            lista_nombres_5c.append(nombre)\n",
        "ocurrencias_nombres_5c = {}\n",
        "for nombre in lista_nombres_5c:\n",
        "    if nombre in ocurrencias_nombres_5c:\n",
        "        ocurrencias_nombres_5c[nombre] += 1\n",
        "    else:\n",
        "        ocurrencias_nombres_5c[nombre] = 1\n",
        "for nombre,ocurrencias in ocurrencias_nombres_5c.items():\n",
        "    if ocurrencias == 1:\n",
        "        print({nombre})"
      ],
      "metadata": {
        "id": "Uq-eV6WRkKeT"
      },
      "execution_count": null,
      "outputs": []
    },
    {
      "cell_type": "code",
      "source": [
        "lista_nombres_5d = []\n",
        "for estudiante in estudiantes_sin_repetidos:\n",
        "    if estudiante[\"section\"] == \"D\":\n",
        "        nombre_completo = estudiante[\"name\"]\n",
        "        apellido,nombre = nombre_completo.split(\",\")\n",
        "        nombres_separados = nombre.split(\" \")\n",
        "        for nombre in nombres_separados:\n",
        "            lista_nombres_5d.append(nombre)\n",
        "ocurrencias_nombres_5d = {}\n",
        "for nombre in lista_nombres_5d:\n",
        "    if nombre in ocurrencias_nombres_5d:\n",
        "        ocurrencias_nombres_5d[nombre] += 1\n",
        "    else:\n",
        "        ocurrencias_nombres_5d[nombre] = 1\n",
        "for nombre,ocurrencias in ocurrencias_nombres_5d.items():\n",
        "    if ocurrencias == 1:\n",
        "        print({nombre})"
      ],
      "metadata": {
        "id": "EawAy4SANtkl"
      },
      "execution_count": null,
      "outputs": []
    },
    {
      "cell_type": "code",
      "source": [
        "#MISMO EJERCICIO HACIENDO USO DE SET()\n",
        "lista_nombres_5c = set()\n",
        "for estudiante in estudiantes_sin_repetidos:\n",
        "    if estudiante[\"section\"] == \"C\":\n",
        "        nombre_completo = estudiante[\"name\"]\n",
        "        apellido,nombre = nombre_completo.split(\",\")\n",
        "        nombres_separados = nombre.split(\" \")\n",
        "        for nombre in nombres_separados:\n",
        "            lista_nombres_5c.add(nombre)\n",
        "ocurrencias_nombres_5c = {}\n",
        "for nombre in lista_nombres_5c:\n",
        "    if nombre in ocurrencias_nombres_5c:\n",
        "        ocurrencias_nombres_5c[nombre] += 1\n",
        "    else:\n",
        "        ocurrencias_nombres_5c[nombre] = 1\n",
        "for nombre,ocurrencias in ocurrencias_nombres_5c.items():\n",
        "    if ocurrencias == 1:\n",
        "        print({nombre})"
      ],
      "metadata": {
        "id": "EwL5fp_KVtjq"
      },
      "execution_count": null,
      "outputs": []
    },
    {
      "cell_type": "code",
      "source": [
        "#MISMO EJERCICIO HACIENDO USO DE SET()\n",
        "lista_nombres_5d = set()\n",
        "for estudiante in estudiantes_sin_repetidos:\n",
        "    if estudiante[\"section\"] == \"D\":\n",
        "        nombre_completo = estudiante[\"name\"]\n",
        "        apellido,nombre = nombre_completo.split(\",\")\n",
        "        nombres_separados = nombre.split(\" \")\n",
        "        for nombre in nombres_separados:\n",
        "            lista_nombres_5d.add(nombre)\n",
        "ocurrencias_nombres_5d = {}\n",
        "for nombre in lista_nombres_5d:\n",
        "    if nombre in ocurrencias_nombres_5d:\n",
        "        ocurrencias_nombres_5d[nombre] += 1\n",
        "    else:\n",
        "        ocurrencias_nombres_5d[nombre] = 1\n",
        "for nombre,ocurrencias in ocurrencias_nombres_5d.items():\n",
        "    if ocurrencias == 1:\n",
        "        print({nombre})"
      ],
      "metadata": {
        "id": "kbT_tZxjWkGJ"
      },
      "execution_count": null,
      "outputs": []
    },
    {
      "cell_type": "markdown",
      "source": [
        "4. Muestra cuantos apellidos únicos hay en cada curso."
      ],
      "metadata": {
        "id": "kZeEHUYVNwGV"
      }
    },
    {
      "cell_type": "code",
      "source": [
        "lista_apellidos_5c = []\n",
        "for estudiante in estudiantes_sin_repetidos:\n",
        "    if estudiante[\"section\"] == \"C\":\n",
        "        nombre_completo = estudiante[\"name\"]\n",
        "        apellido,nombre = nombre_completo.split(\",\")\n",
        "        apellidos_separados = apellido.split(\" \")\n",
        "        for apellido in apellidos_separados:\n",
        "            lista_apellidos_5c.append(apellido)\n",
        "ocurrencias_apellidos_5c = {}\n",
        "for apellido in lista_apellidos_5c:\n",
        "    if apellido in ocurrencias_apellidos_5c:\n",
        "        ocurrencias_apellidos_5c[apellido] += 1\n",
        "    else:\n",
        "        ocurrencias_apellidos_5c[apellido] = 1\n",
        "for apellido,ocurrencias in ocurrencias_apellidos_5c.items():\n",
        "    if ocurrencias == 1:\n",
        "        print({apellido})"
      ],
      "metadata": {
        "id": "q05GnxXgORzt"
      },
      "execution_count": null,
      "outputs": []
    },
    {
      "cell_type": "code",
      "source": [
        "lista_apellidos_5d = []\n",
        "for estudiante in estudiantes_sin_repetidos:\n",
        "    if estudiante[\"section\"] == \"D\":\n",
        "        nombre_completo = estudiante[\"name\"]\n",
        "        apellido,nombre = nombre_completo.split(\",\")\n",
        "        apellidos_separados = apellido.split(\" \")\n",
        "        for apellido in apellidos_separados:\n",
        "            lista_apellidos_5d.append(apellido)\n",
        "ocurrencias_apellidos_5d = {}\n",
        "for apellido in lista_apellidos_5d:\n",
        "    if apellido in ocurrencias_apellidos_5d:\n",
        "        ocurrencias_apellidos_5d[apellido] += 1\n",
        "    else:\n",
        "        ocurrencias_apellidos_5d[apellido] = 1\n",
        "for apellido,ocurrencias in ocurrencias_apellidos_5d.items():\n",
        "    if ocurrencias == 1:\n",
        "        print({apellido})"
      ],
      "metadata": {
        "id": "2YNjnQ3SMm3Y"
      },
      "execution_count": null,
      "outputs": []
    },
    {
      "cell_type": "code",
      "source": [
        "#MISMO EJERCICIO HACIENDO USO DE SET()\n",
        "lista_apellidos_5c = set()\n",
        "for estudiante in estudiantes_sin_repetidos:\n",
        "    if estudiante[\"section\"] == \"C\":\n",
        "        nombre_completo = estudiante[\"name\"]\n",
        "        apellido,nombre = nombre_completo.split(\",\")\n",
        "        apellidos_separados = apellido.split(\" \")\n",
        "        for apellido in apellidos_separados:\n",
        "            lista_apellidos_5c.add(apellido)\n",
        "ocurrencias_apellidos_5c = {}\n",
        "for apellido in lista_apellidos_5c:\n",
        "    if apellido in ocurrencias_apellidos_5c:\n",
        "        ocurrencias_apellidos_5c[apellido] += 1\n",
        "    else:\n",
        "        ocurrencias_apellidos_5c[apellido] = 1\n",
        "for apellido,ocurrencias in ocurrencias_apellidos_5c.items():\n",
        "    if ocurrencias == 1:\n",
        "        print({apellido})"
      ],
      "metadata": {
        "id": "cPJuuQnJf47L"
      },
      "execution_count": null,
      "outputs": []
    },
    {
      "cell_type": "code",
      "source": [
        "#MISMO EJERCICIO HACIENDO USO DE SET()\n",
        "lista_apellidos_5d = set()\n",
        "for estudiante in estudiantes_sin_repetidos:\n",
        "    if estudiante[\"section\"] == \"D\":\n",
        "        nombre_completo = estudiante[\"name\"]\n",
        "        apellido,nombre = nombre_completo.split(\",\")\n",
        "        apellidos_separados = apellido.split(\" \")\n",
        "        for apellido in apellidos_separados:\n",
        "            lista_apellidos_5d.add(apellido)\n",
        "ocurrencias_apellidos_5d = {}\n",
        "for apellido in lista_apellidos_5d:\n",
        "    if apellido in ocurrencias_apellidos_5d:\n",
        "        ocurrencias_apellidos_5d[apellido] += 1\n",
        "    else:\n",
        "        ocurrencias_apellidos_5d[apellido] = 1\n",
        "for apellido,ocurrencias in ocurrencias_apellidos_5d.items():\n",
        "    if ocurrencias == 1:\n",
        "        print({apellido})"
      ],
      "metadata": {
        "id": "1WrtwhxBgGR7"
      },
      "execution_count": null,
      "outputs": []
    },
    {
      "cell_type": "markdown",
      "source": [
        "5. Mostrá los nombres que aparecen en ambos cursos"
      ],
      "metadata": {
        "id": "ywYmA2JQNp3T"
      }
    },
    {
      "cell_type": "code",
      "source": [
        "estudiantes_5C = set()\n",
        "estudiantes_5D = set()\n",
        "for estudiante in estudiantes_sin_repetidos:\n",
        "  nombre_completo = estudiante[\"name\"]\n",
        "  apellido,nombre = nombre_completo.split(\",\")\n",
        "  nombres_separados = nombre.split(\" \")\n",
        "  if estudiante[\"section\"] == \"C\":\n",
        "    for nombre in nombres_separados:\n",
        "        estudiantes_5C.add(nombre)\n",
        "  else:\n",
        "    for nombre in nombres_separados:\n",
        "        estudiantes_5D.add(nombre)\n",
        "nombres_repetidos = estudiantes_5C.intersection(estudiantes_5D)\n",
        "for estudiante in nombres_repetidos:\n",
        "  print(estudiante)"
      ],
      "metadata": {
        "id": "Cnp334ZrOCjK"
      },
      "execution_count": null,
      "outputs": []
    },
    {
      "cell_type": "markdown",
      "source": [
        "6. Mostrá los apellidos que se aparecen en ambos cursos"
      ],
      "metadata": {
        "id": "iAXts6saODoU"
      }
    },
    {
      "cell_type": "code",
      "source": [
        "estudiantes_5C = set()\n",
        "estudiantes_5D = set()\n",
        "for estudiante in estudiantes_sin_repetidos:\n",
        "  nombre_completo = estudiante[\"name\"]\n",
        "  apellido,nombre = nombre_completo.split(\",\")\n",
        "  apellidos_separados = apellido.split(\" \")\n",
        "  if estudiante[\"section\"] == \"C\":\n",
        "    for apellido in apellidos_separados:\n",
        "        estudiantes_5C.add(apellido)\n",
        "  else:\n",
        "    for apellido in apellidos_separados:\n",
        "        estudiantes_5D.add(apellido)\n",
        "apellidos_repetidos = estudiantes_5C.intersection(estudiantes_5D)\n",
        "for estudiante in apellidos_repetidos:\n",
        "  print(estudiante)"
      ],
      "metadata": {
        "id": "FMRsUlvtOJS_"
      },
      "execution_count": null,
      "outputs": []
    },
    {
      "cell_type": "markdown",
      "source": [
        "7. Mostrá los nombres de los estudiantes de 5C que no existen en 5D y viceversa."
      ],
      "metadata": {
        "id": "T4PFiwwdOK27"
      }
    },
    {
      "cell_type": "code",
      "source": [
        "nombres_5C = set()\n",
        "nombres_5D = set()\n",
        "for estudiante in estudiantes_sin_repetidos:\n",
        "  nombre_completo = estudiante[\"name\"]\n",
        "  apellido,nombre = nombre_completo.split(\",\")\n",
        "  nombres_separados = nombre.split(\" \")\n",
        "  if estudiante[\"section\"] == \"C\":\n",
        "    for nombre in nombres_separados:\n",
        "        nombres_5C.add(nombre)\n",
        "  else:\n",
        "    for nombre in nombres_separados:\n",
        "        nombres_5D.add(nombre)\n",
        "diferencia_nombres = nombres_5C.difference(nombres_5D)\n",
        "for estudiante in diferencia_nombres:\n",
        "  print(estudiante)"
      ],
      "metadata": {
        "id": "vjQ2X9x3OmFr"
      },
      "execution_count": null,
      "outputs": []
    },
    {
      "cell_type": "code",
      "source": [
        "nombres_5C = set()\n",
        "nombres_5D = set()\n",
        "for estudiante in estudiantes_sin_repetidos:\n",
        "  nombre_completo = estudiante[\"name\"]\n",
        "  apellido,nombre = nombre_completo.split(\",\")\n",
        "  nombres_separados = nombre.split(\" \")\n",
        "  if estudiante[\"section\"] == \"C\":\n",
        "    for nombre in nombres_separados:\n",
        "        nombres_5C.add(nombre)\n",
        "  else:\n",
        "    for nombre in nombres_separados:\n",
        "        nombres_5D.add(nombre)\n",
        "diferencia_nombres = nombres_5D.difference(nombres_5C)\n",
        "for estudiante in diferencia_nombres:\n",
        "  print(estudiante)"
      ],
      "metadata": {
        "id": "dv5WlhNeYwZy"
      },
      "execution_count": null,
      "outputs": []
    },
    {
      "cell_type": "markdown",
      "source": [
        "8. Mostrá los apellidos de los estudiantes de 5C que no existen en 5D y viceversa.\n"
      ],
      "metadata": {
        "id": "xfy8SFlZRVGf"
      }
    },
    {
      "cell_type": "code",
      "source": [
        "apellidos_5C = set()\n",
        "apellidos_5D = set()\n",
        "for estudiante in estudiantes_sin_repetidos:\n",
        "  nombre_completo = estudiante[\"name\"]\n",
        "  apellido,nombre = nombre_completo.split(\",\")\n",
        "  apellidos_separados = apellido.split(\" \")\n",
        "  if estudiante[\"section\"] == \"C\":\n",
        "    for apellido in apellidos_separados:\n",
        "        apellidos_5C.add(apellido)\n",
        "  else:\n",
        "    for apellido in apellidos_separados:\n",
        "        apellidos_5D.add(apellido)\n",
        "diferencia_apellidos = apellidos_5C.difference(apellidos_5D)\n",
        "for estudiante in diferencia_apellidos:\n",
        "  print(estudiante)"
      ],
      "metadata": {
        "id": "E4Onk1FNRUa2"
      },
      "execution_count": null,
      "outputs": []
    },
    {
      "cell_type": "code",
      "source": [
        "apellidos_5C = set()\n",
        "apellidos_5D = set()\n",
        "for estudiante in estudiantes_sin_repetidos:\n",
        "  nombre_completo = estudiante[\"name\"]\n",
        "  apellido,nombre = nombre_completo.split(\",\")\n",
        "  apellidos_separados = apellido.split(\" \")\n",
        "  if estudiante[\"section\"] == \"C\":\n",
        "    for apellido in apellidos_separados:\n",
        "        apellidos_5C.add(apellido)\n",
        "  else:\n",
        "    for apellido in apellidos_separados:\n",
        "        apellidos_5D.add(apellido)\n",
        "diferencia_apellidos = apellidos_5D.difference(apellidos_5C)\n",
        "for estudiante in diferencia_apellidos:\n",
        "  print(estudiante)"
      ],
      "metadata": {
        "id": "LGONWzJUY9XD"
      },
      "execution_count": null,
      "outputs": []
    },
    {
      "cell_type": "markdown",
      "source": [
        "9. Mostrá todos los nombres, menos aquellos que existen en ambos cursos.\n"
      ],
      "metadata": {
        "id": "lW18NgPjRcGP"
      }
    },
    {
      "cell_type": "code",
      "source": [
        "nombres_5c = set()\n",
        "nombres_5d = set()\n",
        "for estudiante in estudiantes_sin_repetidos:\n",
        "  nombre_completo = estudiante[\"name\"]\n",
        "  apellido,nombre = nombre_completo.split(\",\")\n",
        "  nombres_separados = nombre.split(\" \")\n",
        "  if estudiante[\"section\"] == \"C\":\n",
        "    for nombre in nombres_separados:\n",
        "        nombres_5c.add(nombre)\n",
        "  else:\n",
        "    for nombre in nombres_separados:\n",
        "        nombres_5d.add(nombre)\n",
        "nombres_unicos = nombres_5c.symmetric_difference(nombres_5d)\n",
        "for estudiante in nombres_unicos:\n",
        "  print(estudiante)"
      ],
      "metadata": {
        "id": "jTtWBnalRcoC"
      },
      "execution_count": null,
      "outputs": []
    },
    {
      "cell_type": "markdown",
      "source": [
        "10. elimina tu nombre del conjunto al que pertenece"
      ],
      "metadata": {
        "id": "E24lH7x5Xbur"
      }
    },
    {
      "cell_type": "code",
      "source": [
        "alumnos_5c = set()\n",
        "alumnos_5d = set()\n",
        "for estudiante in estudiantes_sin_repetidos:\n",
        "  nombre_estudiante = estudiante[\"name\"]\n",
        "  if estudiante[\"section\"] == \"C\":\n",
        "    alumnos_5c.add(nombre_estudiante)\n",
        "  else:\n",
        "    alumnos_5d.add(nombre_estudiante)\n",
        "\n",
        "nombre_estudiante = input(\"Por favor, ingrese su nombre completo (apellido, nombre): para eliminarlo del conjunto: \").title()\n",
        "curso_estudiante = input(\"Por favor, ingrese su curso: \").upper()\n",
        "if curso_estudiante == \"C\":\n",
        "  for estudiante in alumnos_5c:\n",
        "    if nombre_estudiante in alumnos_5c:\n",
        "      alumnos_5c.discard(nombre_estudiante)\n",
        "      print(\"Su nombre ha sido eliminado correctamente\")\n",
        "      break\n",
        "    else:\n",
        "        print(\"Estudiante no encontrado en la sección C.\")\n",
        "        break\n",
        "elif curso_estudiante == \"D\":\n",
        "  for estudiante in alumnos_5d:\n",
        "    if nombre_estudiante in alumnos_5d:\n",
        "      alumnos_5d.discard(nombre_estudiante)\n",
        "      print(\"Su nombre ha sido eliminado correctamente\")\n",
        "      break\n",
        "    else:\n",
        "        print(\"Estudiante no encontrado en la sección D.\")\n",
        "        break\n",
        "else:\n",
        "  print(\"Estudiante no encontrado. Verifique que los datos ingresados sean correctos.\")\n",
        "\n",
        "if curso_estudiante == \"C\":\n",
        "  for estudiante in alumnos_5c:\n",
        "    print(estudiante)\n",
        "else:\n",
        "  for estudiante in alumnos_5d:\n",
        "    print(estudiante)"
      ],
      "metadata": {
        "id": "9SeI3GBGXims",
        "colab": {
          "base_uri": "https://localhost:8080/"
        },
        "outputId": "8a69bef8-f763-42ac-952f-ab2747344515"
      },
      "execution_count": null,
      "outputs": [
        {
          "output_type": "stream",
          "name": "stdout",
          "text": [
            "Por favor, ingrese su nombre completo (apellido, nombre): para eliminarlo del conjunto: Grancara, Martina Luna\n",
            "Por favor, ingrese su curso: C\n",
            "Su nombre ha sido eliminado correctamente\n",
            "Sanchez Flores, Matías Agustín\n",
            "Rios, Lucia Magali\n",
            "Guanca, Sara Elizabeth\n",
            "Gallo, Octavio Ismael\n",
            "Tapia, Martin Gabriel\n",
            "Argañaraz, Agostina Abril\n",
            "Lopez, Victoria Constanza\n",
            "Marinaro, Martin Ezequiel\n",
            "Bettinelli, Valentino\n",
            "Barrozo Vedia, Joaquin Nicolas\n",
            "Virgillito, Katya Milena\n",
            "Amador, Luana Micaela\n",
            "Abud Laspiur, Lourdes Mariel\n",
            "Diaz, Dulce Maitena\n",
            "Araoz Sanchez, Lautaro Nahuel\n",
            "Galvan, Lourdes Yamila\n",
            "Anaquin, Leonardo Ezequiel\n",
            "Colque Rivero, Ariana Zoe Del Valle\n",
            "Bracamonte Martinez, Salvador\n",
            "Rasuk, Karim\n",
            "Merluzzi Dagum, Ignacio\n",
            "Sierra, Lucas Mauricio\n",
            "Mamani Garrido, Rosario Agostina\n",
            "Flores Cardozo, Agustina Tiara\n",
            "Barrera, Matias Ezequiel\n",
            "Figueroa, Santino Josue\n",
            "Giangreco, Vitto Tomasso\n",
            "Messina, Martina\n",
            "Scarano, Renato Marcelo\n",
            "Vilte, Mia Antonella Alondra\n"
          ]
        }
      ]
    },
    {
      "cell_type": "markdown",
      "source": [
        "11. Solicita al usuario un nombre y un apellido y agregalos a los correspondientes conjuntos de tu curso.\n",
        "\n",
        "\n",
        "\n"
      ],
      "metadata": {
        "id": "vOY6K_ydRc3Q"
      }
    },
    {
      "cell_type": "code",
      "source": [
        "estudiante_nuevo = input(\"Por favor, ingrese el nombre completo del nuevo estudiante (apellido, nombre): \").title()\n",
        "curso = input(\"Por favor, ingrese la sección de su curso (C o D): \").upper()\n",
        "if curso == \"C\":\n",
        "    alumnos_5c.add(estudiante_nuevo)\n",
        "    print(\"Estudiante añadido exitosamente.\")\n",
        "    for estudiante in alumnos_5c:\n",
        "        print(estudiante)\n",
        "elif curso == \"D\":\n",
        "    alumnos_5d.add(estudiante_nuevo)\n",
        "    print(\"Estudiante añadido exitosamente.\")\n",
        "    for estudiante in alumnos_5d:\n",
        "        print(estudiante)\n",
        "else:\n",
        "    print(\"Sección ingresada inválida.\")"
      ],
      "metadata": {
        "id": "9JDrd3WqRdTi",
        "outputId": "4d319a34-9c9f-4d04-fa2d-1fc73c09f50a",
        "colab": {
          "base_uri": "https://localhost:8080/"
        }
      },
      "execution_count": null,
      "outputs": [
        {
          "output_type": "stream",
          "name": "stdout",
          "text": [
            "Por favor, ingrese el nombre completo del nuevo estudiante (apellido, nombre): Grancara, Benicio\n",
            "Por favor, ingrese la sección de su curso (C o D): C\n",
            "Estudiante añadido exitosamente.\n",
            "Sanchez Flores, Matías Agustín\n",
            "Rios, Lucia Magali\n",
            "Guanca, Sara Elizabeth\n",
            "Gallo, Octavio Ismael\n",
            "Tapia, Martin Gabriel\n",
            "Argañaraz, Agostina Abril\n",
            "Lopez, Victoria Constanza\n",
            "Marinaro, Martin Ezequiel\n",
            "Grancara, Benicio\n",
            "Bettinelli, Valentino\n",
            "Barrozo Vedia, Joaquin Nicolas\n",
            "Virgillito, Katya Milena\n",
            "Amador, Luana Micaela\n",
            "Abud Laspiur, Lourdes Mariel\n",
            "Diaz, Dulce Maitena\n",
            "Araoz Sanchez, Lautaro Nahuel\n",
            "Galvan, Lourdes Yamila\n",
            "Anaquin, Leonardo Ezequiel\n",
            "Colque Rivero, Ariana Zoe Del Valle\n",
            "Bracamonte Martinez, Salvador\n",
            "Rasuk, Karim\n",
            "Merluzzi Dagum, Ignacio\n",
            "Sierra, Lucas Mauricio\n",
            "Mamani Garrido, Rosario Agostina\n",
            "Flores Cardozo, Agustina Tiara\n",
            "Barrera, Matias Ezequiel\n",
            "Figueroa, Santino Josue\n",
            "Giangreco, Vitto Tomasso\n",
            "Messina, Martina\n",
            "Scarano, Renato Marcelo\n",
            "Vilte, Mia Antonella Alondra\n"
          ]
        }
      ]
    },
    {
      "cell_type": "markdown",
      "source": [
        "12. Solicita un nombre y verifica si este existe en el diccionario"
      ],
      "metadata": {
        "id": "hs1vGDrX2wHq"
      }
    },
    {
      "cell_type": "code",
      "source": [
        "nombre = input(\"Por favor, ingrese un nombre para verificar si se encuentra en la lista (apellido, nombre) \").title()\n",
        "encontrado = False\n",
        "for estudiante in estudiantes_sin_repetidos:\n",
        "  if estudiante[\"name\"] == nombre:\n",
        "    encontrado = True\n",
        "    print(\"El estudiante sí se encuentra en la lista\")\n",
        "    break\n",
        "if encontrado == False:\n",
        "  print(\"El estudiante no se encuentra en la lista\")"
      ],
      "metadata": {
        "id": "4bbRCYWt2vDO",
        "outputId": "33e728ea-f95d-437f-dd01-4060e3c25e09",
        "colab": {
          "base_uri": "https://localhost:8080/"
        }
      },
      "execution_count": 8,
      "outputs": [
        {
          "output_type": "stream",
          "name": "stdout",
          "text": [
            "Por favor, ingrese un nombre para verificar si se encuentra en la lista (apellido, nombre) grancara, martina luna\n",
            "El estudiante sí se encuentra en la lista\n"
          ]
        }
      ]
    }
  ]
}